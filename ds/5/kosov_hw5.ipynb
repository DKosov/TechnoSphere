{
 "cells": [
  {
   "cell_type": "markdown",
   "metadata": {},
   "source": [
    "# Алгоритмы интеллектуальной обработки больших объемов данных\n",
    "## Домашнее задание №5 - Алгоритмы кластеризации\n"
   ]
  },
  {
   "cell_type": "markdown",
   "metadata": {},
   "source": [
    "###### <hr\\>\n",
    "**Общая информация**\n",
    "\n",
    "**Срок сдачи:** 17 декабря 2018, 06:00 <br\\>\n",
    "**Штраф за опоздание:** -2 балла после 06:00 17 декабря, -4 балла после 06:00 24 декабря, -6 баллов после 06:00 31 декабря -8 баллов  после 06:00 7 января\n",
    "\n",
    "\n",
    "Используйте данный Ipython Notebook при оформлении домашнего задания.\n",
    "<hr\\>"
   ]
  },
  {
   "cell_type": "markdown",
   "metadata": {},
   "source": [
    "**Из чего состоит задание:**\n",
    "\n",
    "###### Теоретические вопросы (2 балла)\n",
    "\n",
    "###### Реализация алгоритма кластеризации (6 баллов)\n",
    "\n",
    "###### Боевое применение (2 балла)\n",
    "\n",
    "\n"
   ]
  },
  {
   "cell_type": "markdown",
   "metadata": {},
   "source": [
    "**Штрафные баллы:**\n",
    "\n",
    "1. Невыполнение PEP8 -1 балл\n",
    "2. Отсутствие фамилии в имени скрипта (скрипт должен называться по аналогии со stroykova_hw4.ipynb) -1 балл\n",
    "3. Все строчки должны быть выполнены. Нужно, чтобы output команды можно было увидеть уже в git'е. В противном случае -1 балл\n",
    "4. При оформлении ДЗ нужно пользоваться данным файлом в качестве шаблона. Не нужно удалять и видоизменять написанный код и текст. В противном случае -1 балл"
   ]
  },
  {
   "cell_type": "markdown",
   "metadata": {},
   "source": [
    "# Определяем, что вам досталось"
   ]
  },
  {
   "cell_type": "markdown",
   "metadata": {},
   "source": [
    "Укажите свою фамилию на русском языке в поле ниже."
   ]
  },
  {
   "cell_type": "code",
   "execution_count": 1,
   "metadata": {},
   "outputs": [
    {
     "name": "stdout",
     "output_type": "stream",
     "text": [
      "Имплементируйте алгоритм кластеризации Hierarchical clustering с поддержкой single-linkage, complete-linkage, average-linkage (параметры - число кластеров, linkage)\n"
     ]
    }
   ],
   "source": [
    "import hashlib\n",
    "\n",
    "def lucky_hash(text):\n",
    "    return int(hashlib.md5(text.encode('utf-8')).hexdigest()[:8], 16) \n",
    "\n",
    "USER_NAME = u\"Иванов\".lower()\n",
    "\n",
    "ALGORITHMS = [\n",
    "    u\"Gaussian Mixture Model с использованием maximum a-posteriori для выбора кластера (параметр - число кластеров)\",\n",
    "    u\"Hierarchical clustering с поддержкой single-linkage, complete-linkage, average-linkage (параметры - число кластеров, linkage)\",]\n",
    "\n",
    "print (\"Имплементируйте алгоритм кластеризации %s\"\\\n",
    "% (\n",
    "    ALGORITHMS[lucky_hash(USER_NAME[::-1]) % 2]\n",
    ") )"
   ]
  },
  {
   "cell_type": "markdown",
   "metadata": {},
   "source": [
    "Не стоит переживать из-за Вашего варианта. Технически оба алгоритма несложно реализовать.  EM алгоритма бояться не стоит, Вам будет нужно просто реализовать уже выведенные формулы для E и M шагов."
   ]
  },
  {
   "cell_type": "code",
   "execution_count": 170,
   "metadata": {},
   "outputs": [
    {
     "name": "stdout",
     "output_type": "stream",
     "text": [
      "Populating the interactive namespace from numpy and matplotlib\n"
     ]
    }
   ],
   "source": [
    "import time\n",
    "import pandas as pd\n",
    "import pylab as pl\n",
    "import numpy as np\n",
    "import scipy.spatial as ss\n",
    "import sklearn.cluster as sc\n",
    "import sklearn.manifold as sm\n",
    "import sklearn.datasets as ds\n",
    "import sklearn.metrics as smt\n",
    "from sklearn.mixture import GaussianMixture\n",
    "from sklearn.cluster import AgglomerativeClustering\n",
    "\n",
    "import matplotlib.pyplot as plt\n",
    "\n",
    "%matplotlib inline\n",
    "\n",
    "plt.style.use('ggplot')\n",
    "plt.rcParams['figure.figsize'] = (12,5)\n",
    "\n",
    "# Plotting config\n",
    "%pylab inline"
   ]
  },
  {
   "cell_type": "markdown",
   "metadata": {},
   "source": [
    "# Теоретическое введение\n"
   ]
  },
  {
   "cell_type": "markdown",
   "metadata": {},
   "source": [
    "Основная задача кластерного анализа — разбиение исходного набора объектов на группы (кластеры) таким образом, чтобы объекты в группе были похожи друг на друга, а объекты из разных групп - отличались. \n",
    "\n",
    "В этой работе мы будем реализовывать один из двух популярных методов кластеризации: разделение смеси нормальных распределений или агломеративную кластеризацию. "
   ]
  },
  {
   "cell_type": "markdown",
   "metadata": {
    "collapsed": true
   },
   "source": [
    "## Смесь нормальных распределений\n",
    "\n"
   ]
  },
  {
   "cell_type": "markdown",
   "metadata": {
    "collapsed": true
   },
   "source": [
    "Предполагаем, что наши данные порождены смесью $k$ нормальных распределений, то есть \n",
    "\n",
    "$$ p(\\mathbf{x}) = \\sum_k \\pi_k \\mathcal{N}(\\mathbf{x} | \\mathbf{\\mu}_k, \\mathbf{\\Sigma}_k) $$,\n",
    "\n",
    "\n",
    "где $\\mathcal{N}$ - многомерное нормальное распределение размерности ${D}$:"
   ]
  },
  {
   "cell_type": "markdown",
   "metadata": {
    "collapsed": true
   },
   "source": [
    "$$\\mathcal{N(\\mathbf{x} | \\mathbf{\\mu}, \\mathbf{\\Sigma}}) = \\frac{1}{(2 \\pi)^{D/2}} \\frac{1}{|\\mathbf{\\Sigma}|^{1/2}} \\exp \\left\\{-\\frac{1}{2}(\\mathbf{x} - \\mathbf{\\mu})^T \\mathbf{\\Sigma^{-1}} (\\mathbf{x} - \\mathbf{\\mu})\\right\\}$$\n",
    "\n",
    "**Параметры**  \n",
    "\n",
    "\n",
    "${D}$-мерный вектор средних\n",
    "\n",
    "$$\\mathbf{\\mu}$$\n",
    "\n",
    "$D \\times D$-мерная матрица ковариации   (симметричная)\n",
    "\n",
    "\n",
    "$$\\mathbf{\\Sigma} = E[(\\mathbf{x} - \\mathbf{\\mu})(\\mathbf{x} - \\mathbf{\\mu})^T]$$\n",
    "\n"
   ]
  },
  {
   "cell_type": "markdown",
   "metadata": {
    "collapsed": true
   },
   "source": [
    "Необходимо оценить параметры $\\pi_k, \\mathbf{\\mu_k}, \\mathbf{\\Sigma_k} $ для всех компонент смеси.  Сделать это можно с помощью EM алгоритма - алгоритма, который находит оценку максимального правдоподобия в задаче со скрытыми переменными. "
   ]
  },
  {
   "cell_type": "markdown",
   "metadata": {},
   "source": [
    "## Expectation Maximization\n",
    "\n",
    "**I** До цикла проинциализировать случайно  $\\mu_k, \\Sigma_k, \\pi_k$ ($\\pi_k$ должны суммироваться в 1)\n",
    "\n",
    "**E** Expectation: при фиксированных $\\mu_k, \\Sigma_k, \\pi_k$\n",
    "$$\n",
    "p(z_k = 1| x_n ) = \\gamma(z_{nk}) = \\frac{\\pi_k \\mathcal{N} (\\mathbf{x}_n | \\mu_k, \\Sigma_k)}{\\sum_{j=1}^K \\pi_j \\mathcal{N} (\\mathbf{x}_n | \\mu_j, \\Sigma_j)}\n",
    "$$\n",
    "**M** Maximization: при фиксированных $\\gamma(z_{nk})$\n",
    "$$\n",
    "N_k = \\sum_{n=1}^N \\gamma(z_{nk}), \\;\\; \\mu_k = \\frac 1 {N_k} \\sum_{n=1}^N \\gamma(z_{nk}) \\mathbf{x}_n\n",
    "$$\n",
    "$$\n",
    "\\Sigma_k = \\frac 1 {N_k} \\sum_{n=1}^N \\gamma(z_{nk}) (\\mathbf{x}_n - \\mu_k)(\\mathbf{x}_n - \\mu_k)^T\n",
    "$$\n",
    "$$\n",
    "\\pi_k = \\frac{N_k}{N}\n",
    "$$\n",
    "**S** Остановиться при достижении сходимости"
   ]
  },
  {
   "cell_type": "markdown",
   "metadata": {},
   "source": [
    "Номер кластера для $n$ объекта будем брать по принципу maximum a-posteriori, то есть относить объект к тому кластеру, у которого максимальна апостериорная вероятность:\n",
    "$$ k_n =  \\arg\\underset{k}\\max  p(z_k = 1| x_n ) =  \\arg\\underset{k}\\max \\gamma(z_{nk}) $$"
   ]
  },
  {
   "cell_type": "markdown",
   "metadata": {
    "collapsed": true
   },
   "source": [
    "## Агломеративная кластеризация"
   ]
  },
  {
   "cell_type": "markdown",
   "metadata": {},
   "source": [
    "Иерархические алгоритмы кластеризации строят на выборке систему вложенных разбиений.  Наиболее часто испоьзуемые иерархические алгоритмы - агломеративные алгоритмы, которые строят ирархию по восходящей, то есть от момента, когда все элементы являются отдельными кластерами, до того момента, пока вся выборка не станет одним кластером."
   ]
  },
  {
   "cell_type": "markdown",
   "metadata": {},
   "source": [
    "Сам алгоритм описать можно примерно так:\n",
    "\n",
    "* начинаем с ситуации, когда каждый объект - отдельный кластер\n",
    "* на каждом шаге совмещаем два наиболее близких кластера\n",
    "* останавливаемся, когда получаем требуемое количество или единственный кластер"
   ]
  },
  {
   "cell_type": "markdown",
   "metadata": {},
   "source": [
    "\n",
    "В данной работе Вам предлагается реализовать три варианта расстояний между кластерами, по которым Вы определяете пару для слияния: \n",
    "* Single linkage\n",
    "$$ d_{min}(C_i, C_j) = \\min_{\\mathbf{x} \\in C_i, \\mathbf{x}' \\in C_j} \\|\\mathbf{x} -\\mathbf{x}' \\| $$\n",
    "\n",
    "* Complete linkage\n",
    "$$ d_{max}(C_i, C_j) = \\max_{\\mathbf{x} \\in C_i, \\mathbf{x}' \\in C_j} \\|\\mathbf{x} -\\mathbf{x}' \\| $$\n",
    "\n",
    "* Average linkage\n",
    "$$ d_{avg}(C_i, C_j) = \\frac{1}{n_i n_j}\\sum_{\\mathbf{x} \\in C_i}\\sum_{\\mathbf{x}' \\in C_j} \\|\\mathbf{x} -\\mathbf{x}' \\| $$\n",
    "\n",
    "Для простоты будем использовать евклидово расстояние между объектами.\n",
    "\n"
   ]
  },
  {
   "cell_type": "markdown",
   "metadata": {},
   "source": [
    "Для того, чтобы на втором этапе нам не пересчитывать заново расстояния между всеми парами кластеров, можно использовать Формулы Ланса-Вильямса, которые позволяют посчитать расстояние между кластерами после объединения, используя только расстояния между кластерами до объедения.  Таким образом, достаточно будет посчитать расстояния только между всеми одноэлементными кластерами (первый этап), а затем пересчитывать расстояния при их объединении через \n",
    "формулы Ланса-Вильямса. \n",
    "\n",
    "Общая  формула выглядит так:\n",
    "$$ d(C_i \\cup C_j, C_k) = a_i \\cdot d(C_i, C_k) + a_j \\cdot d(C_j, C_k) + b \\cdot d(C_i, C_j) + c \\cdot |d(C_i, C_k) - d(C_j, C_k)|$$\n",
    "\n",
    "Можно показать, что все относительно разумные кластерные расстояния можно описать данной формулой. \n",
    "\n",
    "Для интересущих нас linkage:\n",
    "\n",
    "* single-linkage       $a_i = \\frac{1}{2}, a_j =  \\frac{1}{2}, b = 0, c =  - \\frac{1}{2} $\n",
    "\n",
    "* complete-linkage     $a_i = \\frac{1}{2}, a_j =  \\frac{1}{2}, b = 0, c =   \\frac{1}{2} $\n",
    "\n",
    "* average-linkage       $a_i = \\frac{|C_i|}{|C_i \\cup C_j|}, a_j =  \\frac{|C_j|}{|C_i \\cup C_j|}, b = 0, c = 0 $\n",
    "\n"
   ]
  },
  {
   "cell_type": "markdown",
   "metadata": {},
   "source": [
    "# Теоретические вопросы (2 балла)\n",
    "В этой части Вам будут предложены теоретичские вопросы и задачи по теме. Вы, конечно, можете списать их у своего товарища или найти решение в интернете, но учтите, что они обязательно войдут в теоретический коллоквиум. Лучше разобраться в теме сейчас и успешно ответить на коллоквиуме, чем списать, не разобравшись в материале, и быть терзаемым совестью. \n",
    "\n",
    "\n",
    "Формулы надо оформлять в формате **LaTeX**."
   ]
  },
  {
   "cell_type": "markdown",
   "metadata": {},
   "source": [
    "Задача 1. Сходимость kmeans.\n",
    "\n",
    "Метод kmeans является частным случаем EM алгоритма и наиболее простым в обосновании сходимости. Докажите, что kmeans всегда сходится, и итераций не будет превышать $k^N$, где $k$ $-$ число кластеров, $N$ $-$ число объектов\n",
    "\n",
    "Подсказка: Вам стоит рассмотреть функционал, который минимизирует алгоритм, и подумать, как он изменяется на E шаге и на M шаге.\n",
    "\n"
   ]
  },
  {
   "cell_type": "markdown",
   "metadata": {},
   "source": [
    "***Ваше решение здесь***"
   ]
  },
  {
   "cell_type": "markdown",
   "metadata": {},
   "source": [
    "Для каждого элемента (1...N) нужно выбрать один из кластеров (1...k), полный перебор всех возможных вариантов до нахождения оптимальной ситуации займет $k^N$ итераций"
   ]
  },
  {
   "cell_type": "markdown",
   "metadata": {},
   "source": [
    "В алгоритме k-means центроид кластера каждый раз будет смещаться в сторону уменьшения дисперсии между объектами и реальным матожиданием"
   ]
  },
  {
   "cell_type": "markdown",
   "metadata": {},
   "source": [
    "Задача 2. Сходимость EM.\n",
    "\n",
    "Разобравшись со сходимостью kmeans, можно догадаться и до ответа про EM алгоритм.\n",
    "\n",
    "При каком условии на правдоподобие системы EM алгоритм будет  сходиться?\n",
    "\n"
   ]
  },
  {
   "cell_type": "markdown",
   "metadata": {},
   "source": [
    "***Ваше решение здесь***"
   ]
  },
  {
   "cell_type": "markdown",
   "metadata": {},
   "source": [
    "Правдоподобие должно быть ограничено, в частности, в случае с k-means должно существовать математическое ожидание"
   ]
  },
  {
   "cell_type": "markdown",
   "metadata": {},
   "source": [
    "Задача 3. Формулы Ланса-Вильямса.\n",
    "\n",
    "Формулы Ланса-Вильямса крайне удобны для быстрого пересчта расстояний в агломеративной кластеризации. Давайте докажем  формулы для single и complete linkage. \n",
    "\n",
    "Докажите, что:\n",
    "\n",
    "$d_{\\min}(U \\cup V, S) = \\frac{1}{2} d_{\\min}(U, S) + \\frac{1}{2} d_{\\min}(V, S)  - \\frac{1}{2} | d_{\\min}(U, S) - d_{\\min}(V, S) |  $\n",
    "\n",
    "\n",
    "$d_{\\max}(U \\cup V, S) = \\frac{1}{2} d_{\\max}(U, S) + \\frac{1}{2} d_{\\max}(V, S)  + \\frac{1}{2} | d_{\\max}(U, S) - d_{\\max}(V, S) |  $\n",
    "\n",
    "\n"
   ]
  },
  {
   "cell_type": "markdown",
   "metadata": {},
   "source": [
    "***Ваше решение здесь***"
   ]
  },
  {
   "cell_type": "markdown",
   "metadata": {},
   "source": [
    "Если $d_{\\min}(U, S) > d_{\\min}(V, S)$ т.е. $d_{\\min}(U \\cup V, S) = d_{\\min}(V, S)$ \n",
    "\n",
    "то после раскрытия модуля, получаем требуемое:\n",
    "\n",
    "\n",
    "$ d_{\\min}(U \\cup V, S) = \\frac{1}{2} d_{\\min}(U, S) + \\frac{1}{2} d_{\\min}(V, S)  - \\frac{1}{2}d_{\\min}(U, S) + \\frac{1}{2}d_{\\min}(V, S) $\n",
    "\n",
    "$ d_{\\min}(U \\cup V, S) = d_{\\min}(V, S) $\n",
    "\n",
    "Остальное аналогично"
   ]
  },
  {
   "cell_type": "markdown",
   "metadata": {},
   "source": [
    "# Реализация алгоритма кластеризации  (6 баллов)"
   ]
  },
  {
   "cell_type": "markdown",
   "metadata": {},
   "source": [
    "Алгоритм кластеризации должен удовлетворять следующему интерфейсу. Конструктор принимает набор параметров, необходимых для работы алгоритма кластеризации. Метод `fit` подсчитывает параметры модели и возвращает `self`. Метод `predict` возвращает вектор с индексами кластеров для поданных в него объектов `x`. "
   ]
  },
  {
   "cell_type": "code",
   "execution_count": 900,
   "metadata": {},
   "outputs": [],
   "source": [
    "from sklearn.base import BaseEstimator, ClusterMixin\n",
    "\n",
    "\n",
    "class Clustering(BaseEstimator, ClusterMixin):\n",
    "    \"\"\"\n",
    "    Implement clustering algorithm according \n",
    "    \"\"\"\n",
    "    \n",
    "    def __init__(self, linkage='single_linkage', **kwargs):\n",
    "        \"\"\"\n",
    "        Please add necessary algoritm parameters to class constructor.\n",
    "        \"\"\"\n",
    "        self.linkage = linkage\n",
    "        if linkage == 'single_linkage':\n",
    "            self.linkage_ = self.single_linkage\n",
    "        if linkage == 'complete_linkage':\n",
    "            self.linkage_ = self.complete_linkage\n",
    "        if linkage == 'average_linkage':\n",
    "            self.linkage_ = self.average_linkage\n",
    "        return\n",
    "    \n",
    "    def single_linkage(self, U_i, V_i, S):\n",
    "        d_US = self.distances[U_i][S]\n",
    "        d_VS = self.distances[V_i][S]\n",
    "        return 0.5 * d_US + 0.5 * d_VS - 0.5 * np.abs(d_US - d_VS)\n",
    "\n",
    "    def complete_linkage(self, U_i, V_i, S):\n",
    "        d_US = self.distances[U_i][S]\n",
    "        d_VS = self.distances[V_i][S]\n",
    "        return 0.5 * d_US + 0.5 * d_VS + 0.5 * np.abs(d_US - d_VS)\n",
    "\n",
    "    def average_linkage(self, U_i, V_i, S):\n",
    "        a_U = self.hier[self.clusters[U_i]][3]\n",
    "        a_V = self.hier[self.clusters[V_i]][3]\n",
    "        a_UV = a_U + a_V\n",
    "        return a_U / a_UV * self.distances[U_i][S] + \\\n",
    "                a_V / a_UV * self.distances[V_i][S]\n",
    "        \n",
    "    def combine_(self, i):\n",
    "        N = self.distances.shape[0]\n",
    "        cond = np.where(self.distances == np.min(self.distances))\n",
    "        U_i, V_i = cond[0][0], cond[1][0]\n",
    "        U, V = self.clusters[U_i], self.clusters[V_i]\n",
    "\n",
    "        dist = self.distances[U_i, V_i]\n",
    "        mask = np.ones(self.clusters.shape[0], dtype=bool)\n",
    "        mask[U_i], mask[V_i] = False, False\n",
    "        d_UV = np.append(self.linkage_(U_i, V_i, mask), np.inf)\n",
    "        self.clusters = self.clusters[mask]\n",
    "\n",
    "        self.distances = self.distances[:, mask][mask]\n",
    "        buf = np.zeros((N - 1, N - 1))\n",
    "        buf[:-1, :-1] = self.distances\n",
    "        buf[:, -1], buf[-1] = d_UV, d_UV\n",
    "        self.distances = buf\n",
    "\n",
    "        self.hier.append([U, V, dist, \n",
    "                             self.hier[U][3] + self.hier[V][3]])\n",
    "        self.clusters = np.append(self.clusters, i)\n",
    "        \n",
    "    def fit(self, x, y=None):\n",
    "        \"\"\"\n",
    "        Use data matrix x to compute model parameters\n",
    "        \"\"\"\n",
    "        self.x_len = len(x)\n",
    "        self.distances = smt.pairwise_distances(x)\n",
    "        self.hier = [[0, 0, 0, 1] for i in range(self.x_len)]\n",
    "        np.fill_diagonal(self.distances, np.inf)\n",
    "        self.clusters = np.arange(self.x_len)\n",
    "\n",
    "        for i in range(self.x_len, 2 * self.x_len - 1):\n",
    "            self.combine_(i)\n",
    "        self.hier = self.hier[self.x_len:]\n",
    "        return self\n",
    "    \n",
    "    def predict(self, x, n = None):\n",
    "        \"\"\"\n",
    "        Using computed model parameters predict cluster\n",
    "        for all objects from x\n",
    "        \"\"\"\n",
    "        if n is None:\n",
    "            n = 2\n",
    "\n",
    "        self.fit(x)    \n",
    "        \n",
    "        clusters = set(self.hier[-1][:2])\n",
    "        buf = self.hier[-1][1]\n",
    "        for i in [item[:2] for item in self.hier[-2:-n:-1]]:\n",
    "            clusters.update(i[:2])\n",
    "            clusters.remove(buf)\n",
    "            buf = max(clusters)\n",
    "            \n",
    "        clusters_ind = dict(sort([(j, i) for (i, j) in enumerate(clusters)], axis=0))\n",
    "        \n",
    "        labels = np.zeros(self.x_len)\n",
    "        k = np.arange(len(self.hier) - n + 1)\n",
    "        for current_clust in range(self.x_len):\n",
    "            ind = current_clust\n",
    "            for i in k:\n",
    "                if current_clust in self.hier[i][:2]:\n",
    "                    current_clust = (i + self.x_len)\n",
    "            labels[ind] = clusters_ind[current_clust]\n",
    "        \n",
    "        return labels\n"
   ]
  },
  {
   "cell_type": "code",
   "execution_count": 887,
   "metadata": {},
   "outputs": [
    {
     "name": "stdout",
     "output_type": "stream",
     "text": [
      "CPU times: user 4 µs, sys: 1e+03 ns, total: 5 µs\n",
      "Wall time: 7.87 µs\n"
     ]
    },
    {
     "data": {
      "text/plain": [
       "array([ 0.,  0., ...,  1.,  1.])"
      ]
     },
     "execution_count": 887,
     "metadata": {},
     "output_type": "execute_result"
    }
   ],
   "source": [
    "%time\n",
    "kk = Clustering()\n",
    "kk.predict(X_train)"
   ]
  },
  {
   "cell_type": "code",
   "execution_count": 587,
   "metadata": {},
   "outputs": [
    {
     "name": "stdout",
     "output_type": "stream",
     "text": [
      "CPU times: user 3 µs, sys: 1 µs, total: 4 µs\n",
      "Wall time: 7.87 µs\n"
     ]
    },
    {
     "data": {
      "text/plain": [
       "AgglomerativeClustering(affinity='euclidean', compute_full_tree='auto',\n",
       "            connectivity=None, linkage='ward', memory=None, n_clusters=2,\n",
       "            pooling_func='deprecated')"
      ]
     },
     "execution_count": 587,
     "metadata": {},
     "output_type": "execute_result"
    }
   ],
   "source": [
    "%time\n",
    "ss = AgglomerativeClustering(n_clusters=2)\n",
    "ss.fit(X_train)"
   ]
  },
  {
   "cell_type": "markdown",
   "metadata": {},
   "source": [
    "Сначала проверим реализованный алгоритм кластеризации на классическом наборе данных [Iris](http://www.wikiwand.com/en/Iris_flower_data_set). Загрузим данные (они включены в библиотеку sklearn) и посмотрим на то, как они выглядят в двух проекциях (для простоты используем 2 класса из 3)."
   ]
  },
  {
   "cell_type": "code",
   "execution_count": 893,
   "metadata": {},
   "outputs": [
    {
     "data": {
      "image/png": "[encoded data removed]",
      "text/plain": [
       "<Figure size 720x360 with 2 Axes>"
      ]
     },
     "metadata": {
      "needs_background": "light"
     },
     "output_type": "display_data"
    }
   ],
   "source": [
    "iris = ds.load_iris()\n",
    "x_iris = iris.data[:100]\n",
    "y_iris = iris.target[:100]\n",
    "\n",
    "pl.figure(figsize=(10, 5))\n",
    "\n",
    "pl.subplot(1, 2, 1)\n",
    "pl.scatter(x_iris[:, 0], x_iris[:, 1], c=y_iris, cmap=pl.cm.PuOr, lw=0, s=30)\n",
    "plt.xlabel('Sepal length')\n",
    "plt.ylabel('Sepal width')\n",
    "\n",
    "pl.subplot(1, 2, 2)\n",
    "pl.scatter(x_iris[:, 2], x_iris[:, 3], c=y_iris, cmap=pl.cm.PuOr, lw=0, s=30)\n",
    "plt.xlabel('Petal length')\n",
    "plt.ylabel('Petal width')\n",
    "pl.show()"
   ]
  },
  {
   "cell_type": "code",
   "execution_count": 892,
   "metadata": {},
   "outputs": [
    {
     "data": {
      "text/plain": [
       "(array([ 50.,   0.,   0.,   0.,   0.,   0.,   0.,   0.,   0.,  50.]),\n",
       " array([ 0. ,  0.1,  0.2,  0.3,  0.4,  0.5,  0.6,  0.7,  0.8,  0.9,  1. ]),\n",
       " <a list of 10 Patch objects>)"
      ]
     },
     "execution_count": 892,
     "metadata": {},
     "output_type": "execute_result"
    },
    {
     "data": {
      "image/png": "[encoded data removed]",
      "text/plain": [
       "<Figure size 432x288 with 1 Axes>"
      ]
     },
     "metadata": {
      "needs_background": "light"
     },
     "output_type": "display_data"
    }
   ],
   "source": [
    "plt.hist(pred_iris)"
   ]
  },
  {
   "cell_type": "code",
   "execution_count": 891,
   "metadata": {},
   "outputs": [
    {
     "name": "stdout",
     "output_type": "stream",
     "text": [
      "CPU times: user 52.2 ms, sys: 2.64 ms, total: 54.8 ms\n",
      "Wall time: 27 ms\n",
      "Adjusted Rand index for iris is: 1.00\n"
     ]
    }
   ],
   "source": [
    "%time pred_iris = Clustering().predict(X_train, n=2)\n",
    "print (\"Adjusted Rand index for iris is: %.2f\" % smt.adjusted_rand_score(y_train, pred_iris))"
   ]
  },
  {
   "cell_type": "code",
   "execution_count": 646,
   "metadata": {},
   "outputs": [
    {
     "data": {
      "text/plain": [
       "(149, 4)"
      ]
     },
     "execution_count": 646,
     "metadata": {},
     "output_type": "execute_result"
    }
   ],
   "source": [
    "shape(kk.hier)"
   ]
  },
  {
   "cell_type": "code",
   "execution_count": 678,
   "metadata": {},
   "outputs": [
    {
     "data": {
      "text/plain": [
       "array([  0,   1, ..., 146, 147])"
      ]
     },
     "execution_count": 678,
     "metadata": {},
     "output_type": "execute_result"
    }
   ],
   "source": [
    "k = np.arange(len(kk.hier) - 1)\n",
    "k"
   ]
  },
  {
   "cell_type": "code",
   "execution_count": 794,
   "metadata": {},
   "outputs": [],
   "source": []
  },
  {
   "cell_type": "code",
   "execution_count": 832,
   "metadata": {},
   "outputs": [
    {
     "data": {
      "text/plain": [
       "array([ 1.,  1., ...,  0.,  0.])"
      ]
     },
     "execution_count": 832,
     "metadata": {},
     "output_type": "execute_result"
    }
   ],
   "source": [
    "n = 2\n",
    "labels = np.zeros(len(X_train))\n",
    "k = np.arange(len(kk.hier) - n + 1)\n",
    "for current_clust in range(len(X_train)):\n",
    "    ind = current_clust\n",
    "    for i in k:\n",
    "        if current_clust in kk.hier[i][:2]:\n",
    "            current_clust = (i + len(X_train))\n",
    "    labels[ind] = clusters_ind[current_clust]\n",
    "labels"
   ]
  },
  {
   "cell_type": "code",
   "execution_count": 862,
   "metadata": {},
   "outputs": [
    {
     "data": {
      "text/plain": [
       "{294: 0, 297: 1}"
      ]
     },
     "execution_count": 862,
     "metadata": {},
     "output_type": "execute_result"
    }
   ],
   "source": [
    "clusters = set(kk.hier[-1][:2])\n",
    "buf = kk.hier[-1][1]\n",
    "for i in [item[:2] for item in kk.hier[-2:-n:-1]]:\n",
    "    clusters.update(i[:2])\n",
    "    clusters.remove(buf)\n",
    "    buf = max(clusters)\n",
    "\n",
    "clusters_ind = dict(sort([(j, i) for (i, j) in enumerate(clusters)], axis=0))\n",
    "clusters_ind"
   ]
  },
  {
   "cell_type": "code",
   "execution_count": 771,
   "metadata": {},
   "outputs": [
    {
     "data": {
      "text/plain": [
       "{295, 296}"
      ]
     },
     "execution_count": 771,
     "metadata": {},
     "output_type": "execute_result"
    }
   ],
   "source": [
    "sort"
   ]
  },
  {
   "cell_type": "code",
   "execution_count": 746,
   "metadata": {},
   "outputs": [
    {
     "data": {
      "text/plain": [
       "[[101, 142, 0.0, 2],\n",
       " [7, 39, 0.099999999999954528, 2],\n",
       " [128, 132, 0.099999999999954528, 2],\n",
       " [0, 17, 0.099999999999990055, 2],\n",
       " [10, 48, 0.099999999999990055, 2],\n",
       " [9, 34, 0.10000000000002558, 2],\n",
       " [27, 28, 0.14142135623727031, 2],\n",
       " [4, 37, 0.14142135623729543, 2],\n",
       " [63, 91, 0.14142135623729543, 2],\n",
       " [80, 81, 0.14142135623729543, 2],\n",
       " [82, 92, 0.14142135623729543, 2],\n",
       " [95, 96, 0.14142135623729543, 2],\n",
       " [1, 12, 0.14142135623732055, 2],\n",
       " [2, 47, 0.14142135623732055, 2],\n",
       " [8, 38, 0.14142135623732055, 2],\n",
       " [19, 21, 0.14142135623732055, 2],\n",
       " [29, 30, 0.14142135623734567, 2],\n",
       " [57, 93, 0.14142135623734567, 2],\n",
       " [116, 137, 0.14142135623734567, 2],\n",
       " [65, 75, 0.14142135623739593, 2],\n",
       " [127, 138, 0.14142135623744617, 2],\n",
       " [40, 153, 0.15731321849708296, 3],\n",
       " [49, 151, 0.15731321849709323, 3],\n",
       " [45, 162, 0.17071067811867177, 3],\n",
       " [88, 161, 0.17320508075691152, 3],\n",
       " [94, 99, 0.17320508075693203, 2],\n",
       " [112, 139, 0.17320508075693203, 2],\n",
       " [123, 126, 0.17320508075693203, 2],\n",
       " [25, 155, 0.18660254037849297, 3],\n",
       " [3, 163, 0.19318516525782151, 3],\n",
       " [46, 165, 0.19318516525782151, 3],\n",
       " [156, 171, 0.19897133418246982, 5],\n",
       " [23, 26, 0.19999999999998011, 2],\n",
       " [53, 89, 0.20000000000001564, 2],\n",
       " [66, 84, 0.2000000000000334, 2],\n",
       " [74, 97, 0.20000000000005116, 2],\n",
       " [172, 181, 0.21096823167779832, 8],\n",
       " [69, 159, 0.21889010593166502, 3],\n",
       " [173, 178, 0.21955704962306655, 6],\n",
       " [78, 158, 0.22247448713916579, 3],\n",
       " [120, 143, 0.22360679774994083, 2],\n",
       " [110, 147, 0.22360679774997261, 2],\n",
       " [43, 182, 0.24409096442822281, 3],\n",
       " [54, 58, 0.24494897427832246, 2],\n",
       " [103, 168, 0.24494897427832246, 3],\n",
       " [141, 145, 0.24494897427832246, 2],\n",
       " [136, 148, 0.24494897427835147, 2],\n",
       " [140, 144, 0.24494897427838047, 2],\n",
       " [174, 175, 0.24691236184468521, 5],\n",
       " [42, 164, 0.25811388300841903, 3],\n",
       " [166, 179, 0.25868019254874747, 5],\n",
       " [70, 170, 0.26180339887502874, 3],\n",
       " [67, 160, 0.26389584337646826, 3],\n",
       " [157, 186, 0.26417152239168418, 10],\n",
       " [68, 87, 0.26457513110644615, 2],\n",
       " [105, 122, 0.26457513110644615, 2],\n",
       " [107, 130, 0.26457513110644615, 2],\n",
       " [50, 52, 0.26457513110647302, 2],\n",
       " [51, 56, 0.26457513110647302, 2],\n",
       " [113, 150, 0.26457513110647302, 3],\n",
       " [20, 31, 0.28284271247462855, 2],\n",
       " [154, 180, 0.29943679110812471, 5],\n",
       " [6, 11, 0.299999999999982, 2],\n",
       " [188, 200, 0.30220916602998832, 11],\n",
       " [13, 199, 0.30252896726964817, 4],\n",
       " [73, 189, 0.30363504412358455, 4],\n",
       " [190, 197, 0.30680326465925578, 4],\n",
       " [86, 207, 0.30725259575511155, 3],\n",
       " [104, 152, 0.30811388300839426, 3],\n",
       " [146, 177, 0.31612365444952656, 3],\n",
       " [55, 90, 0.31622776601681774, 2],\n",
       " [149, 201, 0.31987520201263397, 4],\n",
       " [121, 209, 0.32137267035641326, 4],\n",
       " [169, 193, 0.32541714375600028, 4],\n",
       " [5, 18, 0.33166247903553914, 2],\n",
       " [83, 133, 0.33166247903553914, 2],\n",
       " [183, 187, 0.33882608816721899, 5],\n",
       " [115, 196, 0.34364916731038653, 3],\n",
       " [32, 33, 0.34641016151376153, 2],\n",
       " [125, 129, 0.34641016151378201, 2],\n",
       " [124, 216, 0.34759837617354955, 5],\n",
       " [36, 210, 0.37024591736438839, 3],\n",
       " [61, 198, 0.37286351395050465, 6],\n",
       " [35, 203, 0.3783161125285795, 11],\n",
       " [76, 217, 0.38369263084104699, 4],\n",
       " [71, 185, 0.38377618669481006, 3],\n",
       " [98, 167, 0.38729833462073987, 3],\n",
       " [176, 195, 0.39107939243815398, 4],\n",
       " [72, 225, 0.39240959812917442, 3],\n",
       " [212, 213, 0.39367409636600992, 13],\n",
       " [16, 211, 0.39723146771478568, 6],\n",
       " [111, 194, 0.41095141291236353, 4],\n",
       " [202, 232, 0.41155182374152866, 9],\n",
       " [117, 131, 0.41231056256171644, 2],\n",
       " [85, 208, 0.4162116540864938, 3],\n",
       " [77, 234, 0.41785850242231026, 5],\n",
       " [192, 233, 0.42485909014979062, 14],\n",
       " [219, 238, 0.4284660726226498, 6],\n",
       " [184, 220, 0.43788526177577103, 4],\n",
       " [64, 79, 0.44721359549996109, 2],\n",
       " [102, 229, 0.45345678844569504, 3],\n",
       " [218, 241, 0.46258784478642989, 7],\n",
       " [224, 240, 0.46389988965904611, 8],\n",
       " [191, 237, 0.47332570750007386, 6],\n",
       " [231, 246, 0.4793623234678534, 17],\n",
       " [118, 205, 0.48001656003348092, 3],\n",
       " [44, 252, 0.49070124636354595, 9],\n",
       " [223, 245, 0.49512107266375216, 9],\n",
       " [206, 250, 0.49626499749657055, 5],\n",
       " [114, 222, 0.50732927338647482, 5],\n",
       " [15, 228, 0.50814948998829901, 3],\n",
       " [215, 235, 0.51149512565394784, 7],\n",
       " [60, 236, 0.51330765071159412, 4],\n",
       " [59, 226, 0.51820434402293292, 6],\n",
       " [214, 239, 0.51928392559397263, 17],\n",
       " [242, 248, 0.52547462960850733, 13],\n",
       " [254, 256, 0.54020316765843601, 26],\n",
       " [14, 260, 0.54853286003568269, 4],\n",
       " [221, 247, 0.54945067025644923, 10],\n",
       " [249, 263, 0.57083401469426176, 8],\n",
       " [244, 261, 0.59489938502390871, 10],\n",
       " [100, 230, 0.60249437884853929, 6],\n",
       " [251, 253, 0.60351941971988132, 13],\n",
       " [227, 271, 0.60629135248137023, 9],\n",
       " [24, 264, 0.60744781617126242, 18],\n",
       " [119, 204, 0.62281163094999537, 3],\n",
       " [259, 268, 0.64119836647015349, 15],\n",
       " [272, 273, 0.67479257799696635, 22],\n",
       " [265, 269, 0.67755323958266256, 21],\n",
       " [135, 258, 0.70654752874420401, 6],\n",
       " [257, 270, 0.71484344206823391, 19],\n",
       " [22, 274, 0.71713567442825166, 19],\n",
       " [266, 281, 0.75409912222955544, 45],\n",
       " [108, 134, 0.75498344352708924, 2],\n",
       " [62, 278, 0.7830780083753961, 22],\n",
       " [275, 276, 0.89378932110111298, 18],\n",
       " [109, 243, 0.89648521600656006, 3],\n",
       " [255, 279, 0.90330902142364566, 9],\n",
       " [280, 285, 0.9172725441033811, 37],\n",
       " [277, 283, 0.96873948185073622, 24],\n",
       " [106, 284, 1.0597878149625428, 23],\n",
       " [267, 282, 1.0692084394601684, 49],\n",
       " [286, 287, 1.0900526881343553, 12],\n",
       " [288, 290, 1.1867785003433791, 60],\n",
       " [41, 291, 1.314187874016604, 50],\n",
       " [289, 292, 1.3809937393292779, 36],\n",
       " [262, 293, 1.7855664820227892, 64],\n",
       " [295, 296, 1.9636140862746509, 100],\n",
       " [294, 297, 4.0626826861180279, 150]]"
      ]
     },
     "execution_count": 746,
     "metadata": {},
     "output_type": "execute_result"
    }
   ],
   "source": [
    "kk.hier"
   ]
  },
  {
   "cell_type": "code",
   "execution_count": 872,
   "metadata": {},
   "outputs": [
    {
     "data": {
      "text/plain": [
       "{'icoord': [[55.0, 55.0, 65.0, 65.0],\n",
       "  [75.0, 75.0, 85.0, 85.0],\n",
       "  [115.0, 115.0, 125.0, 125.0],\n",
       "  [165.0, 165.0, 175.0, 175.0],\n",
       "  [155.0, 155.0, 170.0, 170.0],\n",
       "  [185.0, 185.0, 195.0, 195.0],\n",
       "  [235.0, 235.0, 245.0, 245.0],\n",
       "  [225.0, 225.0, 240.0, 240.0],\n",
       "  [255.0, 255.0, 265.0, 265.0],\n",
       "  [285.0, 285.0, 295.0, 295.0],\n",
       "  [305.0, 305.0, 315.0, 315.0],\n",
       "  [290.0, 290.0, 310.0, 310.0],\n",
       "  [275.0, 275.0, 300.0, 300.0],\n",
       "  [260.0, 260.0, 287.5, 287.5],\n",
       "  [232.5, 232.5, 273.75, 273.75],\n",
       "  [215.0, 215.0, 253.125, 253.125],\n",
       "  [205.0, 205.0, 234.0625, 234.0625],\n",
       "  [335.0, 335.0, 345.0, 345.0],\n",
       "  [325.0, 325.0, 340.0, 340.0],\n",
       "  [219.53125, 219.53125, 332.5, 332.5],\n",
       "  [190.0, 190.0, 276.015625, 276.015625],\n",
       "  [365.0, 365.0, 375.0, 375.0],\n",
       "  [355.0, 355.0, 370.0, 370.0],\n",
       "  [415.0, 415.0, 425.0, 425.0],\n",
       "  [405.0, 405.0, 420.0, 420.0],\n",
       "  [445.0, 445.0, 455.0, 455.0],\n",
       "  [485.0, 485.0, 495.0, 495.0],\n",
       "  [475.0, 475.0, 490.0, 490.0],\n",
       "  [465.0, 465.0, 482.5, 482.5],\n",
       "  [450.0, 450.0, 473.75, 473.75],\n",
       "  [435.0, 435.0, 461.875, 461.875],\n",
       "  [412.5, 412.5, 448.4375, 448.4375],\n",
       "  [395.0, 395.0, 430.46875, 430.46875],\n",
       "  [385.0, 385.0, 412.734375, 412.734375],\n",
       "  [362.5, 362.5, 398.8671875, 398.8671875],\n",
       "  [233.0078125, 233.0078125, 380.68359375, 380.68359375],\n",
       "  [162.5, 162.5, 306.845703125, 306.845703125],\n",
       "  [145.0, 145.0, 234.6728515625, 234.6728515625],\n",
       "  [135.0, 135.0, 189.83642578125, 189.83642578125],\n",
       "  [120.0, 120.0, 162.418212890625, 162.418212890625],\n",
       "  [105.0, 105.0, 141.2091064453125, 141.2091064453125],\n",
       "  [95.0, 95.0, 123.10455322265625, 123.10455322265625],\n",
       "  [80.0, 80.0, 109.05227661132812, 109.05227661132812],\n",
       "  [60.0, 60.0, 94.52613830566406, 94.52613830566406],\n",
       "  [45.0, 45.0, 77.26306915283203, 77.26306915283203],\n",
       "  [35.0, 35.0, 61.131534576416016, 61.131534576416016],\n",
       "  [25.0, 25.0, 48.06576728820801, 48.06576728820801],\n",
       "  [15.0, 15.0, 36.532883644104004, 36.532883644104004],\n",
       "  [5.0, 5.0, 25.766441822052002, 25.766441822052002],\n",
       "  [505.0, 505.0, 515.0, 515.0],\n",
       "  [555.0, 555.0, 565.0, 565.0],\n",
       "  [545.0, 545.0, 560.0, 560.0],\n",
       "  [535.0, 535.0, 552.5, 552.5],\n",
       "  [625.0, 625.0, 635.0, 635.0],\n",
       "  [615.0, 615.0, 630.0, 630.0],\n",
       "  [645.0, 645.0, 655.0, 655.0],\n",
       "  [695.0, 695.0, 705.0, 705.0],\n",
       "  [765.0, 765.0, 775.0, 775.0],\n",
       "  [805.0, 805.0, 815.0, 815.0],\n",
       "  [825.0, 825.0, 835.0, 835.0],\n",
       "  [845.0, 845.0, 855.0, 855.0],\n",
       "  [830.0, 830.0, 850.0, 850.0],\n",
       "  [810.0, 810.0, 840.0, 840.0],\n",
       "  [875.0, 875.0, 885.0, 885.0],\n",
       "  [865.0, 865.0, 880.0, 880.0],\n",
       "  [825.0, 825.0, 872.5, 872.5],\n",
       "  [795.0, 795.0, 848.75, 848.75],\n",
       "  [785.0, 785.0, 821.875, 821.875],\n",
       "  [770.0, 770.0, 803.4375, 803.4375],\n",
       "  [755.0, 755.0, 786.71875, 786.71875],\n",
       "  [925.0, 925.0, 935.0, 935.0],\n",
       "  [915.0, 915.0, 930.0, 930.0],\n",
       "  [905.0, 905.0, 922.5, 922.5],\n",
       "  [965.0, 965.0, 975.0, 975.0],\n",
       "  [955.0, 955.0, 970.0, 970.0],\n",
       "  [985.0, 985.0, 995.0, 995.0],\n",
       "  [962.5, 962.5, 990.0, 990.0],\n",
       "  [1015.0, 1015.0, 1025.0, 1025.0],\n",
       "  [1005.0, 1005.0, 1020.0, 1020.0],\n",
       "  [1075.0, 1075.0, 1085.0, 1085.0],\n",
       "  [1065.0, 1065.0, 1080.0, 1080.0],\n",
       "  [1055.0, 1055.0, 1072.5, 1072.5],\n",
       "  [1045.0, 1045.0, 1063.75, 1063.75],\n",
       "  [1035.0, 1035.0, 1054.375, 1054.375],\n",
       "  [1012.5, 1012.5, 1044.6875, 1044.6875],\n",
       "  [976.25, 976.25, 1028.59375, 1028.59375],\n",
       "  [945.0, 945.0, 1002.421875, 1002.421875],\n",
       "  [1105.0, 1105.0, 1115.0, 1115.0],\n",
       "  [1095.0, 1095.0, 1110.0, 1110.0],\n",
       "  [973.7109375, 973.7109375, 1102.5, 1102.5],\n",
       "  [913.75, 913.75, 1038.10546875, 1038.10546875],\n",
       "  [895.0, 895.0, 975.927734375, 975.927734375],\n",
       "  [770.859375, 770.859375, 935.4638671875, 935.4638671875],\n",
       "  [745.0, 745.0, 853.16162109375, 853.16162109375],\n",
       "  [735.0, 735.0, 799.080810546875, 799.080810546875],\n",
       "  [1125.0, 1125.0, 1135.0, 1135.0],\n",
       "  [1175.0, 1175.0, 1185.0, 1185.0],\n",
       "  [1165.0, 1165.0, 1180.0, 1180.0],\n",
       "  [1205.0, 1205.0, 1215.0, 1215.0],\n",
       "  [1195.0, 1195.0, 1210.0, 1210.0],\n",
       "  [1172.5, 1172.5, 1202.5, 1202.5],\n",
       "  [1155.0, 1155.0, 1187.5, 1187.5],\n",
       "  [1245.0, 1245.0, 1255.0, 1255.0],\n",
       "  [1235.0, 1235.0, 1250.0, 1250.0],\n",
       "  [1225.0, 1225.0, 1242.5, 1242.5],\n",
       "  [1171.25, 1171.25, 1233.75, 1233.75],\n",
       "  [1145.0, 1145.0, 1202.5, 1202.5],\n",
       "  [1130.0, 1130.0, 1173.75, 1173.75],\n",
       "  [1275.0, 1275.0, 1285.0, 1285.0],\n",
       "  [1265.0, 1265.0, 1280.0, 1280.0],\n",
       "  [1295.0, 1295.0, 1305.0, 1305.0],\n",
       "  [1325.0, 1325.0, 1335.0, 1335.0],\n",
       "  [1315.0, 1315.0, 1330.0, 1330.0],\n",
       "  [1300.0, 1300.0, 1322.5, 1322.5],\n",
       "  [1355.0, 1355.0, 1365.0, 1365.0],\n",
       "  [1345.0, 1345.0, 1360.0, 1360.0],\n",
       "  [1385.0, 1385.0, 1395.0, 1395.0],\n",
       "  [1375.0, 1375.0, 1390.0, 1390.0],\n",
       "  [1352.5, 1352.5, 1382.5, 1382.5],\n",
       "  [1405.0, 1405.0, 1415.0, 1415.0],\n",
       "  [1435.0, 1435.0, 1445.0, 1445.0],\n",
       "  [1455.0, 1455.0, 1465.0, 1465.0],\n",
       "  [1440.0, 1440.0, 1460.0, 1460.0],\n",
       "  [1425.0, 1425.0, 1450.0, 1450.0],\n",
       "  [1410.0, 1410.0, 1437.5, 1437.5],\n",
       "  [1367.5, 1367.5, 1423.75, 1423.75],\n",
       "  [1311.25, 1311.25, 1395.625, 1395.625],\n",
       "  [1272.5, 1272.5, 1353.4375, 1353.4375],\n",
       "  [1151.875, 1151.875, 1312.96875, 1312.96875],\n",
       "  [1485.0, 1485.0, 1495.0, 1495.0],\n",
       "  [1475.0, 1475.0, 1490.0, 1490.0],\n",
       "  [1232.421875, 1232.421875, 1482.5, 1482.5],\n",
       "  [767.0404052734375, 767.0404052734375, 1357.4609375, 1357.4609375],\n",
       "  [725.0, 725.0, 1062.2506713867188, 1062.2506713867188],\n",
       "  [715.0, 715.0, 893.6253356933594, 893.6253356933594],\n",
       "  [700.0, 700.0, 804.3126678466797, 804.3126678466797],\n",
       "  [685.0, 685.0, 752.1563339233398, 752.1563339233398],\n",
       "  [675.0, 675.0, 718.5781669616699, 718.5781669616699],\n",
       "  [665.0, 665.0, 696.789083480835, 696.789083480835],\n",
       "  [650.0, 650.0, 680.8945417404175, 680.8945417404175],\n",
       "  [622.5, 622.5, 665.4472708702087, 665.4472708702087],\n",
       "  [605.0, 605.0, 643.9736354351044, 643.9736354351044],\n",
       "  [595.0, 595.0, 624.4868177175522, 624.4868177175522],\n",
       "  [585.0, 585.0, 609.7434088587761, 609.7434088587761],\n",
       "  [575.0, 575.0, 597.371704429388, 597.371704429388],\n",
       "  [543.75, 543.75, 586.185852214694, 586.185852214694],\n",
       "  [525.0, 525.0, 564.967926107347, 564.967926107347],\n",
       "  [510.0, 510.0, 544.9839630536735, 544.9839630536735],\n",
       "  [15.383220911026001,\n",
       "   15.383220911026001,\n",
       "   527.4919815268368,\n",
       "   527.4919815268368]],\n",
       " 'dcoord': [[0.0, 0.34641016151376153, 0.34641016151376153, 0.0],\n",
       "  [0.0, 0.33166247903553914, 0.33166247903553914, 0.0],\n",
       "  [0.0, 0.28284271247462855, 0.28284271247462855, 0.0],\n",
       "  [0.0, 0.14142135623732055, 0.14142135623732055, 0.0],\n",
       "  [0.0, 0.14142135623732055, 0.14142135623732055, 0.14142135623732055],\n",
       "  [0.0, 0.099999999999990055, 0.099999999999990055, 0.0],\n",
       "  [0.0, 0.099999999999954528, 0.099999999999954528, 0.0],\n",
       "  [0.0, 0.14142135623729546, 0.14142135623729546, 0.099999999999954528],\n",
       "  [0.0, 0.14142135623727031, 0.14142135623727031, 0.0],\n",
       "  [0.0, 0.099999999999990055, 0.099999999999990055, 0.0],\n",
       "  [0.0, 0.14142135623729543, 0.14142135623729543, 0.0],\n",
       "  [0.099999999999990055,\n",
       "   0.1414213562372954,\n",
       "   0.1414213562372954,\n",
       "   0.14142135623729543],\n",
       "  [0.0, 0.14142135623729546, 0.14142135623729546, 0.1414213562372954],\n",
       "  [0.14142135623727031,\n",
       "   0.14142135623729546,\n",
       "   0.14142135623729546,\n",
       "   0.14142135623729546],\n",
       "  [0.14142135623729546,\n",
       "   0.14142135623729546,\n",
       "   0.14142135623729546,\n",
       "   0.14142135623729546],\n",
       "  [0.0, 0.22360679774997261, 0.22360679774997261, 0.14142135623729546],\n",
       "  [0.0, 0.22360679774997261, 0.22360679774997261, 0.22360679774997261],\n",
       "  [0.0, 0.19999999999998011, 0.19999999999998011, 0.0],\n",
       "  [0.0, 0.22360679774997261, 0.22360679774997261, 0.19999999999998011],\n",
       "  [0.22360679774997261,\n",
       "   0.22360679774997261,\n",
       "   0.22360679774997261,\n",
       "   0.22360679774997261],\n",
       "  [0.099999999999990055,\n",
       "   0.22360679774998851,\n",
       "   0.22360679774998851,\n",
       "   0.22360679774997261],\n",
       "  [0.0, 0.14142135623732055, 0.14142135623732055, 0.0],\n",
       "  [0.0, 0.1999999999999979, 0.1999999999999979, 0.14142135623732055],\n",
       "  [0.0, 0.14142135623732055, 0.14142135623732055, 0.0],\n",
       "  [0.0, 0.14142135623732055, 0.14142135623732055, 0.14142135623732055],\n",
       "  [0.0, 0.14142135623732055, 0.14142135623732055, 0.0],\n",
       "  [0.0, 0.10000000000002558, 0.10000000000002558, 0.0],\n",
       "  [0.0, 0.14142135623734564, 0.14142135623734564, 0.10000000000002558],\n",
       "  [0.0, 0.14142135623734564, 0.14142135623734564, 0.14142135623734564],\n",
       "  [0.14142135623732055,\n",
       "   0.14142135623734564,\n",
       "   0.14142135623734564,\n",
       "   0.14142135623734564],\n",
       "  [0.0, 0.14142135623734564, 0.14142135623734564, 0.14142135623734564],\n",
       "  [0.14142135623732055,\n",
       "   0.17320508075693203,\n",
       "   0.17320508075693203,\n",
       "   0.14142135623734564],\n",
       "  [0.0, 0.1732050807569526, 0.1732050807569526, 0.17320508075693203],\n",
       "  [0.0, 0.22360679774995673, 0.22360679774995673, 0.1732050807569526],\n",
       "  [0.1999999999999979,\n",
       "   0.22360679775000436,\n",
       "   0.22360679775000436,\n",
       "   0.22360679774995673],\n",
       "  [0.22360679774998851,\n",
       "   0.22360679775000436,\n",
       "   0.22360679775000436,\n",
       "   0.22360679775000436],\n",
       "  [0.14142135623732055,\n",
       "   0.24494897427832241,\n",
       "   0.24494897427832241,\n",
       "   0.22360679775000436],\n",
       "  [0.0, 0.24494897427832241, 0.24494897427832241, 0.24494897427832241],\n",
       "  [0.0, 0.29999999999998206, 0.29999999999998206, 0.24494897427832241],\n",
       "  [0.28284271247462855,\n",
       "   0.29999999999999383,\n",
       "   0.29999999999999383,\n",
       "   0.29999999999998206],\n",
       "  [0.0, 0.30000000000000582, 0.30000000000000582, 0.29999999999999383],\n",
       "  [0.0, 0.34641016151376158, 0.34641016151376158, 0.30000000000000582],\n",
       "  [0.33166247903553914,\n",
       "   0.34641016151378201,\n",
       "   0.34641016151378201,\n",
       "   0.34641016151376158],\n",
       "  [0.34641016151376153,\n",
       "   0.34641016151378201,\n",
       "   0.34641016151378201,\n",
       "   0.34641016151378201],\n",
       "  [0.0, 0.36055512754639274, 0.36055512754639274, 0.34641016151378201],\n",
       "  [0.0, 0.3605551275464125, 0.3605551275464125, 0.36055512754639274],\n",
       "  [0.0, 0.41231056256176823, 0.41231056256176823, 0.3605551275464125],\n",
       "  [0.0, 0.45825756949557706, 0.45825756949557706, 0.41231056256176823],\n",
       "  [0.0, 0.62449979983984605, 0.62449979983984605, 0.45825756949557706],\n",
       "  [0.0, 0.41231056256171644, 0.41231056256171644, 0.0],\n",
       "  [0.0, 0.14142135623734567, 0.14142135623734567, 0.0],\n",
       "  [0.0, 0.3605551275464024, 0.3605551275464024, 0.14142135623734567],\n",
       "  [0.0, 0.38729833462073981, 0.38729833462073981, 0.3605551275464024],\n",
       "  [0.0, 0.26457513110644615, 0.26457513110644615, 0.0],\n",
       "  [0.0, 0.41231056256178533, 0.41231056256178533, 0.26457513110644615],\n",
       "  [0.0, 0.26457513110644615, 0.26457513110644615, 0.0],\n",
       "  [0.0, 0.26457513110644615, 0.26457513110644615, 0.0],\n",
       "  [0.0, 0.26457513110647302, 0.26457513110647302, 0.0],\n",
       "  [0.0, 0.20000000000005116, 0.20000000000005116, 0.0],\n",
       "  [0.0, 0.14142135623739593, 0.14142135623739593, 0.0],\n",
       "  [0.0, 0.24494897427832246, 0.24494897427832246, 0.0],\n",
       "  [0.14142135623739593,\n",
       "   0.24494897427832252,\n",
       "   0.24494897427832252,\n",
       "   0.24494897427832246],\n",
       "  [0.20000000000005116,\n",
       "   0.26457513110649988,\n",
       "   0.26457513110649988,\n",
       "   0.24494897427832252],\n",
       "  [0.0, 0.26457513110647302, 0.26457513110647302, 0.0],\n",
       "  [0.0, 0.2828427124746411, 0.2828427124746411, 0.26457513110647302],\n",
       "  [0.26457513110649988,\n",
       "   0.316227766016829,\n",
       "   0.316227766016829,\n",
       "   0.2828427124746411],\n",
       "  [0.0, 0.31622776601687386, 0.31622776601687386, 0.316227766016829],\n",
       "  [0.0, 0.31622776601687386, 0.31622776601687386, 0.31622776601687386],\n",
       "  [0.26457513110647302,\n",
       "   0.31622776601687386,\n",
       "   0.31622776601687386,\n",
       "   0.31622776601687386],\n",
       "  [0.0, 0.33166247903553914, 0.33166247903553914, 0.31622776601687386],\n",
       "  [0.0, 0.14142135623729543, 0.14142135623729543, 0.0],\n",
       "  [0.0, 0.19999999999998011, 0.19999999999998011, 0.14142135623729543],\n",
       "  [0.0, 0.22360679775000439, 0.22360679775000439, 0.19999999999998011],\n",
       "  [0.0, 0.14142135623729543, 0.14142135623729543, 0.0],\n",
       "  [0.0, 0.17320508075687047, 0.17320508075687047, 0.14142135623729543],\n",
       "  [0.0, 0.20000000000001564, 0.20000000000001564, 0.0],\n",
       "  [0.17320508075687047,\n",
       "   0.24494897427830789,\n",
       "   0.24494897427830789,\n",
       "   0.20000000000001564],\n",
       "  [0.0, 0.14142135623729543, 0.14142135623729543, 0.0],\n",
       "  [0.0, 0.24494897427830797, 0.24494897427830797, 0.14142135623729543],\n",
       "  [0.0, 0.14142135623729543, 0.14142135623729543, 0.0],\n",
       "  [0.0, 0.1414213562373457, 0.1414213562373457, 0.14142135623729543],\n",
       "  [0.0, 0.17320508075689101, 0.17320508075689101, 0.1414213562373457],\n",
       "  [0.0, 0.17320508075693203, 0.17320508075693203, 0.17320508075689101],\n",
       "  [0.0, 0.26457513110644615, 0.26457513110644615, 0.17320508075693203],\n",
       "  [0.24494897427830797,\n",
       "   0.26457513110644615,\n",
       "   0.26457513110644615,\n",
       "   0.26457513110644615],\n",
       "  [0.24494897427830789,\n",
       "   0.26457513110645958,\n",
       "   0.26457513110645958,\n",
       "   0.26457513110644615],\n",
       "  [0.0, 0.29999999999998195, 0.29999999999998195, 0.26457513110645958],\n",
       "  [0.0, 0.2000000000000334, 0.2000000000000334, 0.0],\n",
       "  [0.0, 0.29999999999999383, 0.29999999999999383, 0.2000000000000334],\n",
       "  [0.29999999999998195,\n",
       "   0.31622776601681779,\n",
       "   0.31622776601681779,\n",
       "   0.29999999999999383],\n",
       "  [0.22360679775000439,\n",
       "   0.33166247903553914,\n",
       "   0.33166247903553914,\n",
       "   0.31622776601681779],\n",
       "  [0.0, 0.34641016151376158, 0.34641016151376158, 0.33166247903553914],\n",
       "  [0.33166247903553914,\n",
       "   0.34641016151376158,\n",
       "   0.34641016151376158,\n",
       "   0.34641016151376158],\n",
       "  [0.0, 0.37416573867739489, 0.37416573867739489, 0.34641016151376158],\n",
       "  [0.0, 0.3872983346207306, 0.3872983346207306, 0.37416573867739489],\n",
       "  [0.0, 0.33166247903553914, 0.33166247903553914, 0.0],\n",
       "  [0.0, 0.14142135623744617, 0.14142135623744617, 0.0],\n",
       "  [0.0, 0.22360679775000442, 0.22360679775000442, 0.14142135623744617],\n",
       "  [0.0, 0.17320508075693203, 0.17320508075693203, 0.0],\n",
       "  [0.0, 0.24494897427832246, 0.24494897427832246, 0.17320508075693203],\n",
       "  [0.22360679775000442,\n",
       "   0.24494897427838047,\n",
       "   0.24494897427838047,\n",
       "   0.24494897427832246],\n",
       "  [0.0, 0.2828427124746411, 0.2828427124746411, 0.24494897427838047],\n",
       "  [0.0, 0.0, 0.0, 0.0],\n",
       "  [0.0, 0.26457513110647302, 0.26457513110647302, 0.0],\n",
       "  [0.0, 0.31622776601682889, 0.31622776601682889, 0.26457513110647302],\n",
       "  [0.2828427124746411,\n",
       "   0.33166247903553914,\n",
       "   0.33166247903553914,\n",
       "   0.31622776601682889],\n",
       "  [0.0, 0.36055512754639252, 0.36055512754639252, 0.33166247903553914],\n",
       "  [0.33166247903553914,\n",
       "   0.36055512754639252,\n",
       "   0.36055512754639252,\n",
       "   0.36055512754639252],\n",
       "  [0.0, 0.24494897427835147, 0.24494897427835147, 0.0],\n",
       "  [0.0, 0.30000000000000571, 0.30000000000000571, 0.24494897427835147],\n",
       "  [0.0, 0.24494897427832246, 0.24494897427832246, 0.0],\n",
       "  [0.0, 0.22360679774997261, 0.22360679774997261, 0.0],\n",
       "  [0.0, 0.34641016151380255, 0.34641016151380255, 0.22360679774997261],\n",
       "  [0.24494897427832246,\n",
       "   0.36055512754641228,\n",
       "   0.36055512754641228,\n",
       "   0.34641016151380255],\n",
       "  [0.0, 0.14142135623734567, 0.14142135623734567, 0.0],\n",
       "  [0.0, 0.24494897427832246, 0.24494897427832246, 0.14142135623734567],\n",
       "  [0.0, 0.099999999999954528, 0.099999999999954528, 0.0],\n",
       "  [0.0, 0.29999999999998206, 0.29999999999998206, 0.099999999999954528],\n",
       "  [0.24494897427832246,\n",
       "   0.33166247903551771,\n",
       "   0.33166247903551771,\n",
       "   0.29999999999998206],\n",
       "  [0.0, 0.17320508075693203, 0.17320508075693203, 0.0],\n",
       "  [0.0, 0.22360679774994083, 0.22360679774994083, 0.0],\n",
       "  [0.0, 0.24494897427838047, 0.24494897427838047, 0.0],\n",
       "  [0.22360679774994083,\n",
       "   0.26457513110647302,\n",
       "   0.26457513110647302,\n",
       "   0.24494897427838047],\n",
       "  [0.0, 0.29999999999998206, 0.29999999999998206, 0.26457513110647302],\n",
       "  [0.17320508075693203,\n",
       "   0.34641016151376158,\n",
       "   0.34641016151376158,\n",
       "   0.29999999999998206],\n",
       "  [0.33166247903551771,\n",
       "   0.36055512754641228,\n",
       "   0.36055512754641228,\n",
       "   0.34641016151376158],\n",
       "  [0.36055512754641228,\n",
       "   0.36055512754643204,\n",
       "   0.36055512754643204,\n",
       "   0.36055512754641228],\n",
       "  [0.30000000000000571,\n",
       "   0.37416573867737579,\n",
       "   0.37416573867737579,\n",
       "   0.36055512754643204],\n",
       "  [0.36055512754639252,\n",
       "   0.37416573867743286,\n",
       "   0.37416573867743286,\n",
       "   0.37416573867737579],\n",
       "  [0.0, 0.34641016151378201, 0.34641016151378201, 0.0],\n",
       "  [0.0, 0.38729833462073071, 0.38729833462073071, 0.34641016151378201],\n",
       "  [0.37416573867743286,\n",
       "   0.39999999999997815,\n",
       "   0.39999999999997815,\n",
       "   0.38729833462073071],\n",
       "  [0.3872983346207306,\n",
       "   0.4123105625617336,\n",
       "   0.4123105625617336,\n",
       "   0.39999999999997815],\n",
       "  [0.0, 0.42426406871193656, 0.42426406871193656, 0.4123105625617336],\n",
       "  [0.0, 0.42426406871193656, 0.42426406871193656, 0.42426406871193656],\n",
       "  [0.26457513110644615,\n",
       "   0.43588989435408099,\n",
       "   0.43588989435408099,\n",
       "   0.42426406871193656],\n",
       "  [0.0, 0.4358898943540811, 0.4358898943540811, 0.43588989435408099],\n",
       "  [0.0, 0.48989794855664526, 0.48989794855664526, 0.4358898943540811],\n",
       "  [0.0, 0.48989794855665947, 0.48989794855665947, 0.48989794855664526],\n",
       "  [0.26457513110644615,\n",
       "   0.50990195135928351,\n",
       "   0.50990195135928351,\n",
       "   0.48989794855665947],\n",
       "  [0.41231056256178533,\n",
       "   0.52915026221291939,\n",
       "   0.52915026221291939,\n",
       "   0.50990195135928351],\n",
       "  [0.0, 0.53851648071341662, 0.53851648071341662, 0.52915026221291939],\n",
       "  [0.0, 0.53851648071344305, 0.53851648071344305, 0.53851648071341662],\n",
       "  [0.0, 0.55677643628300411, 0.55677643628300411, 0.53851648071344305],\n",
       "  [0.0, 0.63245553203366878, 0.63245553203366878, 0.55677643628300411],\n",
       "  [0.38729833462073981,\n",
       "   0.64807406984079297,\n",
       "   0.64807406984079297,\n",
       "   0.63245553203366878],\n",
       "  [0.0, 0.73484692283495301, 0.73484692283495301, 0.64807406984079297],\n",
       "  [0.41231056256171644,\n",
       "   0.81853527718723718,\n",
       "   0.81853527718723718,\n",
       "   0.73484692283495301],\n",
       "  [0.62449979983984605,\n",
       "   1.6401219466856718,\n",
       "   1.6401219466856718,\n",
       "   0.81853527718723718]],\n",
       " 'ivl': ['41',\n",
       "  '22',\n",
       "  '14',\n",
       "  '44',\n",
       "  '15',\n",
       "  '32',\n",
       "  '33',\n",
       "  '5',\n",
       "  '18',\n",
       "  '16',\n",
       "  '24',\n",
       "  '20',\n",
       "  '31',\n",
       "  '36',\n",
       "  '13',\n",
       "  '46',\n",
       "  '19',\n",
       "  '21',\n",
       "  '10',\n",
       "  '48',\n",
       "  '35',\n",
       "  '11',\n",
       "  '49',\n",
       "  '7',\n",
       "  '39',\n",
       "  '27',\n",
       "  '28',\n",
       "  '40',\n",
       "  '0',\n",
       "  '17',\n",
       "  '4',\n",
       "  '37',\n",
       "  '43',\n",
       "  '23',\n",
       "  '26',\n",
       "  '42',\n",
       "  '8',\n",
       "  '38',\n",
       "  '6',\n",
       "  '25',\n",
       "  '3',\n",
       "  '2',\n",
       "  '47',\n",
       "  '45',\n",
       "  '1',\n",
       "  '12',\n",
       "  '29',\n",
       "  '30',\n",
       "  '9',\n",
       "  '34',\n",
       "  '117',\n",
       "  '131',\n",
       "  '106',\n",
       "  '98',\n",
       "  '60',\n",
       "  '57',\n",
       "  '93',\n",
       "  '109',\n",
       "  '108',\n",
       "  '134',\n",
       "  '135',\n",
       "  '118',\n",
       "  '105',\n",
       "  '122',\n",
       "  '68',\n",
       "  '87',\n",
       "  '114',\n",
       "  '62',\n",
       "  '119',\n",
       "  '107',\n",
       "  '130',\n",
       "  '100',\n",
       "  '64',\n",
       "  '59',\n",
       "  '85',\n",
       "  '71',\n",
       "  '51',\n",
       "  '56',\n",
       "  '77',\n",
       "  '76',\n",
       "  '74',\n",
       "  '97',\n",
       "  '65',\n",
       "  '75',\n",
       "  '54',\n",
       "  '58',\n",
       "  '86',\n",
       "  '50',\n",
       "  '52',\n",
       "  '79',\n",
       "  '73',\n",
       "  '78',\n",
       "  '63',\n",
       "  '91',\n",
       "  '61',\n",
       "  '69',\n",
       "  '80',\n",
       "  '81',\n",
       "  '53',\n",
       "  '89',\n",
       "  '67',\n",
       "  '82',\n",
       "  '92',\n",
       "  '90',\n",
       "  '94',\n",
       "  '88',\n",
       "  '99',\n",
       "  '95',\n",
       "  '96',\n",
       "  '55',\n",
       "  '66',\n",
       "  '84',\n",
       "  '83',\n",
       "  '133',\n",
       "  '72',\n",
       "  '149',\n",
       "  '70',\n",
       "  '127',\n",
       "  '138',\n",
       "  '146',\n",
       "  '123',\n",
       "  '126',\n",
       "  '121',\n",
       "  '113',\n",
       "  '101',\n",
       "  '142',\n",
       "  '115',\n",
       "  '136',\n",
       "  '148',\n",
       "  '141',\n",
       "  '145',\n",
       "  '111',\n",
       "  '110',\n",
       "  '147',\n",
       "  '103',\n",
       "  '116',\n",
       "  '137',\n",
       "  '104',\n",
       "  '128',\n",
       "  '132',\n",
       "  '112',\n",
       "  '139',\n",
       "  '124',\n",
       "  '120',\n",
       "  '143',\n",
       "  '140',\n",
       "  '144',\n",
       "  '102',\n",
       "  '125',\n",
       "  '129'],\n",
       " 'leaves': [41,\n",
       "  22,\n",
       "  14,\n",
       "  44,\n",
       "  15,\n",
       "  32,\n",
       "  33,\n",
       "  5,\n",
       "  18,\n",
       "  16,\n",
       "  24,\n",
       "  20,\n",
       "  31,\n",
       "  36,\n",
       "  13,\n",
       "  46,\n",
       "  19,\n",
       "  21,\n",
       "  10,\n",
       "  48,\n",
       "  35,\n",
       "  11,\n",
       "  49,\n",
       "  7,\n",
       "  39,\n",
       "  27,\n",
       "  28,\n",
       "  40,\n",
       "  0,\n",
       "  17,\n",
       "  4,\n",
       "  37,\n",
       "  43,\n",
       "  23,\n",
       "  26,\n",
       "  42,\n",
       "  8,\n",
       "  38,\n",
       "  6,\n",
       "  25,\n",
       "  3,\n",
       "  2,\n",
       "  47,\n",
       "  45,\n",
       "  1,\n",
       "  12,\n",
       "  29,\n",
       "  30,\n",
       "  9,\n",
       "  34,\n",
       "  117,\n",
       "  131,\n",
       "  106,\n",
       "  98,\n",
       "  60,\n",
       "  57,\n",
       "  93,\n",
       "  109,\n",
       "  108,\n",
       "  134,\n",
       "  135,\n",
       "  118,\n",
       "  105,\n",
       "  122,\n",
       "  68,\n",
       "  87,\n",
       "  114,\n",
       "  62,\n",
       "  119,\n",
       "  107,\n",
       "  130,\n",
       "  100,\n",
       "  64,\n",
       "  59,\n",
       "  85,\n",
       "  71,\n",
       "  51,\n",
       "  56,\n",
       "  77,\n",
       "  76,\n",
       "  74,\n",
       "  97,\n",
       "  65,\n",
       "  75,\n",
       "  54,\n",
       "  58,\n",
       "  86,\n",
       "  50,\n",
       "  52,\n",
       "  79,\n",
       "  73,\n",
       "  78,\n",
       "  63,\n",
       "  91,\n",
       "  61,\n",
       "  69,\n",
       "  80,\n",
       "  81,\n",
       "  53,\n",
       "  89,\n",
       "  67,\n",
       "  82,\n",
       "  92,\n",
       "  90,\n",
       "  94,\n",
       "  88,\n",
       "  99,\n",
       "  95,\n",
       "  96,\n",
       "  55,\n",
       "  66,\n",
       "  84,\n",
       "  83,\n",
       "  133,\n",
       "  72,\n",
       "  149,\n",
       "  70,\n",
       "  127,\n",
       "  138,\n",
       "  146,\n",
       "  123,\n",
       "  126,\n",
       "  121,\n",
       "  113,\n",
       "  101,\n",
       "  142,\n",
       "  115,\n",
       "  136,\n",
       "  148,\n",
       "  141,\n",
       "  145,\n",
       "  111,\n",
       "  110,\n",
       "  147,\n",
       "  103,\n",
       "  116,\n",
       "  137,\n",
       "  104,\n",
       "  128,\n",
       "  132,\n",
       "  112,\n",
       "  139,\n",
       "  124,\n",
       "  120,\n",
       "  143,\n",
       "  140,\n",
       "  144,\n",
       "  102,\n",
       "  125,\n",
       "  129],\n",
       " 'color_list': ['g',\n",
       "  'g',\n",
       "  'g',\n",
       "  'g',\n",
       "  'g',\n",
       "  'g',\n",
       "  'g',\n",
       "  'g',\n",
       "  'g',\n",
       "  'g',\n",
       "  'g',\n",
       "  'g',\n",
       "  'g',\n",
       "  'g',\n",
       "  'g',\n",
       "  'g',\n",
       "  'g',\n",
       "  'g',\n",
       "  'g',\n",
       "  'g',\n",
       "  'g',\n",
       "  'g',\n",
       "  'g',\n",
       "  'g',\n",
       "  'g',\n",
       "  'g',\n",
       "  'g',\n",
       "  'g',\n",
       "  'g',\n",
       "  'g',\n",
       "  'g',\n",
       "  'g',\n",
       "  'g',\n",
       "  'g',\n",
       "  'g',\n",
       "  'g',\n",
       "  'g',\n",
       "  'g',\n",
       "  'g',\n",
       "  'g',\n",
       "  'g',\n",
       "  'g',\n",
       "  'g',\n",
       "  'g',\n",
       "  'g',\n",
       "  'g',\n",
       "  'g',\n",
       "  'g',\n",
       "  'g',\n",
       "  'r',\n",
       "  'r',\n",
       "  'r',\n",
       "  'r',\n",
       "  'r',\n",
       "  'r',\n",
       "  'r',\n",
       "  'r',\n",
       "  'r',\n",
       "  'r',\n",
       "  'r',\n",
       "  'r',\n",
       "  'r',\n",
       "  'r',\n",
       "  'r',\n",
       "  'r',\n",
       "  'r',\n",
       "  'r',\n",
       "  'r',\n",
       "  'r',\n",
       "  'r',\n",
       "  'r',\n",
       "  'r',\n",
       "  'r',\n",
       "  'r',\n",
       "  'r',\n",
       "  'r',\n",
       "  'r',\n",
       "  'r',\n",
       "  'r',\n",
       "  'r',\n",
       "  'r',\n",
       "  'r',\n",
       "  'r',\n",
       "  'r',\n",
       "  'r',\n",
       "  'r',\n",
       "  'r',\n",
       "  'r',\n",
       "  'r',\n",
       "  'r',\n",
       "  'r',\n",
       "  'r',\n",
       "  'r',\n",
       "  'r',\n",
       "  'r',\n",
       "  'r',\n",
       "  'r',\n",
       "  'r',\n",
       "  'r',\n",
       "  'r',\n",
       "  'r',\n",
       "  'r',\n",
       "  'r',\n",
       "  'r',\n",
       "  'r',\n",
       "  'r',\n",
       "  'r',\n",
       "  'r',\n",
       "  'r',\n",
       "  'r',\n",
       "  'r',\n",
       "  'r',\n",
       "  'r',\n",
       "  'r',\n",
       "  'r',\n",
       "  'r',\n",
       "  'r',\n",
       "  'r',\n",
       "  'r',\n",
       "  'r',\n",
       "  'r',\n",
       "  'r',\n",
       "  'r',\n",
       "  'r',\n",
       "  'r',\n",
       "  'r',\n",
       "  'r',\n",
       "  'r',\n",
       "  'r',\n",
       "  'r',\n",
       "  'r',\n",
       "  'r',\n",
       "  'r',\n",
       "  'r',\n",
       "  'r',\n",
       "  'r',\n",
       "  'r',\n",
       "  'r',\n",
       "  'r',\n",
       "  'r',\n",
       "  'r',\n",
       "  'r',\n",
       "  'r',\n",
       "  'r',\n",
       "  'r',\n",
       "  'r',\n",
       "  'r',\n",
       "  'r',\n",
       "  'b']}"
      ]
     },
     "execution_count": 872,
     "metadata": {},
     "output_type": "execute_result"
    },
    {
     "data": {
      "image/png": "[encoded data removed]",
      "text/plain": [
       "<Figure size 432x288 with 1 Axes>"
      ]
     },
     "metadata": {
      "needs_background": "light"
     },
     "output_type": "display_data"
    }
   ],
   "source": [
    "dendrogram(kk.hier)"
   ]
  },
  {
   "cell_type": "code",
   "execution_count": 533,
   "metadata": {},
   "outputs": [
    {
     "data": {
      "text/plain": [
       "array([[ inf]])"
      ]
     },
     "execution_count": 533,
     "metadata": {},
     "output_type": "execute_result"
    }
   ],
   "source": [
    "kk.distances"
   ]
  },
  {
   "cell_type": "code",
   "execution_count": 394,
   "metadata": {},
   "outputs": [
    {
     "data": {
      "text/plain": [
       "array([  1.,   2.,   3.,   4.,   5.,  inf])"
      ]
     },
     "execution_count": 394,
     "metadata": {},
     "output_type": "execute_result"
    }
   ],
   "source": [
    "a = np.array([1, 2, 3, 4, 5])\n",
    "np.append(a, np.inf)"
   ]
  },
  {
   "cell_type": "code",
   "execution_count": 217,
   "metadata": {
    "collapsed": true
   },
   "outputs": [
    {
     "data": {
      "text/plain": [
       "array([[ 0, 17,  4, ..., 83, 52, 77],\n",
       "       [ 1, 34, 45, ..., 83, 52, 77],\n",
       "       [ 2, 47,  3, ..., 83, 52, 77],\n",
       "       ..., \n",
       "       [97, 74, 71, ..., 42, 22, 13],\n",
       "       [98, 57, 93, ..., 50, 77, 52],\n",
       "       [99, 96, 94, ..., 14, 13, 22]])"
      ]
     },
     "execution_count": 217,
     "metadata": {},
     "output_type": "execute_result"
    }
   ],
   "source": [
    "np.argsort(kk.distances)"
   ]
  },
  {
   "cell_type": "code",
   "execution_count": 201,
   "metadata": {},
   "outputs": [
    {
     "data": {
      "text/plain": [
       "array([[ 5.1,  3.5,  1.4,  0.2]])"
      ]
     },
     "execution_count": 201,
     "metadata": {},
     "output_type": "execute_result"
    }
   ],
   "source": [
    "X_train[kk.clusters[0]]"
   ]
  },
  {
   "cell_type": "code",
   "execution_count": 556,
   "metadata": {},
   "outputs": [
    {
     "data": {
      "text/plain": [
       "{'icoord': [[5.0, 5.0, 15.0, 15.0],\n",
       "  [35.0, 35.0, 45.0, 45.0],\n",
       "  [25.0, 25.0, 40.0, 40.0],\n",
       "  [10.0, 10.0, 32.5, 32.5]],\n",
       " 'dcoord': [[0.0, 0.14142135623730953, 0.14142135623730953, 0.0],\n",
       "  [0.0, 0.14142135623730964, 0.14142135623730964, 0.0],\n",
       "  [0.0, 0.90553851381374162, 0.90553851381374162, 0.14142135623730964],\n",
       "  [0.14142135623730953,\n",
       "   1.4142135623730951,\n",
       "   1.4142135623730951,\n",
       "   0.90553851381374162]],\n",
       " 'ivl': ['0', '1', '4', '2', '3'],\n",
       " 'leaves': [0, 1, 4, 2, 3],\n",
       " 'color_list': ['g', 'r', 'r', 'b']}"
      ]
     },
     "execution_count": 556,
     "metadata": {},
     "output_type": "execute_result"
    },
    {
     "data": {
      "image/png": "[encoded data removed]",
      "text/plain": [
       "<Figure size 432x288 with 1 Axes>"
      ]
     },
     "metadata": {
      "needs_background": "light"
     },
     "output_type": "display_data"
    }
   ],
   "source": [
    "from scipy.cluster.hierarchy import dendrogram, linkage\n",
    "\n",
    "data = [[0., 0.], [0.1, -0.1], [1., 1.], [1.1, 1.1], [1, 2]]\n",
    "\n",
    "Z = linkage(data)\n",
    "dendrogram(Z)"
   ]
  },
  {
   "cell_type": "code",
   "execution_count": 557,
   "metadata": {},
   "outputs": [
    {
     "data": {
      "text/plain": [
       "array([[ 0.     ,  1.     ,  0.14142,  2.     ],\n",
       "       [ 2.     ,  3.     ,  0.14142,  2.     ],\n",
       "       [ 4.     ,  6.     ,  0.90554,  3.     ],\n",
       "       [ 5.     ,  7.     ,  1.41421,  5.     ]])"
      ]
     },
     "execution_count": 557,
     "metadata": {},
     "output_type": "execute_result"
    }
   ],
   "source": [
    "Z"
   ]
  },
  {
   "cell_type": "code",
   "execution_count": 348,
   "metadata": {},
   "outputs": [],
   "source": [
    "l1, l2 = np.where(ps == np.min(ps))[0]"
   ]
  },
  {
   "cell_type": "code",
   "execution_count": 351,
   "metadata": {},
   "outputs": [
    {
     "data": {
      "text/plain": [
       "array([[ 0.,  1.,  2.],\n",
       "       [ 3.,  4.,  5.],\n",
       "       [ 6.,  7.,  8.]])"
      ]
     },
     "execution_count": 351,
     "metadata": {},
     "output_type": "execute_result"
    }
   ],
   "source": [
    "x = np.arange(9.).reshape(3, 3)\n",
    "x"
   ]
  },
  {
   "cell_type": "code",
   "execution_count": 292,
   "metadata": {},
   "outputs": [],
   "source": [
    "def single_linkage(U, V, S):\n",
    "        d_US = dists[U][S]\n",
    "        d_VS = dists[V][S]\n",
    "        return 0.5 * d_US + 0.5 * d_VS - 0.5 * np.abs(d_US - d_VS)"
   ]
  },
  {
   "cell_type": "code",
   "execution_count": 296,
   "metadata": {},
   "outputs": [
    {
     "data": {
      "text/plain": [
       "array([[        inf,  0.14142136,  1.41421356,  1.55563492,  2.23606798],\n",
       "       [ 0.14142136,         inf,  1.42126704,  1.56204994,  2.28473193],\n",
       "       [ 1.41421356,  1.42126704,         inf,  0.14142136,  1.        ],\n",
       "       [ 1.55563492,  1.56204994,  0.14142136,         inf,  0.90553851],\n",
       "       [ 2.23606798,  2.28473193,  1.        ,  0.90553851,         inf]])"
      ]
     },
     "execution_count": 296,
     "metadata": {},
     "output_type": "execute_result"
    }
   ],
   "source": [
    "k = smt.pairwise_distances(data)\n",
    "np.fill_diagonal(k, np.inf)\n",
    "first, second = np.where(k == np.min(k))[0]\n",
    "dists = k\n",
    "k"
   ]
  },
  {
   "cell_type": "code",
   "execution_count": 306,
   "metadata": {},
   "outputs": [
    {
     "name": "stdout",
     "output_type": "stream",
     "text": [
      "4.93 µs ± 115 ns per loop (mean ± std. dev. of 7 runs, 100000 loops each)\n"
     ]
    }
   ],
   "source": [
    "N = 3\n",
    "a = np.random.rand(N,N)\n",
    "%timeit b = np.hstack((a,np.zeros((a.shape[0],1))))"
   ]
  },
  {
   "cell_type": "code",
   "execution_count": 312,
   "metadata": {},
   "outputs": [
    {
     "data": {
      "text/plain": [
       "array([[ 0.23163068,  0.12724439,  0.51066742],\n",
       "       [ 0.46554346,  0.05680024,  0.76858784],\n",
       "       [ 0.1210191 ,  0.21627003,  0.6595572 ]])"
      ]
     },
     "execution_count": 312,
     "metadata": {},
     "output_type": "execute_result"
    }
   ],
   "source": [
    "a"
   ]
  },
  {
   "cell_type": "code",
   "execution_count": 313,
   "metadata": {},
   "outputs": [],
   "source": [
    "b = np.zeros((a.shape[0],a.shape[1]+1)); b[:,:-1] = a"
   ]
  },
  {
   "cell_type": "code",
   "execution_count": 329,
   "metadata": {},
   "outputs": [
    {
     "data": {
      "text/plain": [
       "array([[ 0.23163068,  0.12724439,  0.51066742,  0.        ],\n",
       "       [ 0.46554346,  0.05680024,  0.76858784,  1.        ],\n",
       "       [ 0.1210191 ,  0.21627003,  0.6595572 ,  2.        ],\n",
       "       [ 0.        ,  1.        ,  2.        ,         inf]])"
      ]
     },
     "execution_count": 329,
     "metadata": {},
     "output_type": "execute_result"
    }
   ],
   "source": [
    "b = np.zeros((a.shape[0] + 1, a.shape[1] + 1))\n",
    "b[:-1, :-1] = a\n",
    "b[:, -1] = np.array([0, 1, 2, np.inf])\n",
    "b[-1] = np.array([0, 1, 2, np.inf])\n",
    "b"
   ]
  },
  {
   "cell_type": "code",
   "execution_count": 304,
   "metadata": {},
   "outputs": [
    {
     "name": "stdout",
     "output_type": "stream",
     "text": [
      "26.7 µs ± 2.15 µs per loop (mean ± std. dev. of 7 runs, 10000 loops each)\n"
     ]
    }
   ],
   "source": [
    "%timeit np.c_[ a, np.zeros(N)]"
   ]
  },
  {
   "cell_type": "code",
   "execution_count": 236,
   "metadata": {},
   "outputs": [
    {
     "data": {
      "text/plain": [
       "array([17, 12, 47, 47,  0, 18, 47, 39, 38, 34, 48,  7,  1, 38, 33, 33, 10,\n",
       "        0,  5, 21, 31, 19,  6, 26, 11, 34, 23, 28, 27, 30, 29, 20, 33, 32,\n",
       "        9, 49, 10,  4,  8,  7, 17,  8, 38, 26, 46,  1, 19,  2, 10,  7, 52,\n",
       "       56, 50, 89, 58, 66, 51, 93, 54, 89, 93, 96, 92, 91, 82, 75, 84, 92,\n",
       "       87, 80, 85, 97, 83, 63, 97, 65, 58, 52, 91, 81, 81, 80, 92, 72, 66,\n",
       "       56, 52, 68, 95, 53, 94, 63, 82, 57, 99, 96, 95, 74, 57, 96])"
      ]
     },
     "execution_count": 236,
     "metadata": {},
     "output_type": "execute_result"
    }
   ],
   "source": [
    "np.fill_diagonal(ps, np.inf)\n",
    "np.argmin(ps, axis=1)"
   ]
  },
  {
   "cell_type": "code",
   "execution_count": 263,
   "metadata": {},
   "outputs": [
    {
     "data": {
      "text/plain": [
       "[7, 39]"
      ]
     },
     "execution_count": 263,
     "metadata": {},
     "output_type": "execute_result"
    }
   ],
   "source": [
    "k = np.where(ps == np.min(ps))[0]\n"
   ]
  },
  {
   "cell_type": "code",
   "execution_count": 245,
   "metadata": {
    "collapsed": true
   },
   "outputs": [
    {
     "data": {
      "text/plain": [
       "array([[ 0.,  0.,  0.,  0.],\n",
       "       [ 0.,  0.,  0.,  0.],\n",
       "       [ 0.,  0.,  0.,  0.],\n",
       "       [ 0.,  0.,  0.,  0.],\n",
       "       [ 0.,  0.,  0.,  0.],\n",
       "       [ 0.,  0.,  0.,  0.],\n",
       "       [ 0.,  0.,  0.,  0.],\n",
       "       [ 0.,  0.,  0.,  0.],\n",
       "       [ 0.,  0.,  0.,  0.],\n",
       "       [ 0.,  0.,  0.,  0.],\n",
       "       [ 0.,  0.,  0.,  0.],\n",
       "       [ 0.,  0.,  0.,  0.],\n",
       "       [ 0.,  0.,  0.,  0.],\n",
       "       [ 0.,  0.,  0.,  0.],\n",
       "       [ 0.,  0.,  0.,  0.],\n",
       "       [ 0.,  0.,  0.,  0.],\n",
       "       [ 0.,  0.,  0.,  0.],\n",
       "       [ 0.,  0.,  0.,  0.],\n",
       "       [ 0.,  0.,  0.,  0.],\n",
       "       [ 0.,  0.,  0.,  0.],\n",
       "       [ 0.,  0.,  0.,  0.],\n",
       "       [ 0.,  0.,  0.,  0.],\n",
       "       [ 0.,  0.,  0.,  0.],\n",
       "       [ 0.,  0.,  0.,  0.],\n",
       "       [ 0.,  0.,  0.,  0.],\n",
       "       [ 0.,  0.,  0.,  0.],\n",
       "       [ 0.,  0.,  0.,  0.],\n",
       "       [ 0.,  0.,  0.,  0.],\n",
       "       [ 0.,  0.,  0.,  0.],\n",
       "       [ 0.,  0.,  0.,  0.],\n",
       "       [ 0.,  0.,  0.,  0.],\n",
       "       [ 0.,  0.,  0.,  0.],\n",
       "       [ 0.,  0.,  0.,  0.],\n",
       "       [ 0.,  0.,  0.,  0.],\n",
       "       [ 0.,  0.,  0.,  0.],\n",
       "       [ 0.,  0.,  0.,  0.],\n",
       "       [ 0.,  0.,  0.,  0.],\n",
       "       [ 0.,  0.,  0.,  0.],\n",
       "       [ 0.,  0.,  0.,  0.],\n",
       "       [ 0.,  0.,  0.,  0.],\n",
       "       [ 0.,  0.,  0.,  0.],\n",
       "       [ 0.,  0.,  0.,  0.],\n",
       "       [ 0.,  0.,  0.,  0.],\n",
       "       [ 0.,  0.,  0.,  0.],\n",
       "       [ 0.,  0.,  0.,  0.],\n",
       "       [ 0.,  0.,  0.,  0.],\n",
       "       [ 0.,  0.,  0.,  0.],\n",
       "       [ 0.,  0.,  0.,  0.],\n",
       "       [ 0.,  0.,  0.,  0.],\n",
       "       [ 0.,  0.,  0.,  0.],\n",
       "       [ 0.,  0.,  0.,  0.],\n",
       "       [ 0.,  0.,  0.,  0.],\n",
       "       [ 0.,  0.,  0.,  0.],\n",
       "       [ 0.,  0.,  0.,  0.],\n",
       "       [ 0.,  0.,  0.,  0.],\n",
       "       [ 0.,  0.,  0.,  0.],\n",
       "       [ 0.,  0.,  0.,  0.],\n",
       "       [ 0.,  0.,  0.,  0.],\n",
       "       [ 0.,  0.,  0.,  0.],\n",
       "       [ 0.,  0.,  0.,  0.],\n",
       "       [ 0.,  0.,  0.,  0.],\n",
       "       [ 0.,  0.,  0.,  0.],\n",
       "       [ 0.,  0.,  0.,  0.],\n",
       "       [ 0.,  0.,  0.,  0.],\n",
       "       [ 0.,  0.,  0.,  0.],\n",
       "       [ 0.,  0.,  0.,  0.],\n",
       "       [ 0.,  0.,  0.,  0.],\n",
       "       [ 0.,  0.,  0.,  0.],\n",
       "       [ 0.,  0.,  0.,  0.],\n",
       "       [ 0.,  0.,  0.,  0.],\n",
       "       [ 0.,  0.,  0.,  0.],\n",
       "       [ 0.,  0.,  0.,  0.],\n",
       "       [ 0.,  0.,  0.,  0.],\n",
       "       [ 0.,  0.,  0.,  0.],\n",
       "       [ 0.,  0.,  0.,  0.],\n",
       "       [ 0.,  0.,  0.,  0.],\n",
       "       [ 0.,  0.,  0.,  0.],\n",
       "       [ 0.,  0.,  0.,  0.],\n",
       "       [ 0.,  0.,  0.,  0.],\n",
       "       [ 0.,  0.,  0.,  0.],\n",
       "       [ 0.,  0.,  0.,  0.],\n",
       "       [ 0.,  0.,  0.,  0.],\n",
       "       [ 0.,  0.,  0.,  0.],\n",
       "       [ 0.,  0.,  0.,  0.],\n",
       "       [ 0.,  0.,  0.,  0.],\n",
       "       [ 0.,  0.,  0.,  0.],\n",
       "       [ 0.,  0.,  0.,  0.],\n",
       "       [ 0.,  0.,  0.,  0.],\n",
       "       [ 0.,  0.,  0.,  0.],\n",
       "       [ 0.,  0.,  0.,  0.],\n",
       "       [ 0.,  0.,  0.,  0.],\n",
       "       [ 0.,  0.,  0.,  0.],\n",
       "       [ 0.,  0.,  0.,  0.],\n",
       "       [ 0.,  0.,  0.,  0.],\n",
       "       [ 0.,  0.,  0.,  0.],\n",
       "       [ 0.,  0.,  0.,  0.],\n",
       "       [ 0.,  0.,  0.,  0.],\n",
       "       [ 0.,  0.,  0.,  0.],\n",
       "       [ 0.,  0.,  0.,  0.]])"
      ]
     },
     "execution_count": 245,
     "metadata": {},
     "output_type": "execute_result"
    }
   ],
   "source": [
    "linkage = np.zeros((100-1, 4))\n",
    "linkage"
   ]
  },
  {
   "cell_type": "code",
   "execution_count": 22,
   "metadata": {},
   "outputs": [],
   "source": [
    "X_train = iris['data'][:100]"
   ]
  },
  {
   "cell_type": "code",
   "execution_count": 108,
   "metadata": {},
   "outputs": [],
   "source": [
    "x = [[2,3, 4], [3,1, 2], [6,5, 1]]"
   ]
  },
  {
   "cell_type": "code",
   "execution_count": 233,
   "metadata": {},
   "outputs": [],
   "source": [
    "ps = smt.pairwise_distances(X_train)"
   ]
  },
  {
   "cell_type": "code",
   "execution_count": null,
   "metadata": {},
   "outputs": [],
   "source": [
    "ps"
   ]
  },
  {
   "cell_type": "code",
   "execution_count": 229,
   "metadata": {},
   "outputs": [
    {
     "data": {
      "text/plain": [
       "7"
      ]
     },
     "execution_count": 229,
     "metadata": {},
     "output_type": "execute_result"
    }
   ],
   "source": [
    "np.argmin(np.partition(ps, 2)[:, 1])"
   ]
  },
  {
   "cell_type": "code",
   "execution_count": 87,
   "metadata": {},
   "outputs": [],
   "source": [
    "from scipy.spatial import distance as dt"
   ]
  },
  {
   "cell_type": "code",
   "execution_count": 93,
   "metadata": {},
   "outputs": [],
   "source": [
    "def compute_distances_no_loops( X):\n",
    "    dists = -2 * np.dot(X, X.T) + np.sum(X**2, axis=1) + np.sum(X**2, axis=1)[:, np.newaxis]\n",
    "    return dists"
   ]
  },
  {
   "cell_type": "code",
   "execution_count": 95,
   "metadata": {},
   "outputs": [
    {
     "data": {
      "text/plain": [
       "array([[0, 2, 8],\n",
       "       [2, 0, 2],\n",
       "       [8, 2, 0]])"
      ]
     },
     "execution_count": 95,
     "metadata": {},
     "output_type": "execute_result"
    }
   ],
   "source": [
    "compute_distances_no_loops(np.array(x))"
   ]
  },
  {
   "cell_type": "code",
   "execution_count": 139,
   "metadata": {},
   "outputs": [],
   "source": [
    "sklearn_aggl = AgglomerativeClustering()"
   ]
  },
  {
   "cell_type": "code",
   "execution_count": 140,
   "metadata": {},
   "outputs": [
    {
     "data": {
      "text/plain": [
       "AgglomerativeClustering(affinity='euclidean', compute_full_tree='auto',\n",
       "            connectivity=None, linkage='ward', memory=None, n_clusters=2,\n",
       "            pooling_func='deprecated')"
      ]
     },
     "execution_count": 140,
     "metadata": {},
     "output_type": "execute_result"
    }
   ],
   "source": [
    "sklearn_aggl.fit(X_train)"
   ]
  },
  {
   "cell_type": "code",
   "execution_count": 149,
   "metadata": {},
   "outputs": [
    {
     "data": {
      "text/plain": [
       "{'icoord': [[5.0, 5.0, 15.0, 15.0],\n",
       "  [35.0, 35.0, 45.0, 45.0],\n",
       "  [25.0, 25.0, 40.0, 40.0],\n",
       "  [10.0, 10.0, 32.5, 32.5]],\n",
       " 'dcoord': [[0.0, 0.14142135623730953, 0.14142135623730953, 0.0],\n",
       "  [0.0, 0.14142135623730964, 0.14142135623730964, 0.0],\n",
       "  [0.0, 0.90553851381374162, 0.90553851381374162, 0.14142135623730964],\n",
       "  [0.14142135623730953,\n",
       "   1.4142135623730951,\n",
       "   1.4142135623730951,\n",
       "   0.90553851381374162]],\n",
       " 'ivl': ['0', '1', '4', '2', '3'],\n",
       " 'leaves': [0, 1, 4, 2, 3],\n",
       " 'color_list': ['g', 'r', 'r', 'b']}"
      ]
     },
     "execution_count": 149,
     "metadata": {},
     "output_type": "execute_result"
    },
    {
     "data": {
      "image/png": "[encoded data removed]",
      "text/plain": [
       "<Figure size 432x288 with 1 Axes>"
      ]
     },
     "metadata": {
      "needs_background": "light"
     },
     "output_type": "display_data"
    }
   ],
   "source": [
    "from scipy.cluster.hierarchy import dendrogram, linkage\n",
    "\n",
    "data = [[0., 0.], [0.1, -0.1], [1., 1.], [1.1, 1.1], [1, 2]]\n",
    "\n",
    "Z = linkage(data)\n",
    "dendrogram(Z)"
   ]
  },
  {
   "cell_type": "code",
   "execution_count": 156,
   "metadata": {},
   "outputs": [
    {
     "data": {
      "text/plain": [
       "array([[ 0.        ,  1.        ,  0.14142136,  2.        ],\n",
       "       [ 2.        ,  3.        ,  0.14142136,  2.        ],\n",
       "       [ 4.        ,  6.        ,  0.90553851,  3.        ],\n",
       "       [ 5.        ,  7.        ,  1.41421356,  5.        ]])"
      ]
     },
     "execution_count": 156,
     "metadata": {},
     "output_type": "execute_result"
    }
   ],
   "source": [
    "Z"
   ]
  },
  {
   "cell_type": "code",
   "execution_count": 158,
   "metadata": {},
   "outputs": [
    {
     "data": {
      "text/plain": [
       "array([[ 0.        ,  1.        ,  0.14142136],\n",
       "       [ 2.        ,  3.        ,  0.14142136],\n",
       "       [ 4.        ,  6.        ,  0.90553851],\n",
       "       [ 5.        ,  7.        ,  1.41421356],\n",
       "       [ 1.        ,  2.        ,  3.        ]])"
      ]
     },
     "execution_count": 158,
     "metadata": {},
     "output_type": "execute_result"
    }
   ],
   "source": [
    "np.vstack((a, np.array([1,2,3])))"
   ]
  },
  {
   "cell_type": "code",
   "execution_count": 20,
   "metadata": {},
   "outputs": [
    {
     "data": {
      "text/plain": [
       "<matplotlib.collections.PathCollection at 0x1a19d66ac8>"
      ]
     },
     "execution_count": 20,
     "metadata": {},
     "output_type": "execute_result"
    },
    {
     "data": {
      "image/png": "[encoded data removed]",
      "text/plain": [
       "<Figure size 432x288 with 1 Axes>"
      ]
     },
     "metadata": {
      "needs_background": "light"
     },
     "output_type": "display_data"
    }
   ],
   "source": [
    "pl.scatter(X_train[:, 0], X_train[:, 1], c=sklearn_aggl.labels_, cmap=pl.cm.PuOr, lw=0, s=30)"
   ]
  },
  {
   "cell_type": "markdown",
   "metadata": {},
   "source": [
    "Видно, что классы разделяются, поэтому можно надеяться, что наш алгоритм \"найдет\" кластеры, соответствующие исходным классам. Результат работы реализованного алгоритма кластеризации предлагается сравнить с эталонной кластеризацией. Для этого предлагается изучить метрику ([adjusted rand score](http://scikit-learn.org/stable/modules/generated/sklearn.metrics.adjusted_rand_score.html)). В случае если значение этой метрики отличается от 1, предлагается поработать над улучшением реализации своего алгоритма."
   ]
  },
  {
   "cell_type": "code",
   "execution_count": 901,
   "metadata": {},
   "outputs": [
    {
     "name": "stdout",
     "output_type": "stream",
     "text": [
      "Adjusted Rand index for iris is: 0.00\n"
     ]
    }
   ],
   "source": [
    "pred_iris = Clustering().predict(x_iris)\n",
    "pred_iris = [ 0 ] * len(y_iris)\n",
    "print (\"Adjusted Rand index for iris is: %.2f\" % smt.adjusted_rand_score(y_iris, pred_iris))"
   ]
  },
  {
   "cell_type": "code",
   "execution_count": 899,
   "metadata": {},
   "outputs": [
    {
     "data": {
      "text/plain": [
       "[0,\n",
       " 0,\n",
       " 0,\n",
       " 0,\n",
       " 0,\n",
       " 0,\n",
       " 0,\n",
       " 0,\n",
       " 0,\n",
       " 0,\n",
       " 0,\n",
       " 0,\n",
       " 0,\n",
       " 0,\n",
       " 0,\n",
       " 0,\n",
       " 0,\n",
       " 0,\n",
       " 0,\n",
       " 0,\n",
       " 0,\n",
       " 0,\n",
       " 0,\n",
       " 0,\n",
       " 0,\n",
       " 0,\n",
       " 0,\n",
       " 0,\n",
       " 0,\n",
       " 0,\n",
       " 0,\n",
       " 0,\n",
       " 0,\n",
       " 0,\n",
       " 0,\n",
       " 0,\n",
       " 0,\n",
       " 0,\n",
       " 0,\n",
       " 0,\n",
       " 0,\n",
       " 0,\n",
       " 0,\n",
       " 0,\n",
       " 0,\n",
       " 0,\n",
       " 0,\n",
       " 0,\n",
       " 0,\n",
       " 0,\n",
       " 0,\n",
       " 0,\n",
       " 0,\n",
       " 0,\n",
       " 0,\n",
       " 0,\n",
       " 0,\n",
       " 0,\n",
       " 0,\n",
       " 0,\n",
       " 0,\n",
       " 0,\n",
       " 0,\n",
       " 0,\n",
       " 0,\n",
       " 0,\n",
       " 0,\n",
       " 0,\n",
       " 0,\n",
       " 0,\n",
       " 0,\n",
       " 0,\n",
       " 0,\n",
       " 0,\n",
       " 0,\n",
       " 0,\n",
       " 0,\n",
       " 0,\n",
       " 0,\n",
       " 0,\n",
       " 0,\n",
       " 0,\n",
       " 0,\n",
       " 0,\n",
       " 0,\n",
       " 0,\n",
       " 0,\n",
       " 0,\n",
       " 0,\n",
       " 0,\n",
       " 0,\n",
       " 0,\n",
       " 0,\n",
       " 0,\n",
       " 0,\n",
       " 0,\n",
       " 0,\n",
       " 0,\n",
       " 0,\n",
       " 0]"
      ]
     },
     "execution_count": 899,
     "metadata": {},
     "output_type": "execute_result"
    }
   ],
   "source": [
    "pred_iris"
   ]
  },
  {
   "cell_type": "code",
   "execution_count": 6,
   "metadata": {},
   "outputs": [
    {
     "name": "stdout",
     "output_type": "stream",
     "text": [
      "GMM score 1.0. GMM time 0.029532194137573242. AGGL score 1.0. AGGL time 0.034522056579589844\n"
     ]
    }
   ],
   "source": [
    "# Давайте проверим, как справляются sklearn реализации\n",
    "sklearn_gmm = GaussianMixture(n_components=2)\n",
    "gmm_t0 = time.time()\n",
    "sklearn_gmm.fit(x_iris)\n",
    "gmm_diff = time.time() - gmm_t0\n",
    "gmm_score = smt.adjusted_rand_score(y_iris, sklearn_gmm.predict(x_iris))\n",
    "\n",
    "sklearn_aggl = AgglomerativeClustering(n_clusters=2)\n",
    "aggl_t0 = time.time()\n",
    "aggl_pred = sklearn_aggl.fit_predict(x_iris)\n",
    "aggl_diff = time.time() - aggl_t0\n",
    "aggl_score = smt.adjusted_rand_score(y_iris, aggl_pred)\n",
    "print (\"GMM score {}. GMM time {}. AGGL score {}. AGGL time {}\".format(gmm_score, gmm_diff, aggl_score, aggl_diff))"
   ]
  },
  {
   "cell_type": "markdown",
   "metadata": {},
   "source": [
    "Сверьте Ваш алгоритм с этими числами. Уверен, что у Вас получится не хуже!"
   ]
  },
  {
   "cell_type": "markdown",
   "metadata": {
    "collapsed": true
   },
   "source": [
    "# Боевое применение (2  балла)\n"
   ]
  },
  {
   "cell_type": "markdown",
   "metadata": {
    "collapsed": true
   },
   "source": [
    "Алгоритмы кластеризации прекрасны тем, что они позволяют быстро понять, как устроены наши данные. Давайте применим Ваш алгоритм для анализа реальной задачи!"
   ]
  },
  {
   "cell_type": "markdown",
   "metadata": {},
   "source": [
    "Важное замечание: в этой части задания студенту самому предлагается разобраться с данными и их форматом в качестве полезного упраженения. Не принимайте это близко к сердцу :)"
   ]
  },
  {
   "cell_type": "markdown",
   "metadata": {},
   "source": [
    "Ввозьмем датасет различных стран.  \n",
    "Данные нужно скачать тут https://data.worldbank.org/data-catalog/world-development-indicators.   \n"
   ]
  },
  {
   "cell_type": "markdown",
   "metadata": {},
   "source": [
    "Подход следующий: фиксируем год, для каждой страны берём индикаторы по зафиксированному году, кластеризуем по индикаторам. \n",
    "Разбиение должно быть объяснимым, в противном случае, скорее всего нужно лучше настроить параметры кластеризации.   \n",
    "\n",
    "Необходимо показать, какие страны попали в общий кластер в и объяснить из-за каких признаков это произошло. Если страны были в одном кластере, а спустя несколько лет разъехались по разным кластерам, попробуйте это объяснить. "
   ]
  },
  {
   "cell_type": "code",
   "execution_count": 7,
   "metadata": {
    "collapsed": true
   },
   "outputs": [],
   "source": [
    "# Место для Вашего кластерного анализа"
   ]
  },
  {
   "cell_type": "code",
   "execution_count": null,
   "metadata": {
    "collapsed": true
   },
   "outputs": [],
   "source": []
  },
  {
   "cell_type": "code",
   "execution_count": 8,
   "metadata": {
    "collapsed": true
   },
   "outputs": [],
   "source": [
    "# Не переживайте, мне тоже было тяжело разобраться с данными"
   ]
  },
  {
   "cell_type": "markdown",
   "metadata": {},
   "source": [
    "# Контрольные вопросы\n",
    "Постарайтесь максимально развернуто и честно ответить на вопросы. Они охватывают тему алгоритмов кластеризации и скорее нужны преподавателям, чтобы понимать, что именно Вы усвоили плохо. Надеюсь, они подскажут, что именно в теме Вы не понимаете или наоборот порадают, что Вы все знаете ^_^"
   ]
  },
  {
   "cell_type": "markdown",
   "metadata": {},
   "source": [
    "* Опишите, пожалуйста, для каких прикладных задач Вы бы стали использовать методы кластеризации?"
   ]
  },
  {
   "cell_type": "markdown",
   "metadata": {},
   "source": [
    "***Ваше ответ здесь***"
   ]
  },
  {
   "cell_type": "markdown",
   "metadata": {},
   "source": [
    "* Какие преимущества и недостатки Вы видите у следуюших алгоритмов кластеризации: kmeans, dbscan, агломеративная кластеризация?"
   ]
  },
  {
   "cell_type": "markdown",
   "metadata": {},
   "source": [
    "***Ваше ответ здесь***"
   ]
  },
  {
   "cell_type": "markdown",
   "metadata": {},
   "source": [
    "* На лекции было показано, что EM алгоритм находит оценку максимального правдоподобия в задаче со сккрытыми переменными. Из курса мат. статистики Вы можете знать, оценка максимального правдоподобия \"оптимальная\" во многих смыслах. В каких же случаях тогда не следует применять метод максимального правдоподобия?"
   ]
  },
  {
   "cell_type": "markdown",
   "metadata": {},
   "source": [
    "***Ваше ответ здесь***"
   ]
  },
  {
   "cell_type": "markdown",
   "metadata": {},
   "source": [
    "* Многие алгоритмы анализа данных страдают \"проклятием\" размерности. Страдают ли этим проклятием алгоритмы кластеризации? Если да, то как бы Вы с этим боролись?"
   ]
  },
  {
   "cell_type": "markdown",
   "metadata": {},
   "source": [
    "***Ваше ответ здесь***"
   ]
  },
  {
   "cell_type": "markdown",
   "metadata": {},
   "source": [
    "* Представьте, что у Вас есть набор текстовых документов, и Вы хотите разбить эти документы на тематики - новости, спорт, кулинария, кино и так далее. Размеченной выборки у Вас нет, только сами тексты документов. Какие алгоритмы и какие признаки Вы бы использовали для решения данной задачи?"
   ]
  },
  {
   "cell_type": "markdown",
   "metadata": {},
   "source": [
    "***Ваше ответ здесь***"
   ]
  },
  {
   "cell_type": "markdown",
   "metadata": {},
   "source": [
    "* Теперь представьте, что небольшая часть Ваших текстов была размечена людьми, но большая часть так и осталась без таргета. Смогли ли бы Вы использовать эти данные для улучения качества кластеризации? (эта задача называется semi-supervised learning)"
   ]
  },
  {
   "cell_type": "markdown",
   "metadata": {},
   "source": [
    "***Ваше ответ здесь***"
   ]
  },
  {
   "cell_type": "markdown",
   "metadata": {},
   "source": [
    "Здесь Вы можете оставить отзыв о этой домашней работе или о всем курсе.   "
   ]
  },
  {
   "cell_type": "markdown",
   "metadata": {},
   "source": [
    "*** ВАШ ОТЗЫВ ЗДЕСЬ***"
   ]
  },
  {
   "cell_type": "code",
   "execution_count": null,
   "metadata": {
    "collapsed": true
   },
   "outputs": [],
   "source": []
  },
  {
   "cell_type": "code",
   "execution_count": null,
   "metadata": {
    "collapsed": true
   },
   "outputs": [],
   "source": []
  }
 ],
 "metadata": {
  "anaconda-cloud": {},
  "kernelspec": {
   "display_name": "Python 3",
   "language": "python",
   "name": "python3"
  },
  "language_info": {
   "codemirror_mode": {
    "name": "ipython",
    "version": 3
   },
   "file_extension": ".py",
   "mimetype": "text/x-python",
   "name": "python",
   "nbconvert_exporter": "python",
   "pygments_lexer": "ipython3",
   "version": "3.6.6"
  }
 },
 "nbformat": 4,
 "nbformat_minor": 1
}
