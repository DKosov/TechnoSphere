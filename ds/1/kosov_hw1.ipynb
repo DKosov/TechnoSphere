{
 "cells": [
  {
   "cell_type": "markdown",
   "metadata": {},
   "source": [
    "**Общая информация**\n",
    "\n",
    "**Срок сдачи:** 18 октября 2017, 06:00 <br\\>\n",
    "**Штраф за опоздание:** -2 балла после 06:00 18 октября, -4 балла после 06:00 25 октября, -6 баллов после 06:00 1 ноября\n",
    "\n",
    "При отправлении ДЗ указывайте фамилию в названии файла\n",
    "Присылать ДЗ необходимо в виде ссылки на свой github репозиторий в slack @alkhamush\n",
    "\n",
    "Необходимо в slack создать таск в приватный чат:\n",
    "/todo Фамилия Имя ссылка на гитхаб @alkhamush\n",
    "Пример:\n",
    "/todo Ксения Стройкова https://github.com/stroykova/spheremailru/stroykova_hw1.ipynb @alkhamush\n",
    "Дополнительно нужно просто скинуть ссылку в slack в личный чат\n",
    "\n",
    "Используйте данный Ipython Notebook при оформлении домашнего задания."
   ]
  },
  {
   "cell_type": "markdown",
   "metadata": {},
   "source": [
    "###### Задание 1 (2 баллов)\n",
    "Реализовать KNN в классе MyKNeighborsClassifier (обязательное условие: точность не ниже sklearn реализации)\n",
    "Разберитесь самостоятельно, какая мера расстояния используется в KNeighborsClassifier дефолтно и реализуйте свой алгоритм именно с этой мерой. Самостоятельно разберитесь, как считается score из KNeighborsClassifier и реализуйте аналог в своём классе. Score не должен уступать значению KNN из sklearn\n",
    "\n",
    "###### Задание 2 (2 балла)\n",
    "Добиться скорости работы на fit,  predict и predict_proba сравнимой со sklearn для iris и mnist\n",
    "Для этого используем numpy\n",
    "\n",
    "###### Задание 3 (2 балла)\n",
    "Для iris найдите такой параметр n_neighbors, при котором выдаётся наилучший score. Нарисуйте график зависимости score от n_neighbors\n",
    "\n",
    "###### Задание 4 (3 балла)\n",
    "Добавить algorithm='kd_tree' в реализацию KNN (использовать KDTree из sklearn.neighbors). Значение n_neighbors нужно взять из задания 3. Добиться скорости работы на fit,  predict и predict_proba сравнимой со sklearn для iris и mnist\n",
    "Для этого используем numpy. Score не должен уступать значению KNN из sklearn\n",
    "\n",
    "###### Задание 5 (1 балла)\n",
    "Описать для чего нужны следующие библиотеки/классы/функции (список будет ниже)\n",
    "\n",
    "**Штрафные баллы:**\n",
    "\n",
    "1. Невыполнение PEP8 -1 балл\n",
    "2. Отсутствие фамилии в имени скрипта (скрипт должен называться по аналогии со stroykova_hw1.ipynb) -1 балл\n",
    "3. Все строчки должны быть выполнены. Нужно, чтобы output команды можно было увидеть уже в git'е. В противном случае -1 балл\n",
    "4. При оформлении ДЗ нужно пользоваться данным файлом в качестве шаблона. Не нужно удалять и видоизменять структуру кода и текст. В противном случае -1 балл\n"
   ]
  },
  {
   "cell_type": "code",
   "execution_count": 1,
   "metadata": {
    "collapsed": true
   },
   "outputs": [],
   "source": [
    "import numpy as np\n",
    "import matplotlib.pyplot as plt\n",
    "\n",
    "import seaborn as sns\n",
    "from sklearn import datasets\n",
    "from sklearn.base import ClassifierMixin\n",
    "from sklearn.datasets import fetch_mldata\n",
    "from sklearn.neighbors.base import NeighborsBase, KNeighborsMixin, SupervisedIntegerMixin \n",
    "from sklearn.model_selection import train_test_split\n",
    "from sklearn.neighbors import KNeighborsClassifier, KDTree\n",
    "%load_ext pycodestyle_magic"
   ]
  },
  {
   "cell_type": "code",
   "execution_count": 2,
   "metadata": {
    "collapsed": true
   },
   "outputs": [],
   "source": [
    "#%%pycodestyle\n",
    "\n",
    "\n",
    "class MyKNeighborsClassifier(NeighborsBase,\n",
    "                             KNeighborsMixin,\n",
    "                             SupervisedIntegerMixin,\n",
    "                             ClassifierMixin):\n",
    "\n",
    "    def __init__(self, n_neighbors, algorithm='brute'):\n",
    "        self.n_neighbors = n_neighbors\n",
    "        self.algorithm = algorithm\n",
    "\n",
    "    def fit(self, X, y):\n",
    "        self._X_train = X.astype(float)\n",
    "        self._y_train = y\n",
    "        self._n_classes = 1 + np.max(y)\n",
    "        if self.algorithm == 'kd_tree':\n",
    "            self._tree = KDTree(self._X_train)\n",
    "\n",
    "    def _predict(self, X):\n",
    "        X = X.astype(float)\n",
    "        X_train_sq = np.sum(self._X_train**2, axis=1).reshape(1, -1)\n",
    "        X_pred_sq = np.sum(X**2, axis=1).reshape(-1, 1)\n",
    "        dist = np.sqrt(\n",
    "            X_pred_sq-2*np.matmul(X, self._X_train.T)+X_train_sq\n",
    "        )\n",
    "        return dist\n",
    "\n",
    "    def _count(self, arr):\n",
    "        return (\n",
    "            np.unique(\n",
    "                np.concatenate((np.arange(self._n_classes), arr)),\n",
    "                return_counts=True\n",
    "            )[1] - 1\n",
    "        ) / self.n_neighbors\n",
    "\n",
    "    def _count_neigh_el(self, X):\n",
    "        if self.algorithm == 'brute':\n",
    "            dist = self._predict(X)\n",
    "            neigh_ind = np.argpartition(\n",
    "                                        dist, self.n_neighbors\n",
    "                                        )[:, :self.n_neighbors]\n",
    "        elif self.algorithm == 'kd_tree':\n",
    "            dist, neigh_ind = self._tree.query(X, k=self.n_neighbors)\n",
    "        return self._y_train[neigh_ind].astype('int64')\n",
    "\n",
    "    def predict(self, X):\n",
    "        neigh_el = self._count_neigh_el(X)\n",
    "        return np.apply_along_axis(\n",
    "            lambda x: np.bincount(x).argmax(), 1, neigh_el\n",
    "        )\n",
    "\n",
    "    def predict_proba(self, X):\n",
    "        return np.apply_along_axis(\n",
    "            lambda x: self._count(x),\n",
    "            1,\n",
    "            self._count_neigh_el(X)\n",
    "            )\n",
    "\n",
    "    def score(self, X, y):\n",
    "        return np.average(y == self.predict(X))"
   ]
  },
  {
   "cell_type": "markdown",
   "metadata": {},
   "source": [
    "**IRIS**"
   ]
  },
  {
   "cell_type": "code",
   "execution_count": 49,
   "metadata": {
    "collapsed": true
   },
   "outputs": [],
   "source": [
    "iris = datasets.load_iris()"
   ]
  },
  {
   "cell_type": "code",
   "execution_count": 50,
   "metadata": {
    "collapsed": true
   },
   "outputs": [],
   "source": [
    "X_train, X_test, y_train, y_test = train_test_split(iris.data, iris.target, test_size=0.1, stratify=iris.target)"
   ]
  },
  {
   "cell_type": "code",
   "execution_count": 51,
   "metadata": {
    "collapsed": true
   },
   "outputs": [],
   "source": [
    "clf = KNeighborsClassifier(n_neighbors=2)\n",
    "my_clf = MyKNeighborsClassifier(n_neighbors=2)"
   ]
  },
  {
   "cell_type": "code",
   "execution_count": 52,
   "metadata": {},
   "outputs": [
    {
     "name": "stdout",
     "output_type": "stream",
     "text": [
      "CPU times: user 1.21 ms, sys: 445 µs, total: 1.66 ms\n",
      "Wall time: 1.24 ms\n"
     ]
    },
    {
     "data": {
      "text/plain": [
       "KNeighborsClassifier(algorithm='auto', leaf_size=30, metric='minkowski',\n",
       "           metric_params=None, n_jobs=1, n_neighbors=2, p=2,\n",
       "           weights='uniform')"
      ]
     },
     "execution_count": 52,
     "metadata": {},
     "output_type": "execute_result"
    }
   ],
   "source": [
    "%time clf.fit(X_train, y_train)"
   ]
  },
  {
   "cell_type": "code",
   "execution_count": 53,
   "metadata": {
    "scrolled": true
   },
   "outputs": [
    {
     "name": "stdout",
     "output_type": "stream",
     "text": [
      "CPU times: user 89 µs, sys: 41 µs, total: 130 µs\n",
      "Wall time: 309 µs\n"
     ]
    }
   ],
   "source": [
    "%time my_clf.fit(X_train, y_train)"
   ]
  },
  {
   "cell_type": "code",
   "execution_count": 54,
   "metadata": {},
   "outputs": [
    {
     "name": "stdout",
     "output_type": "stream",
     "text": [
      "CPU times: user 1.19 ms, sys: 192 µs, total: 1.38 ms\n",
      "Wall time: 1.18 ms\n"
     ]
    },
    {
     "data": {
      "text/plain": [
       "array([1, 1, 0, 0, 0, 0, 2, 2, 1, 1, 1, 2, 1, 2, 0])"
      ]
     },
     "execution_count": 54,
     "metadata": {},
     "output_type": "execute_result"
    }
   ],
   "source": [
    "%time clf.predict(X_test)"
   ]
  },
  {
   "cell_type": "code",
   "execution_count": 55,
   "metadata": {},
   "outputs": [
    {
     "name": "stdout",
     "output_type": "stream",
     "text": [
      "CPU times: user 1.09 ms, sys: 487 µs, total: 1.58 ms\n",
      "Wall time: 1.12 ms\n"
     ]
    },
    {
     "data": {
      "text/plain": [
       "array([1, 1, 0, 0, 0, 0, 2, 2, 1, 1, 1, 2, 1, 2, 0])"
      ]
     },
     "execution_count": 55,
     "metadata": {},
     "output_type": "execute_result"
    }
   ],
   "source": [
    "%time my_clf.predict(X_test)"
   ]
  },
  {
   "cell_type": "code",
   "execution_count": 56,
   "metadata": {},
   "outputs": [
    {
     "name": "stdout",
     "output_type": "stream",
     "text": [
      "CPU times: user 1.47 ms, sys: 352 µs, total: 1.83 ms\n",
      "Wall time: 1.54 ms\n"
     ]
    },
    {
     "data": {
      "text/plain": [
       "array([[ 0. ,  1. ,  0. ],\n",
       "       [ 0. ,  1. ,  0. ],\n",
       "       [ 1. ,  0. ,  0. ],\n",
       "       [ 1. ,  0. ,  0. ],\n",
       "       [ 1. ,  0. ,  0. ],\n",
       "       [ 1. ,  0. ,  0. ],\n",
       "       [ 0. ,  0. ,  1. ],\n",
       "       [ 0. ,  0. ,  1. ],\n",
       "       [ 0. ,  1. ,  0. ],\n",
       "       [ 0. ,  1. ,  0. ],\n",
       "       [ 0. ,  1. ,  0. ],\n",
       "       [ 0. ,  0. ,  1. ],\n",
       "       [ 0. ,  0.5,  0.5],\n",
       "       [ 0. ,  0. ,  1. ],\n",
       "       [ 1. ,  0. ,  0. ]])"
      ]
     },
     "execution_count": 56,
     "metadata": {},
     "output_type": "execute_result"
    }
   ],
   "source": [
    "%time clf.predict_proba(X_test)"
   ]
  },
  {
   "cell_type": "code",
   "execution_count": 57,
   "metadata": {},
   "outputs": [
    {
     "name": "stdout",
     "output_type": "stream",
     "text": [
      "CPU times: user 4.09 ms, sys: 2.58 ms, total: 6.66 ms\n",
      "Wall time: 4.22 ms\n"
     ]
    },
    {
     "data": {
      "text/plain": [
       "array([[ 0. ,  1. ,  0. ],\n",
       "       [ 0. ,  1. ,  0. ],\n",
       "       [ 1. ,  0. ,  0. ],\n",
       "       [ 1. ,  0. ,  0. ],\n",
       "       [ 1. ,  0. ,  0. ],\n",
       "       [ 1. ,  0. ,  0. ],\n",
       "       [ 0. ,  0. ,  1. ],\n",
       "       [ 0. ,  0. ,  1. ],\n",
       "       [ 0. ,  1. ,  0. ],\n",
       "       [ 0. ,  1. ,  0. ],\n",
       "       [ 0. ,  1. ,  0. ],\n",
       "       [ 0. ,  0. ,  1. ],\n",
       "       [ 0. ,  0.5,  0.5],\n",
       "       [ 0. ,  0. ,  1. ],\n",
       "       [ 1. ,  0. ,  0. ]])"
      ]
     },
     "execution_count": 57,
     "metadata": {},
     "output_type": "execute_result"
    }
   ],
   "source": [
    "%time my_clf.predict_proba(X_test)"
   ]
  },
  {
   "cell_type": "code",
   "execution_count": 58,
   "metadata": {},
   "outputs": [
    {
     "data": {
      "text/plain": [
       "0.93333333333333335"
      ]
     },
     "execution_count": 58,
     "metadata": {},
     "output_type": "execute_result"
    }
   ],
   "source": [
    "clf.score(X_test, y_test)"
   ]
  },
  {
   "cell_type": "code",
   "execution_count": 59,
   "metadata": {},
   "outputs": [
    {
     "data": {
      "text/plain": [
       "0.93333333333333335"
      ]
     },
     "execution_count": 59,
     "metadata": {},
     "output_type": "execute_result"
    }
   ],
   "source": [
    "my_clf.score(X_test, y_test)"
   ]
  },
  {
   "cell_type": "markdown",
   "metadata": {},
   "source": [
    "Задание 3"
   ]
  },
  {
   "cell_type": "code",
   "execution_count": 14,
   "metadata": {},
   "outputs": [
    {
     "name": "stderr",
     "output_type": "stream",
     "text": [
      "/Users/kosov/anaconda/lib/python3.6/site-packages/ipykernel_launcher.py:25: RuntimeWarning: invalid value encountered in sqrt\n"
     ]
    }
   ],
   "source": [
    "#%%pycodestyle\n",
    "results = []\n",
    "n_loops = 1000\n",
    "for i in range(1,30):\n",
    "    result = []\n",
    "    for j in range(n_loops):\n",
    "        X_train, X_test, y_train, y_test = (\n",
    "            train_test_split(\n",
    "                iris.data, iris.target, test_size=0.1, stratify=iris.target\n",
    "            )\n",
    "        )\n",
    "        my_clf = MyKNeighborsClassifier(n_neighbors=i)\n",
    "        my_clf.fit(X_train, y_train)\n",
    "        result.append(my_clf.score(X_test, y_test))\n",
    "    results.append(np.mean(result))\n",
    "results = np.array(results)"
   ]
  },
  {
   "cell_type": "code",
   "execution_count": 15,
   "metadata": {},
   "outputs": [
    {
     "data": {
      "text/plain": [
       "13"
      ]
     },
     "execution_count": 15,
     "metadata": {},
     "output_type": "execute_result"
    }
   ],
   "source": [
    "opt_neigh = results.argmax()+1\n",
    "opt_neigh"
   ]
  },
  {
   "cell_type": "code",
   "execution_count": 16,
   "metadata": {},
   "outputs": [
    {
     "data": {
      "image/png": "[encoded data removed]",
      "text/plain": [
       "<matplotlib.figure.Figure at 0x116937cc0>"
      ]
     },
     "metadata": {},
     "output_type": "display_data"
    }
   ],
   "source": [
    "plt.plot(range(1,30), results)\n",
    "plt.xlabel(\"n neighbors\")\n",
    "plt.ylabel(\"mean score over {} loops\".format(n_loops))\n",
    "plt.title(\"grid search result\")\n",
    "plt.show()"
   ]
  },
  {
   "cell_type": "markdown",
   "metadata": {},
   "source": [
    "**MNIST**"
   ]
  },
  {
   "cell_type": "code",
   "execution_count": 17,
   "metadata": {
    "collapsed": true
   },
   "outputs": [],
   "source": [
    "mnist = fetch_mldata('MNIST original')"
   ]
  },
  {
   "cell_type": "code",
   "execution_count": 18,
   "metadata": {
    "collapsed": true
   },
   "outputs": [],
   "source": [
    "X_train, X_test, y_train, y_test = train_test_split(mnist.data, mnist.target, test_size=0.01, stratify=mnist.target)"
   ]
  },
  {
   "cell_type": "code",
   "execution_count": 19,
   "metadata": {
    "collapsed": true
   },
   "outputs": [],
   "source": [
    "clf = KNeighborsClassifier(n_neighbors=2)\n",
    "my_clf = MyKNeighborsClassifier(n_neighbors=2)"
   ]
  },
  {
   "cell_type": "code",
   "execution_count": 20,
   "metadata": {},
   "outputs": [
    {
     "name": "stdout",
     "output_type": "stream",
     "text": [
      "CPU times: user 41.9 s, sys: 644 ms, total: 42.6 s\n",
      "Wall time: 43.3 s\n"
     ]
    },
    {
     "data": {
      "text/plain": [
       "KNeighborsClassifier(algorithm='auto', leaf_size=30, metric='minkowski',\n",
       "           metric_params=None, n_jobs=1, n_neighbors=2, p=2,\n",
       "           weights='uniform')"
      ]
     },
     "execution_count": 20,
     "metadata": {},
     "output_type": "execute_result"
    }
   ],
   "source": [
    "%time clf.fit(X_train, y_train)"
   ]
  },
  {
   "cell_type": "code",
   "execution_count": 21,
   "metadata": {},
   "outputs": [
    {
     "name": "stdout",
     "output_type": "stream",
     "text": [
      "CPU times: user 158 ms, sys: 167 ms, total: 325 ms\n",
      "Wall time: 324 ms\n"
     ]
    }
   ],
   "source": [
    "%time my_clf.fit(X_train, y_train)"
   ]
  },
  {
   "cell_type": "code",
   "execution_count": 22,
   "metadata": {},
   "outputs": [
    {
     "name": "stdout",
     "output_type": "stream",
     "text": [
      "CPU times: user 1min 11s, sys: 436 ms, total: 1min 11s\n",
      "Wall time: 1min 12s\n"
     ]
    },
    {
     "data": {
      "text/plain": [
       "array([ 4.,  4.,  8.,  6.,  6.,  9.,  1.,  4.,  2.,  9.,  4.,  0.,  5.,\n",
       "        8.,  2.,  4.,  7.,  6.,  5.,  0.,  4.,  7.,  3.,  6.,  5.,  7.,\n",
       "        8.,  1.,  2.,  8.,  9.,  8.,  4.,  4.,  3.,  6.,  2.,  8.,  4.,\n",
       "        1.,  0.,  5.,  3.,  6.,  9.,  1.,  3.,  5.,  3.,  3.,  2.,  3.,\n",
       "        8.,  1.,  5.,  9.,  5.,  4.,  7.,  9.,  9.,  1.,  7.,  8.,  9.,\n",
       "        0.,  6.,  3.,  2.,  8.,  9.,  7.,  8.,  0.,  8.,  0.,  6.,  8.,\n",
       "        4.,  5.,  7.,  9.,  1.,  4.,  0.,  1.,  0.,  1.,  2.,  9.,  0.,\n",
       "        9.,  7.,  4.,  8.,  3.,  7.,  7.,  1.,  2.,  5.,  1.,  3.,  4.,\n",
       "        3.,  2.,  2.,  2.,  7.,  2.,  3.,  3.,  4.,  6.,  7.,  1.,  2.,\n",
       "        5.,  3.,  0.,  2.,  3.,  0.,  9.,  8.,  1.,  6.,  0.,  6.,  7.,\n",
       "        1.,  2.,  2.,  4.,  3.,  2.,  5.,  9.,  7.,  1.,  0.,  5.,  8.,\n",
       "        7.,  1.,  6.,  3.,  6.,  9.,  9.,  6.,  9.,  4.,  2.,  9.,  2.,\n",
       "        9.,  2.,  4.,  7.,  2.,  5.,  0.,  2.,  1.,  0.,  8.,  8.,  0.,\n",
       "        7.,  1.,  4.,  0.,  9.,  9.,  0.,  3.,  7.,  2.,  2.,  8.,  0.,\n",
       "        7.,  8.,  9.,  0.,  9.,  8.,  2.,  4.,  3.,  7.,  0.,  2.,  6.,\n",
       "        5.,  2.,  3.,  6.,  4.,  0.,  1.,  1.,  7.,  5.,  5.,  3.,  2.,\n",
       "        7.,  4.,  8.,  6.,  4.,  3.,  5.,  7.,  6.,  0.,  2.,  5.,  2.,\n",
       "        0.,  1.,  7.,  5.,  2.,  9.,  2.,  3.,  9.,  7.,  2.,  4.,  4.,\n",
       "        6.,  7.,  0.,  1.,  3.,  5.,  3.,  5.,  3.,  8.,  1.,  2.,  5.,\n",
       "        5.,  6.,  1.,  6.,  3.,  9.,  9.,  5.,  6.,  8.,  2.,  9.,  1.,\n",
       "        6.,  2.,  4.,  9.,  2.,  6.,  6.,  3.,  5.,  7.,  1.,  8.,  1.,\n",
       "        8.,  8.,  2.,  1.,  8.,  6.,  9.,  8.,  1.,  7.,  6.,  0.,  7.,\n",
       "        0.,  5.,  7.,  3.,  3.,  3.,  8.,  7.,  5.,  1.,  6.,  0.,  3.,\n",
       "        7.,  6.,  9.,  8.,  9.,  9.,  3.,  0.,  4.,  3.,  6.,  8.,  5.,\n",
       "        7.,  3.,  4.,  5.,  3.,  7.,  1.,  4.,  1.,  5.,  1.,  3.,  1.,\n",
       "        5.,  6.,  4.,  3.,  7.,  9.,  7.,  5.,  7.,  3.,  6.,  8.,  1.,\n",
       "        4.,  9.,  2.,  2.,  4.,  6.,  3.,  5.,  7.,  6.,  0.,  5.,  1.,\n",
       "        6.,  7.,  7.,  6.,  0.,  3.,  1.,  7.,  6.,  8.,  0.,  7.,  1.,\n",
       "        5.,  7.,  1.,  2.,  8.,  4.,  4.,  2.,  2.,  5.,  8.,  0.,  0.,\n",
       "        7.,  1.,  9.,  3.,  1.,  9.,  5.,  3.,  6.,  1.,  1.,  0.,  2.,\n",
       "        2.,  0.,  1.,  4.,  5.,  8.,  1.,  3.,  1.,  7.,  1.,  6.,  3.,\n",
       "        1.,  9.,  5.,  9.,  4.,  7.,  0.,  9.,  1.,  7.,  1.,  1.,  4.,\n",
       "        8.,  8.,  4.,  6.,  4.,  1.,  5.,  8.,  9.,  6.,  7.,  7.,  0.,\n",
       "        3.,  2.,  9.,  6.,  1.,  4.,  8.,  6.,  0.,  0.,  3.,  0.,  4.,\n",
       "        3.,  8.,  0.,  9.,  3.,  8.,  7.,  1.,  4.,  4.,  0.,  7.,  2.,\n",
       "        8.,  3.,  9.,  7.,  6.,  0.,  8.,  1.,  2.,  8.,  5.,  0.,  0.,\n",
       "        1.,  7.,  1.,  0.,  7.,  3.,  3.,  0.,  4.,  1.,  1.,  0.,  1.,\n",
       "        9.,  5.,  2.,  4.,  7.,  8.,  8.,  3.,  0.,  0.,  4.,  6.,  2.,\n",
       "        1.,  9.,  2.,  8.,  3.,  3.,  3.,  1.,  5.,  7.,  4.,  5.,  4.,\n",
       "        9.,  0.,  7.,  3.,  2.,  2.,  2.,  4.,  1.,  0.,  1.,  7.,  0.,\n",
       "        0.,  7.,  3.,  9.,  6.,  6.,  1.,  4.,  6.,  5.,  9.,  5.,  9.,\n",
       "        3.,  5.,  6.,  6.,  7.,  3.,  8.,  8.,  3.,  6.,  4.,  1.,  4.,\n",
       "        7.,  1.,  3.,  1.,  8.,  5.,  5.,  4.,  6.,  9.,  7.,  1.,  0.,\n",
       "        7.,  1.,  5.,  4.,  7.,  0.,  0.,  0.,  2.,  2.,  7.,  0.,  3.,\n",
       "        7.,  4.,  1.,  3.,  9.,  7.,  1.,  9.,  8.,  5.,  5.,  6.,  9.,\n",
       "        9.,  5.,  1.,  0.,  2.,  9.,  0.,  1.,  6.,  8.,  7.,  7.,  7.,\n",
       "        5.,  2.,  4.,  3.,  3.,  0.,  3.,  6.,  1.,  2.,  9.,  2.,  5.,\n",
       "        6.,  6.,  1.,  8.,  5.,  8.,  6.,  2.,  4.,  9.,  4.,  0.,  8.,\n",
       "        0.,  6.,  8.,  5.,  4.,  2.,  6.,  7.,  0.,  6.,  6.,  1.,  2.,\n",
       "        6.,  1.,  5.,  3.,  1.,  4.,  6.,  6.,  1.,  8.,  7.,  7.,  9.,\n",
       "        2.,  5.,  7.,  7.,  4.,  2.,  9.,  5.,  3.,  9.,  3.,  2.,  2.,\n",
       "        1.,  2.,  1.,  6.,  0.,  4.,  0.,  4.,  1.,  4.,  7.,  8.,  5.,\n",
       "        4.,  1.,  7.,  9.,  6.,  4.,  3.,  6.,  4.,  5.,  5.,  0.,  9.,\n",
       "        1.,  8.,  9.,  6.,  8.,  4.,  0.,  0.,  0.,  0.,  4.])"
      ]
     },
     "execution_count": 22,
     "metadata": {},
     "output_type": "execute_result"
    }
   ],
   "source": [
    "%time clf.predict(X_test)"
   ]
  },
  {
   "cell_type": "code",
   "execution_count": 23,
   "metadata": {},
   "outputs": [
    {
     "name": "stdout",
     "output_type": "stream",
     "text": [
      "CPU times: user 3.79 s, sys: 1.3 s, total: 5.09 s\n",
      "Wall time: 3.76 s\n"
     ]
    },
    {
     "data": {
      "text/plain": [
       "array([4, 4, 8, 6, 6, 9, 1, 4, 2, 9, 4, 0, 5, 8, 2, 4, 7, 6, 5, 0, 4, 7, 3,\n",
       "       6, 5, 7, 8, 1, 2, 8, 9, 8, 4, 4, 3, 6, 2, 8, 4, 1, 0, 5, 3, 6, 9, 1,\n",
       "       3, 5, 3, 3, 2, 3, 8, 1, 5, 9, 5, 4, 7, 9, 9, 1, 7, 8, 9, 0, 6, 3, 2,\n",
       "       8, 9, 7, 8, 0, 8, 0, 6, 8, 4, 5, 7, 9, 1, 4, 0, 1, 0, 1, 2, 9, 0, 9,\n",
       "       7, 4, 8, 3, 7, 7, 1, 2, 5, 1, 3, 4, 3, 2, 2, 2, 7, 2, 3, 3, 4, 6, 7,\n",
       "       1, 2, 5, 3, 0, 2, 3, 0, 9, 8, 1, 6, 0, 6, 7, 1, 2, 2, 4, 3, 2, 5, 9,\n",
       "       7, 1, 0, 5, 8, 7, 1, 6, 3, 6, 9, 9, 6, 9, 4, 2, 9, 2, 9, 2, 4, 7, 2,\n",
       "       5, 0, 2, 1, 0, 8, 8, 0, 7, 1, 4, 0, 9, 9, 0, 3, 7, 2, 2, 8, 0, 7, 8,\n",
       "       9, 0, 9, 8, 2, 4, 3, 7, 0, 2, 6, 5, 2, 3, 6, 4, 0, 1, 1, 7, 5, 5, 3,\n",
       "       2, 7, 4, 8, 6, 4, 3, 5, 7, 6, 0, 2, 5, 2, 0, 1, 7, 5, 2, 9, 2, 3, 9,\n",
       "       7, 2, 4, 4, 6, 7, 0, 1, 3, 5, 3, 5, 3, 8, 1, 2, 5, 5, 6, 1, 6, 3, 9,\n",
       "       9, 5, 6, 8, 2, 9, 1, 6, 2, 4, 9, 2, 6, 6, 3, 5, 7, 1, 8, 1, 8, 8, 2,\n",
       "       1, 8, 6, 9, 8, 1, 7, 6, 0, 7, 0, 5, 7, 3, 3, 3, 8, 7, 5, 1, 6, 0, 3,\n",
       "       7, 6, 9, 8, 9, 9, 3, 0, 4, 3, 6, 8, 5, 7, 3, 4, 5, 3, 7, 1, 4, 1, 5,\n",
       "       1, 3, 1, 5, 6, 4, 3, 7, 9, 7, 5, 7, 3, 6, 8, 1, 4, 9, 2, 2, 4, 6, 3,\n",
       "       5, 7, 6, 0, 5, 1, 6, 7, 7, 6, 0, 3, 1, 7, 6, 8, 0, 7, 1, 5, 7, 1, 2,\n",
       "       8, 4, 4, 2, 2, 5, 8, 0, 0, 7, 1, 9, 3, 1, 9, 5, 3, 6, 1, 1, 0, 2, 2,\n",
       "       0, 1, 4, 5, 8, 1, 3, 1, 7, 1, 6, 3, 1, 9, 5, 9, 4, 7, 0, 9, 1, 7, 1,\n",
       "       1, 4, 8, 8, 4, 6, 4, 1, 5, 8, 9, 6, 7, 7, 0, 3, 2, 9, 6, 1, 4, 8, 6,\n",
       "       0, 0, 3, 0, 4, 3, 8, 0, 9, 3, 8, 7, 1, 4, 4, 0, 7, 2, 8, 3, 9, 7, 6,\n",
       "       0, 8, 1, 2, 8, 5, 0, 0, 1, 7, 1, 0, 7, 3, 3, 0, 4, 1, 1, 0, 1, 9, 5,\n",
       "       2, 4, 7, 8, 8, 3, 0, 0, 4, 6, 2, 1, 9, 2, 8, 3, 3, 3, 1, 5, 7, 4, 5,\n",
       "       4, 9, 0, 7, 3, 2, 2, 2, 4, 1, 0, 1, 7, 0, 0, 7, 3, 9, 6, 6, 1, 4, 6,\n",
       "       5, 9, 5, 9, 3, 5, 6, 6, 7, 3, 8, 8, 3, 6, 4, 1, 4, 7, 1, 3, 1, 8, 5,\n",
       "       5, 4, 6, 9, 7, 1, 0, 7, 1, 5, 4, 7, 0, 0, 0, 2, 2, 7, 0, 3, 7, 4, 1,\n",
       "       3, 9, 7, 1, 9, 8, 5, 5, 6, 9, 9, 5, 1, 0, 2, 9, 0, 1, 6, 8, 7, 7, 7,\n",
       "       5, 2, 4, 3, 3, 0, 3, 6, 1, 2, 9, 2, 5, 6, 6, 1, 8, 5, 8, 6, 2, 4, 9,\n",
       "       4, 0, 8, 0, 6, 8, 5, 4, 2, 6, 7, 0, 6, 6, 1, 2, 6, 1, 5, 3, 1, 4, 6,\n",
       "       6, 1, 8, 7, 7, 9, 2, 5, 7, 7, 4, 2, 9, 5, 3, 9, 3, 2, 2, 1, 2, 1, 6,\n",
       "       0, 4, 0, 4, 1, 4, 7, 8, 5, 4, 1, 7, 9, 6, 4, 3, 6, 4, 5, 5, 0, 9, 1,\n",
       "       8, 9, 6, 8, 4, 0, 0, 0, 0, 4])"
      ]
     },
     "execution_count": 23,
     "metadata": {},
     "output_type": "execute_result"
    }
   ],
   "source": [
    "%time my_clf.predict(X_test)"
   ]
  },
  {
   "cell_type": "code",
   "execution_count": 24,
   "metadata": {},
   "outputs": [
    {
     "name": "stdout",
     "output_type": "stream",
     "text": [
      "CPU times: user 1min 11s, sys: 441 ms, total: 1min 11s\n",
      "Wall time: 1min 12s\n"
     ]
    },
    {
     "data": {
      "text/plain": [
       "array([[ 0.,  0.,  0., ...,  0.,  0.,  0.],\n",
       "       [ 0.,  0.,  0., ...,  0.,  0.,  0.],\n",
       "       [ 0.,  0.,  0., ...,  0.,  1.,  0.],\n",
       "       ..., \n",
       "       [ 1.,  0.,  0., ...,  0.,  0.,  0.],\n",
       "       [ 1.,  0.,  0., ...,  0.,  0.,  0.],\n",
       "       [ 0.,  0.,  0., ...,  0.,  0.,  0.]])"
      ]
     },
     "execution_count": 24,
     "metadata": {},
     "output_type": "execute_result"
    }
   ],
   "source": [
    "%time clf.predict_proba(X_test)"
   ]
  },
  {
   "cell_type": "code",
   "execution_count": 25,
   "metadata": {},
   "outputs": [
    {
     "name": "stdout",
     "output_type": "stream",
     "text": [
      "CPU times: user 3.9 s, sys: 1.33 s, total: 5.23 s\n",
      "Wall time: 3.88 s\n"
     ]
    },
    {
     "data": {
      "text/plain": [
       "array([[ 0.,  0.,  0., ...,  0.,  0.,  0.],\n",
       "       [ 0.,  0.,  0., ...,  0.,  0.,  0.],\n",
       "       [ 0.,  0.,  0., ...,  0.,  1.,  0.],\n",
       "       ..., \n",
       "       [ 1.,  0.,  0., ...,  0.,  0.,  0.],\n",
       "       [ 1.,  0.,  0., ...,  0.,  0.,  0.],\n",
       "       [ 0.,  0.,  0., ...,  0.,  0.,  0.]])"
      ]
     },
     "execution_count": 25,
     "metadata": {},
     "output_type": "execute_result"
    }
   ],
   "source": [
    "%time my_clf.predict_proba(X_test)"
   ]
  },
  {
   "cell_type": "code",
   "execution_count": 26,
   "metadata": {},
   "outputs": [
    {
     "data": {
      "text/plain": [
       "0.96571428571428575"
      ]
     },
     "execution_count": 26,
     "metadata": {},
     "output_type": "execute_result"
    }
   ],
   "source": [
    "clf.score(X_test, y_test)"
   ]
  },
  {
   "cell_type": "code",
   "execution_count": 27,
   "metadata": {},
   "outputs": [
    {
     "data": {
      "text/plain": [
       "0.96571428571428575"
      ]
     },
     "execution_count": 27,
     "metadata": {},
     "output_type": "execute_result"
    }
   ],
   "source": [
    "my_clf.score(X_test, y_test)"
   ]
  },
  {
   "cell_type": "markdown",
   "metadata": {},
   "source": [
    "Задание 4"
   ]
  },
  {
   "cell_type": "code",
   "execution_count": 28,
   "metadata": {
    "collapsed": true
   },
   "outputs": [],
   "source": [
    "clf = KNeighborsClassifier(n_neighbors=opt_neigh, algorithm='kd_tree')\n",
    "my_clf = MyKNeighborsClassifier(n_neighbors=opt_neigh, algorithm='kd_tree')"
   ]
  },
  {
   "cell_type": "code",
   "execution_count": 29,
   "metadata": {
    "collapsed": true
   },
   "outputs": [],
   "source": [
    "X_train, X_test, y_train, y_test = train_test_split(mnist.data, mnist.target, test_size=0.01, stratify=mnist.target)"
   ]
  },
  {
   "cell_type": "code",
   "execution_count": 30,
   "metadata": {},
   "outputs": [
    {
     "name": "stdout",
     "output_type": "stream",
     "text": [
      "CPU times: user 42 s, sys: 621 ms, total: 42.6 s\n",
      "Wall time: 43 s\n"
     ]
    },
    {
     "data": {
      "text/plain": [
       "KNeighborsClassifier(algorithm='kd_tree', leaf_size=30, metric='minkowski',\n",
       "           metric_params=None, n_jobs=1, n_neighbors=13, p=2,\n",
       "           weights='uniform')"
      ]
     },
     "execution_count": 30,
     "metadata": {},
     "output_type": "execute_result"
    }
   ],
   "source": [
    "%time clf.fit(X_train, y_train)"
   ]
  },
  {
   "cell_type": "code",
   "execution_count": 31,
   "metadata": {},
   "outputs": [
    {
     "name": "stdout",
     "output_type": "stream",
     "text": [
      "CPU times: user 42.2 s, sys: 574 ms, total: 42.7 s\n",
      "Wall time: 43 s\n"
     ]
    }
   ],
   "source": [
    "%time my_clf.fit(X_train, y_train)"
   ]
  },
  {
   "cell_type": "code",
   "execution_count": 32,
   "metadata": {},
   "outputs": [
    {
     "name": "stdout",
     "output_type": "stream",
     "text": [
      "CPU times: user 1min 10s, sys: 228 ms, total: 1min 10s\n",
      "Wall time: 1min 10s\n"
     ]
    },
    {
     "data": {
      "text/plain": [
       "array([ 7.,  0.,  0.,  2.,  4.,  8.,  1.,  7.,  9.,  4.,  5.,  2.,  8.,\n",
       "        0.,  4.,  1.,  6.,  0.,  7.,  5.,  6.,  5.,  8.,  4.,  4.,  7.,\n",
       "        5.,  2.,  0.,  0.,  0.,  5.,  8.,  2.,  9.,  6.,  1.,  2.,  4.,\n",
       "        8.,  6.,  5.,  7.,  2.,  9.,  2.,  9.,  0.,  4.,  5.,  3.,  3.,\n",
       "        6.,  0.,  3.,  8.,  5.,  5.,  6.,  6.,  0.,  6.,  9.,  8.,  8.,\n",
       "        7.,  3.,  8.,  8.,  1.,  9.,  3.,  6.,  0.,  1.,  7.,  0.,  8.,\n",
       "        5.,  9.,  1.,  3.,  8.,  3.,  2.,  1.,  5.,  8.,  3.,  2.,  0.,\n",
       "        7.,  8.,  2.,  4.,  7.,  4.,  8.,  3.,  8.,  5.,  8.,  2.,  5.,\n",
       "        0.,  8.,  5.,  1.,  9.,  1.,  3.,  7.,  5.,  7.,  0.,  2.,  2.,\n",
       "        2.,  7.,  5.,  0.,  0.,  4.,  9.,  0.,  9.,  7.,  4.,  6.,  2.,\n",
       "        9.,  5.,  7.,  8.,  3.,  4.,  5.,  2.,  9.,  7.,  7.,  1.,  1.,\n",
       "        4.,  1.,  4.,  2.,  9.,  5.,  6.,  5.,  1.,  1.,  4.,  5.,  5.,\n",
       "        7.,  6.,  1.,  1.,  9.,  2.,  1.,  0.,  7.,  4.,  5.,  3.,  1.,\n",
       "        7.,  6.,  7.,  6.,  2.,  7.,  0.,  6.,  6.,  3.,  0.,  2.,  7.,\n",
       "        4.,  3.,  7.,  2.,  2.,  2.,  7.,  4.,  8.,  3.,  8.,  4.,  1.,\n",
       "        6.,  1.,  2.,  5.,  3.,  6.,  9.,  7.,  7.,  1.,  9.,  6.,  5.,\n",
       "        1.,  0.,  0.,  7.,  2.,  9.,  6.,  1.,  7.,  0.,  3.,  9.,  6.,\n",
       "        9.,  7.,  4.,  3.,  0.,  5.,  6.,  0.,  0.,  8.,  2.,  1.,  0.,\n",
       "        2.,  7.,  3.,  8.,  3.,  9.,  3.,  4.,  8.,  3.,  2.,  9.,  6.,\n",
       "        4.,  6.,  6.,  4.,  1.,  8.,  2.,  7.,  5.,  4.,  1.,  0.,  8.,\n",
       "        0.,  7.,  9.,  4.,  0.,  6.,  6.,  0.,  4.,  5.,  7.,  3.,  4.,\n",
       "        1.,  0.,  5.,  8.,  1.,  8.,  3.,  2.,  4.,  1.,  9.,  1.,  7.,\n",
       "        6.,  5.,  3.,  5.,  0.,  1.,  5.,  9.,  3.,  3.,  0.,  4.,  1.,\n",
       "        0.,  4.,  4.,  1.,  2.,  6.,  0.,  9.,  2.,  5.,  2.,  4.,  6.,\n",
       "        1.,  9.,  5.,  8.,  5.,  2.,  5.,  7.,  1.,  7.,  2.,  2.,  9.,\n",
       "        5.,  5.,  7.,  9.,  6.,  7.,  9.,  2.,  6.,  6.,  3.,  6.,  0.,\n",
       "        0.,  9.,  4.,  9.,  4.,  9.,  0.,  5.,  3.,  9.,  6.,  9.,  4.,\n",
       "        3.,  0.,  3.,  1.,  6.,  2.,  0.,  0.,  4.,  0.,  4.,  7.,  1.,\n",
       "        1.,  0.,  1.,  0.,  6.,  2.,  3.,  8.,  4.,  1.,  2.,  7.,  8.,\n",
       "        2.,  3.,  1.,  4.,  8.,  5.,  4.,  4.,  2.,  1.,  6.,  8.,  5.,\n",
       "        1.,  3.,  8.,  6.,  7.,  9.,  9.,  6.,  4.,  8.,  5.,  4.,  2.,\n",
       "        2.,  3.,  0.,  8.,  7.,  3.,  9.,  4.,  4.,  8.,  9.,  3.,  6.,\n",
       "        1.,  4.,  2.,  6.,  0.,  4.,  4.,  3.,  3.,  7.,  4.,  3.,  8.,\n",
       "        5.,  8.,  2.,  5.,  7.,  8.,  8.,  5.,  9.,  9.,  4.,  1.,  1.,\n",
       "        7.,  2.,  1.,  9.,  5.,  9.,  8.,  5.,  7.,  8.,  1.,  9.,  5.,\n",
       "        2.,  9.,  3.,  2.,  1.,  2.,  3.,  6.,  1.,  5.,  0.,  9.,  8.,\n",
       "        9.,  6.,  6.,  9.,  2.,  1.,  4.,  9.,  1.,  2.,  7.,  0.,  8.,\n",
       "        7.,  9.,  4.,  0.,  0.,  4.,  1.,  4.,  4.,  2.,  7.,  1.,  5.,\n",
       "        3.,  6.,  3.,  7.,  0.,  4.,  7.,  3.,  4.,  7.,  7.,  9.,  7.,\n",
       "        9.,  1.,  9.,  0.,  8.,  3.,  5.,  7.,  8.,  2.,  3.,  2.,  8.,\n",
       "        6.,  6.,  9.,  5.,  6.,  3.,  8.,  9.,  3.,  1.,  3.,  9.,  6.,\n",
       "        5.,  2.,  7.,  5.,  1.,  5.,  2.,  8.,  2.,  9.,  6.,  2.,  2.,\n",
       "        1.,  7.,  5.,  7.,  7.,  7.,  5.,  1.,  0.,  5.,  3.,  6.,  0.,\n",
       "        0.,  0.,  3.,  4.,  5.,  4.,  7.,  0.,  1.,  3.,  3.,  6.,  9.,\n",
       "        2.,  7.,  1.,  6.,  7.,  7.,  3.,  7.,  4.,  3.,  0.,  6.,  8.,\n",
       "        4.,  7.,  1.,  4.,  7.,  9.,  1.,  1.,  8.,  8.,  9.,  1.,  2.,\n",
       "        3.,  4.,  9.,  1.,  8.,  5.,  3.,  5.,  1.,  4.,  8.,  6.,  0.,\n",
       "        3.,  0.,  1.,  6.,  3.,  3.,  9.,  9.,  1.,  3.,  6.,  1.,  4.,\n",
       "        1.,  5.,  6.,  2.,  9.,  3.,  6.,  9.,  6.,  4.,  2.,  6.,  6.,\n",
       "        2.,  7.,  8.,  1.,  5.,  7.,  3.,  2.,  8.,  4.,  1.,  0.,  2.,\n",
       "        1.,  2.,  7.,  1.,  5.,  3.,  8.,  7.,  9.,  1.,  7.,  8.,  9.,\n",
       "        1.,  0.,  6.,  0.,  3.,  7.,  5.,  4.,  6.,  1.,  3.,  6.,  1.,\n",
       "        9.,  4.,  8.,  8.,  6.,  1.,  6.,  2.,  0.,  7.,  6.,  7.,  3.,\n",
       "        0.,  1.,  3.,  8.,  0.,  3.,  3.,  9.,  1.,  9.,  0.])"
      ]
     },
     "execution_count": 32,
     "metadata": {},
     "output_type": "execute_result"
    }
   ],
   "source": [
    "%time clf.predict(X_test)"
   ]
  },
  {
   "cell_type": "code",
   "execution_count": 33,
   "metadata": {},
   "outputs": [
    {
     "name": "stdout",
     "output_type": "stream",
     "text": [
      "CPU times: user 59.9 s, sys: 361 ms, total: 1min\n",
      "Wall time: 1min\n"
     ]
    },
    {
     "data": {
      "text/plain": [
       "array([7, 0, 0, 2, 4, 8, 1, 7, 9, 4, 5, 2, 8, 0, 4, 1, 6, 0, 7, 5, 6, 5, 8,\n",
       "       4, 4, 7, 5, 2, 0, 0, 0, 5, 8, 2, 9, 6, 1, 2, 4, 8, 6, 5, 7, 2, 9, 2,\n",
       "       9, 0, 4, 5, 3, 3, 6, 0, 3, 8, 5, 5, 6, 6, 0, 6, 9, 8, 8, 7, 3, 8, 8,\n",
       "       1, 9, 3, 6, 0, 1, 7, 0, 8, 5, 9, 1, 3, 8, 3, 2, 1, 5, 8, 3, 2, 0, 7,\n",
       "       8, 2, 4, 7, 4, 8, 3, 8, 5, 8, 2, 5, 0, 8, 5, 1, 9, 1, 3, 7, 5, 7, 0,\n",
       "       2, 2, 2, 7, 5, 0, 0, 4, 9, 0, 9, 7, 4, 6, 2, 9, 5, 7, 8, 3, 4, 5, 2,\n",
       "       9, 7, 7, 1, 1, 4, 1, 4, 2, 9, 5, 6, 5, 1, 1, 4, 5, 5, 7, 6, 1, 1, 9,\n",
       "       2, 1, 0, 7, 4, 5, 3, 1, 7, 6, 7, 6, 2, 7, 0, 6, 6, 3, 0, 2, 7, 4, 3,\n",
       "       7, 2, 2, 2, 7, 4, 8, 3, 8, 4, 1, 6, 1, 2, 5, 3, 6, 9, 7, 7, 1, 9, 6,\n",
       "       5, 1, 0, 0, 7, 2, 9, 6, 1, 7, 0, 3, 9, 6, 9, 7, 4, 3, 0, 5, 6, 0, 0,\n",
       "       8, 2, 1, 0, 2, 7, 3, 8, 3, 9, 3, 4, 8, 3, 2, 9, 6, 4, 6, 6, 4, 1, 8,\n",
       "       2, 7, 5, 4, 1, 0, 8, 0, 7, 9, 4, 0, 6, 6, 0, 4, 5, 7, 3, 4, 1, 0, 5,\n",
       "       8, 1, 8, 3, 2, 4, 1, 9, 1, 7, 6, 5, 3, 5, 0, 1, 5, 9, 3, 3, 0, 4, 1,\n",
       "       0, 4, 4, 1, 2, 6, 0, 9, 2, 5, 2, 4, 6, 1, 9, 5, 8, 5, 2, 5, 7, 1, 7,\n",
       "       2, 2, 9, 5, 5, 7, 9, 6, 7, 9, 2, 6, 6, 3, 6, 0, 0, 9, 4, 9, 4, 9, 0,\n",
       "       5, 3, 9, 6, 9, 4, 3, 0, 3, 1, 6, 2, 0, 0, 4, 0, 4, 7, 1, 1, 0, 1, 0,\n",
       "       6, 2, 3, 8, 4, 1, 2, 7, 8, 2, 3, 1, 4, 8, 5, 4, 4, 2, 1, 6, 8, 5, 1,\n",
       "       3, 8, 6, 7, 9, 9, 6, 4, 8, 5, 4, 2, 2, 3, 0, 8, 7, 3, 9, 4, 4, 8, 9,\n",
       "       3, 6, 1, 4, 2, 6, 0, 4, 4, 3, 3, 7, 4, 3, 8, 5, 8, 2, 5, 7, 8, 8, 5,\n",
       "       9, 9, 4, 1, 1, 7, 2, 1, 9, 5, 9, 8, 5, 7, 8, 1, 9, 5, 2, 9, 3, 2, 1,\n",
       "       2, 3, 6, 1, 5, 0, 9, 8, 9, 6, 6, 9, 2, 1, 4, 9, 1, 2, 7, 0, 8, 7, 9,\n",
       "       4, 0, 0, 4, 1, 4, 4, 2, 7, 1, 5, 3, 6, 3, 7, 0, 4, 7, 3, 4, 7, 7, 9,\n",
       "       7, 9, 1, 9, 0, 8, 3, 5, 7, 8, 2, 3, 2, 8, 6, 6, 9, 5, 6, 3, 8, 9, 3,\n",
       "       1, 3, 9, 6, 5, 2, 7, 5, 1, 5, 2, 8, 2, 9, 6, 2, 2, 1, 7, 5, 7, 7, 7,\n",
       "       5, 1, 0, 5, 3, 6, 0, 0, 0, 3, 4, 5, 4, 7, 0, 1, 3, 3, 6, 9, 2, 7, 1,\n",
       "       6, 7, 7, 3, 7, 4, 3, 0, 6, 8, 4, 7, 1, 4, 7, 9, 1, 1, 8, 8, 9, 1, 2,\n",
       "       3, 4, 9, 1, 8, 5, 3, 5, 1, 4, 8, 6, 0, 3, 0, 1, 6, 3, 3, 9, 9, 1, 3,\n",
       "       6, 1, 4, 1, 5, 6, 2, 9, 3, 6, 9, 6, 4, 2, 6, 6, 2, 7, 8, 1, 5, 7, 3,\n",
       "       2, 8, 4, 1, 0, 2, 1, 2, 7, 1, 5, 3, 8, 7, 9, 1, 7, 8, 9, 1, 0, 6, 0,\n",
       "       3, 7, 5, 4, 6, 1, 3, 6, 1, 9, 4, 8, 8, 6, 1, 6, 2, 0, 7, 6, 7, 3, 0,\n",
       "       1, 3, 8, 0, 3, 3, 9, 1, 9, 0])"
      ]
     },
     "execution_count": 33,
     "metadata": {},
     "output_type": "execute_result"
    }
   ],
   "source": [
    "%time my_clf.predict(X_test)"
   ]
  },
  {
   "cell_type": "code",
   "execution_count": 34,
   "metadata": {},
   "outputs": [
    {
     "name": "stdout",
     "output_type": "stream",
     "text": [
      "CPU times: user 1min 12s, sys: 477 ms, total: 1min 13s\n",
      "Wall time: 1min 13s\n"
     ]
    },
    {
     "data": {
      "text/plain": [
       "array([[ 0.        ,  0.        ,  0.        , ...,  0.61538462,\n",
       "         0.        ,  0.38461538],\n",
       "       [ 1.        ,  0.        ,  0.        , ...,  0.        ,\n",
       "         0.        ,  0.        ],\n",
       "       [ 1.        ,  0.        ,  0.        , ...,  0.        ,\n",
       "         0.        ,  0.        ],\n",
       "       ..., \n",
       "       [ 0.        ,  1.        ,  0.        , ...,  0.        ,\n",
       "         0.        ,  0.        ],\n",
       "       [ 0.        ,  0.        ,  0.        , ...,  0.        ,\n",
       "         0.        ,  0.92307692],\n",
       "       [ 0.53846154,  0.        ,  0.46153846, ...,  0.        ,\n",
       "         0.        ,  0.        ]])"
      ]
     },
     "execution_count": 34,
     "metadata": {},
     "output_type": "execute_result"
    }
   ],
   "source": [
    "%time clf.predict_proba(X_test)"
   ]
  },
  {
   "cell_type": "code",
   "execution_count": 35,
   "metadata": {},
   "outputs": [
    {
     "name": "stdout",
     "output_type": "stream",
     "text": [
      "CPU times: user 1min, sys: 377 ms, total: 1min\n",
      "Wall time: 1min 1s\n"
     ]
    },
    {
     "data": {
      "text/plain": [
       "array([[ 0.        ,  0.        ,  0.        , ...,  0.61538462,\n",
       "         0.        ,  0.38461538],\n",
       "       [ 1.        ,  0.        ,  0.        , ...,  0.        ,\n",
       "         0.        ,  0.        ],\n",
       "       [ 1.        ,  0.        ,  0.        , ...,  0.        ,\n",
       "         0.        ,  0.        ],\n",
       "       ..., \n",
       "       [ 0.        ,  1.        ,  0.        , ...,  0.        ,\n",
       "         0.        ,  0.        ],\n",
       "       [ 0.        ,  0.        ,  0.        , ...,  0.        ,\n",
       "         0.        ,  0.92307692],\n",
       "       [ 0.53846154,  0.        ,  0.46153846, ...,  0.        ,\n",
       "         0.        ,  0.        ]])"
      ]
     },
     "execution_count": 35,
     "metadata": {},
     "output_type": "execute_result"
    }
   ],
   "source": [
    "%time my_clf.predict_proba(X_test)"
   ]
  },
  {
   "cell_type": "code",
   "execution_count": 36,
   "metadata": {},
   "outputs": [
    {
     "data": {
      "text/plain": [
       "0.96999999999999997"
      ]
     },
     "execution_count": 36,
     "metadata": {},
     "output_type": "execute_result"
    }
   ],
   "source": [
    "clf.score(X_test, y_test)"
   ]
  },
  {
   "cell_type": "code",
   "execution_count": 37,
   "metadata": {},
   "outputs": [
    {
     "data": {
      "text/plain": [
       "0.96999999999999997"
      ]
     },
     "execution_count": 37,
     "metadata": {},
     "output_type": "execute_result"
    }
   ],
   "source": [
    "my_clf.score(X_test, y_test)"
   ]
  },
  {
   "cell_type": "markdown",
   "metadata": {},
   "source": [
    "Задание 5"
   ]
  },
  {
   "cell_type": "code",
   "execution_count": 38,
   "metadata": {},
   "outputs": [
    {
     "data": {
      "text/plain": [
       "'\\nБазовый класс для реализаций классификатора при вызове fit\\n'"
      ]
     },
     "execution_count": 38,
     "metadata": {},
     "output_type": "execute_result"
    }
   ],
   "source": [
    "# seaborn\n",
    "\n",
    "\"\"\"\n",
    "Библиотека для визуализации данных, базирующаяся на matplotlib\n",
    "\"\"\"\n",
    "\n",
    "# matplotlib\n",
    "\n",
    "\"\"\"\n",
    "Библиотека для построения графиков\n",
    "\"\"\"\n",
    "\n",
    "# train_test_split\n",
    "\n",
    "\"\"\"\n",
    "Функция разбивающая выборку на тестовую и тренировочную\n",
    "Можно указать долю разбиения и настроить рандомизацию\n",
    "\"\"\"\n",
    "\n",
    "# Pipelin%load_ext e (from sklearn.pipeline import Pipeline)\n",
    "\n",
    "\"\"\"\n",
    "Позволяет последовательно преобразовывать данные. Выход одного ставится входом другого\n",
    "\"\"\"\n",
    "\n",
    "# StandardScaler (from sklearn.preprocessing import StandardScaler)\n",
    "\n",
    "\"\"\"\n",
    "Нормирует данные\n",
    "\"\"\"\n",
    "\n",
    "# ClassifierMixin\n",
    "\n",
    "\"\"\"\n",
    "Базовый класс от которого наследуются все классификаторы\n",
    "\"\"\"\n",
    "\n",
    "# NeighborsBase\n",
    "\n",
    "\"\"\"\n",
    "Базовый класс для всех neigbors предсказателей\n",
    "\"\"\"\n",
    "\n",
    "# KNeighborsMixin\n",
    "\n",
    "\"\"\"\n",
    "Базовый класс, поиск ближайших соседей\n",
    "\"\"\"\n",
    "\n",
    "# SupervisedIntegerMixin\n",
    "\n",
    "\"\"\"\n",
    "Базовый класс для реализаций классификатора при вызове fit\n",
    "\"\"\""
   ]
  },
  {
   "cell_type": "code",
   "execution_count": null,
   "metadata": {
    "collapsed": true
   },
   "outputs": [],
   "source": []
  }
 ],
 "metadata": {
  "kernelspec": {
   "display_name": "Python 3",
   "language": "python",
   "name": "python3"
  },
  "language_info": {
   "codemirror_mode": {
    "name": "ipython",
    "version": 3
   },
   "file_extension": ".py",
   "mimetype": "text/x-python",
   "name": "python",
   "nbconvert_exporter": "python",
   "pygments_lexer": "ipython3",
   "version": "3.6.1"
  }
 },
 "nbformat": 4,
 "nbformat_minor": 2
}
