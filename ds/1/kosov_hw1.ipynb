{
 "cells": [
  {
   "cell_type": "markdown",
   "metadata": {},
   "source": [
    "**Общая информация**\n",
    "\n",
    "**Срок сдачи:** 18 октября 2017, 06:00 <br\\>\n",
    "**Штраф за опоздание:** -2 балла после 06:00 18 октября, -4 балла после 06:00 25 октября, -6 баллов после 06:00 1 ноября\n",
    "\n",
    "При отправлении ДЗ указывайте фамилию в названии файла\n",
    "Присылать ДЗ необходимо в виде ссылки на свой github репозиторий в slack @alkhamush\n",
    "\n",
    "Необходимо в slack создать таск в приватный чат:\n",
    "/todo Фамилия Имя ссылка на гитхаб @alkhamush\n",
    "Пример:\n",
    "/todo Ксения Стройкова https://github.com/stroykova/spheremailru/stroykova_hw1.ipynb @alkhamush\n",
    "Дополнительно нужно просто скинуть ссылку в slack в личный чат\n",
    "\n",
    "Используйте данный Ipython Notebook при оформлении домашнего задания."
   ]
  },
  {
   "cell_type": "markdown",
   "metadata": {},
   "source": [
    "###### Задание 1 (2 баллов)\n",
    "Реализовать KNN в классе MyKNeighborsClassifier (обязательное условие: точность не ниже sklearn реализации)\n",
    "Разберитесь самостоятельно, какая мера расстояния используется в KNeighborsClassifier дефолтно и реализуйте свой алгоритм именно с этой мерой. Самостоятельно разберитесь, как считается score из KNeighborsClassifier и реализуйте аналог в своём классе. Score не должен уступать значению KNN из sklearn\n",
    "\n",
    "###### Задание 2 (2 балла)\n",
    "Добиться скорости работы на fit,  predict и predict_proba сравнимой со sklearn для iris и mnist\n",
    "Для этого используем numpy\n",
    "\n",
    "###### Задание 3 (2 балла)\n",
    "Для iris найдите такой параметр n_neighbors, при котором выдаётся наилучший score. Нарисуйте график зависимости score от n_neighbors\n",
    "\n",
    "###### Задание 4 (3 балла)\n",
    "Добавить algorithm='kd_tree' в реализацию KNN (использовать KDTree из sklearn.neighbors). Значение n_neighbors нужно взять из задания 3. Добиться скорости работы на fit,  predict и predict_proba сравнимой со sklearn для iris и mnist\n",
    "Для этого используем numpy. Score не должен уступать значению KNN из sklearn\n",
    "\n",
    "###### Задание 5 (1 балла)\n",
    "Описать для чего нужны следующие библиотеки/классы/функции (список будет ниже)\n",
    "\n",
    "**Штрафные баллы:**\n",
    "\n",
    "1. Невыполнение PEP8 -1 балл\n",
    "2. Отсутствие фамилии в имени скрипта (скрипт должен называться по аналогии со stroykova_hw1.ipynb) -1 балл\n",
    "3. Все строчки должны быть выполнены. Нужно, чтобы output команды можно было увидеть уже в git'е. В противном случае -1 балл\n",
    "4. При оформлении ДЗ нужно пользоваться данным файлом в качестве шаблона. Не нужно удалять и видоизменять структуру кода и текст. В противном случае -1 балл\n"
   ]
  },
  {
   "cell_type": "code",
   "execution_count": 2,
   "metadata": {
    "collapsed": true
   },
   "outputs": [],
   "source": [
    "import numpy as np\n",
    "import matplotlib.pyplot as plt\n",
    "\n",
    "import seaborn as sns\n",
    "from sklearn import datasets\n",
    "from sklearn.base import ClassifierMixin\n",
    "from sklearn.datasets import fetch_mldata\n",
    "from sklearn.neighbors.base import NeighborsBase, KNeighborsMixin, SupervisedIntegerMixin \n",
    "from sklearn.model_selection import train_test_split\n",
    "from sklearn.neighbors import KNeighborsClassifier\n",
    "%load_ext pycodestyle_magic"
   ]
  },
  {
   "cell_type": "code",
   "execution_count": 144,
   "metadata": {},
   "outputs": [],
   "source": [
    "#%%pycodestyle\n",
    "\n",
    "\n",
    "class MyKNeighborsClassifier(NeighborsBase,\n",
    "                             KNeighborsMixin,\n",
    "                             SupervisedIntegerMixin,\n",
    "                             ClassifierMixin):\n",
    "    \n",
    "    def __init__(self, n_neighbors, algorithm='brute'):\n",
    "        \n",
    "        self._init_params(n_neighbors=n_neighbors,\n",
    "                          algorithm=algorithm)\n",
    "        \n",
    "    def fit(self, X, y):\n",
    "        self._X_train = X\n",
    "        self._y_train = y\n",
    "        \n",
    "    def _predict(self, X):\n",
    "        tmp = np.linalg.norm(self._X_train-X, axis=1)\n",
    "        mask = np.argpartition(tmp, self.n_neighbors)[:self.n_neighbors]\n",
    "        return np.bincount(self._y_train[mask]).argmax()\n",
    "        \n",
    "    def predict(self, X):\n",
    "        if len(X.shape) == 1:\n",
    "            return np.array([self._predict(X)])\n",
    "        else:\n",
    "            return np.apply_along_axis(self._predict, 1, X)\n",
    "\n",
    "    def predict_proba(self, X):\n",
    "        pass\n",
    "\n",
    "    def score(self, X, y):\n",
    "        return np.average(y == self.predict(X))"
   ]
  },
  {
   "cell_type": "markdown",
   "metadata": {},
   "source": [
    "**IRIS**"
   ]
  },
  {
   "cell_type": "code",
   "execution_count": 145,
   "metadata": {
    "collapsed": true
   },
   "outputs": [],
   "source": [
    "iris = datasets.load_iris()"
   ]
  },
  {
   "cell_type": "code",
   "execution_count": 146,
   "metadata": {
    "collapsed": true
   },
   "outputs": [],
   "source": [
    "X_train, X_test, y_train, y_test = train_test_split(iris.data, iris.target, test_size=0.1, stratify=iris.target)"
   ]
  },
  {
   "cell_type": "code",
   "execution_count": 147,
   "metadata": {},
   "outputs": [],
   "source": [
    "clf = KNeighborsClassifier(n_neighbors=2)\n",
    "my_clf = MyKNeighborsClassifier(n_neighbors=2)"
   ]
  },
  {
   "cell_type": "code",
   "execution_count": 148,
   "metadata": {},
   "outputs": [
    {
     "name": "stdout",
     "output_type": "stream",
     "text": [
      "CPU times: user 1.22 ms, sys: 347 µs, total: 1.57 ms\n",
      "Wall time: 1.36 ms\n"
     ]
    },
    {
     "data": {
      "text/plain": [
       "KNeighborsClassifier(algorithm='auto', leaf_size=30, metric='minkowski',\n",
       "           metric_params=None, n_jobs=1, n_neighbors=2, p=2,\n",
       "           weights='uniform')"
      ]
     },
     "execution_count": 148,
     "metadata": {},
     "output_type": "execute_result"
    }
   ],
   "source": [
    "%time clf.fit(X_train, y_train)"
   ]
  },
  {
   "cell_type": "code",
   "execution_count": 149,
   "metadata": {},
   "outputs": [
    {
     "name": "stdout",
     "output_type": "stream",
     "text": [
      "CPU times: user 10 µs, sys: 1e+03 ns, total: 11 µs\n",
      "Wall time: 18.1 µs\n"
     ]
    }
   ],
   "source": [
    "%time my_clf.fit(X_train, y_train)"
   ]
  },
  {
   "cell_type": "code",
   "execution_count": 150,
   "metadata": {},
   "outputs": [
    {
     "name": "stdout",
     "output_type": "stream",
     "text": [
      "CPU times: user 2.22 ms, sys: 1.13 ms, total: 3.35 ms\n",
      "Wall time: 2.28 ms\n"
     ]
    },
    {
     "data": {
      "text/plain": [
       "array([1, 1, 0, 0, 0, 2, 0, 1, 1, 1, 1, 2, 1, 0, 2])"
      ]
     },
     "execution_count": 150,
     "metadata": {},
     "output_type": "execute_result"
    }
   ],
   "source": [
    "%time clf.predict(X_test)"
   ]
  },
  {
   "cell_type": "code",
   "execution_count": 151,
   "metadata": {},
   "outputs": [
    {
     "name": "stdout",
     "output_type": "stream",
     "text": [
      "CPU times: user 3.15 ms, sys: 1.87 ms, total: 5.01 ms\n",
      "Wall time: 3.25 ms\n"
     ]
    },
    {
     "data": {
      "text/plain": [
       "array([1, 1, 0, 0, 0, 2, 0, 1, 1, 1, 1, 2, 1, 0, 2])"
      ]
     },
     "execution_count": 151,
     "metadata": {},
     "output_type": "execute_result"
    }
   ],
   "source": [
    "%time my_clf.predict(X_test)"
   ]
  },
  {
   "cell_type": "code",
   "execution_count": 104,
   "metadata": {
    "collapsed": true
   },
   "outputs": [
    {
     "name": "stdout",
     "output_type": "stream",
     "text": [
      "CPU times: user 1.1 ms, sys: 382 µs, total: 1.48 ms\n",
      "Wall time: 1.15 ms\n"
     ]
    },
    {
     "data": {
      "text/plain": [
       "array([[ 1.,  0.,  0.],\n",
       "       [ 0.,  1.,  0.],\n",
       "       [ 0.,  1.,  0.],\n",
       "       [ 0.,  0.,  1.],\n",
       "       [ 0.,  1.,  0.],\n",
       "       [ 0.,  1.,  0.],\n",
       "       [ 0.,  0.,  1.],\n",
       "       [ 0.,  0.,  1.],\n",
       "       [ 1.,  0.,  0.],\n",
       "       [ 0.,  1.,  0.],\n",
       "       [ 1.,  0.,  0.],\n",
       "       [ 1.,  0.,  0.],\n",
       "       [ 0.,  1.,  0.],\n",
       "       [ 0.,  0.,  1.],\n",
       "       [ 1.,  0.,  0.]])"
      ]
     },
     "execution_count": 104,
     "metadata": {},
     "output_type": "execute_result"
    }
   ],
   "source": [
    "%time clf.predict_proba(X_test)"
   ]
  },
  {
   "cell_type": "code",
   "execution_count": null,
   "metadata": {
    "collapsed": true
   },
   "outputs": [],
   "source": [
    "%time my_clf.predict_proba(X_test)"
   ]
  },
  {
   "cell_type": "code",
   "execution_count": 152,
   "metadata": {},
   "outputs": [
    {
     "data": {
      "text/plain": [
       "0.8666666666666667"
      ]
     },
     "execution_count": 152,
     "metadata": {},
     "output_type": "execute_result"
    }
   ],
   "source": [
    "clf.score(X_test, y_test)"
   ]
  },
  {
   "cell_type": "code",
   "execution_count": 153,
   "metadata": {},
   "outputs": [
    {
     "data": {
      "text/plain": [
       "0.8666666666666667"
      ]
     },
     "execution_count": 153,
     "metadata": {},
     "output_type": "execute_result"
    }
   ],
   "source": [
    "my_clf.score(X_test, y_test)"
   ]
  },
  {
   "cell_type": "markdown",
   "metadata": {},
   "source": [
    "Задание 3"
   ]
  },
  {
   "cell_type": "code",
   "execution_count": null,
   "metadata": {
    "collapsed": true
   },
   "outputs": [],
   "source": []
  },
  {
   "cell_type": "markdown",
   "metadata": {},
   "source": [
    "**MNIST**"
   ]
  },
  {
   "cell_type": "code",
   "execution_count": 154,
   "metadata": {
    "collapsed": true
   },
   "outputs": [],
   "source": [
    "mnist = fetch_mldata('MNIST original')"
   ]
  },
  {
   "cell_type": "code",
   "execution_count": 155,
   "metadata": {
    "collapsed": true
   },
   "outputs": [],
   "source": [
    "X_train, X_test, y_train, y_test = train_test_split(mnist.data, mnist.target, test_size=0.01, stratify=mnist.target)"
   ]
  },
  {
   "cell_type": "code",
   "execution_count": 156,
   "metadata": {
    "collapsed": true
   },
   "outputs": [],
   "source": [
    "clf = KNeighborsClassifier(n_neighbors=2)\n",
    "my_clf = MyKNeighborsClassifier(n_neighbors=2)"
   ]
  },
  {
   "cell_type": "code",
   "execution_count": 157,
   "metadata": {},
   "outputs": [
    {
     "name": "stdout",
     "output_type": "stream",
     "text": [
      "CPU times: user 43.5 s, sys: 808 ms, total: 44.3 s\n",
      "Wall time: 45.4 s\n"
     ]
    },
    {
     "data": {
      "text/plain": [
       "KNeighborsClassifier(algorithm='auto', leaf_size=30, metric='minkowski',\n",
       "           metric_params=None, n_jobs=1, n_neighbors=2, p=2,\n",
       "           weights='uniform')"
      ]
     },
     "execution_count": 157,
     "metadata": {},
     "output_type": "execute_result"
    }
   ],
   "source": [
    "%time clf.fit(X_train, y_train)"
   ]
  },
  {
   "cell_type": "code",
   "execution_count": 158,
   "metadata": {},
   "outputs": [
    {
     "name": "stdout",
     "output_type": "stream",
     "text": [
      "CPU times: user 14 µs, sys: 36 µs, total: 50 µs\n",
      "Wall time: 55.8 µs\n"
     ]
    }
   ],
   "source": [
    "%time my_clf.fit(X_train, y_train)"
   ]
  },
  {
   "cell_type": "code",
   "execution_count": 51,
   "metadata": {
    "collapsed": true
   },
   "outputs": [
    {
     "name": "stdout",
     "output_type": "stream",
     "text": [
      "CPU times: user 1min 9s, sys: 181 ms, total: 1min 9s\n",
      "Wall time: 1min 9s\n"
     ]
    },
    {
     "data": {
      "text/plain": [
       "array([ 0.,  9.,  9.,  3.,  2.,  5.,  1.,  7.,  6.,  1.,  6.,  1.,  4.,\n",
       "        2.,  4.,  4.,  1.,  5.,  1.,  4.,  3.,  2.,  8.,  4.,  8.,  1.,\n",
       "        9.,  9.,  0.,  3.,  7.,  2.,  2.,  3.,  1.,  0.,  3.,  1.,  0.,\n",
       "        6.,  9.,  7.,  8.,  3.,  1.,  5.,  4.,  3.,  8.,  5.,  2.,  2.,\n",
       "        7.,  8.,  1.,  6.,  8.,  9.,  7.,  5.,  9.,  2.,  5.,  2.,  1.,\n",
       "        3.,  6.,  3.,  3.,  0.,  9.,  9.,  3.,  6.,  4.,  0.,  3.,  0.,\n",
       "        3.,  4.,  4.,  8.,  0.,  5.,  3.,  0.,  3.,  8.,  8.,  8.,  8.,\n",
       "        7.,  5.,  9.,  7.,  6.,  6.,  4.,  0.,  9.,  4.,  0.,  2.,  0.,\n",
       "        1.,  0.,  3.,  2.,  4.,  7.,  7.,  6.,  8.,  6.,  4.,  1.,  6.,\n",
       "        1.,  3.,  1.,  2.,  1.,  8.,  4.,  2.,  9.,  7.,  4.,  7.,  6.,\n",
       "        8.,  6.,  7.,  7.,  5.,  0.,  4.,  8.,  1.,  0.,  8.,  3.,  1.,\n",
       "        1.,  0.,  2.,  6.,  5.,  7.,  8.,  3.,  5.,  4.,  7.,  2.,  2.,\n",
       "        4.,  8.,  6.,  6.,  7.,  4.,  2.,  7.,  3.,  7.,  5.,  1.,  4.,\n",
       "        4.,  6.,  8.,  1.,  8.,  6.,  8.,  3.,  9.,  5.,  4.,  0.,  8.,\n",
       "        2.,  2.,  7.,  1.,  4.,  7.,  8.,  2.,  2.,  6.,  5.,  1.,  5.,\n",
       "        9.,  4.,  6.,  3.,  0.,  2.,  4.,  2.,  8.,  4.,  1.,  6.,  7.,\n",
       "        4.,  1.,  6.,  5.,  9.,  8.,  7.,  1.,  5.,  7.,  9.,  6.,  5.,\n",
       "        1.,  3.,  4.,  4.,  7.,  0.,  9.,  4.,  1.,  2.,  4.,  5.,  8.,\n",
       "        1.,  6.,  9.,  0.,  7.,  5.,  2.,  4.,  6.,  3.,  3.,  9.,  1.,\n",
       "        9.,  8.,  1.,  0.,  6.,  2.,  9.,  0.,  2.,  3.,  9.,  7.,  6.,\n",
       "        1.,  6.,  0.,  1.,  9.,  1.,  5.,  5.,  8.,  0.,  7.,  7.,  6.,\n",
       "        0.,  3.,  1.,  1.,  8.,  8.,  4.,  7.,  1.,  5.,  1.,  7.,  5.,\n",
       "        2.,  8.,  0.,  7.,  9.,  2.,  9.,  1.,  8.,  1.,  7.,  3.,  8.,\n",
       "        6.,  0.,  1.,  6.,  4.,  4.,  1.,  0.,  6.,  4.,  0.,  3.,  1.,\n",
       "        6.,  2.,  4.,  6.,  0.,  2.,  9.,  6.,  9.,  3.,  1.,  3.,  3.,\n",
       "        3.,  9.,  6.,  3.,  8.,  3.,  9.,  2.,  2.,  7.,  5.,  8.,  2.,\n",
       "        0.,  3.,  4.,  1.,  9.,  2.,  0.,  4.,  6.,  3.,  2.,  7.,  5.,\n",
       "        2.,  8.,  4.,  8.,  9.,  5.,  1.,  0.,  3.,  5.,  0.,  3.,  1.,\n",
       "        0.,  5.,  6.,  0.,  4.,  5.,  8.,  7.,  1.,  4.,  3.,  4.,  8.,\n",
       "        7.,  5.,  3.,  2.,  4.,  3.,  3.,  4.,  0.,  0.,  7.,  7.,  6.,\n",
       "        7.,  3.,  1.,  5.,  3.,  3.,  3.,  5.,  9.,  7.,  0.,  1.,  7.,\n",
       "        6.,  8.,  4.,  6.,  3.,  8.,  0.,  5.,  1.,  6.,  1.,  0.,  9.,\n",
       "        1.,  2.,  6.,  8.,  9.,  4.,  6.,  0.,  0.,  8.,  8.,  0.,  5.,\n",
       "        3.,  8.,  7.,  6.,  2.,  9.,  6.,  3.,  9.,  6.,  0.,  4.,  3.,\n",
       "        7.,  8.,  7.,  0.,  7.,  9.,  3.,  0.,  1.,  3.,  2.,  1.,  5.,\n",
       "        6.,  0.,  5.,  1.,  6.,  6.,  1.,  9.,  5.,  8.,  6.,  7.,  7.,\n",
       "        1.,  3.,  2.,  2.,  4.,  8.,  4.,  5.,  5.,  8.,  1.,  8.,  3.,\n",
       "        2.,  3.,  9.,  7.,  1.,  7.,  4.,  2.,  1.,  7.,  6.,  2.,  3.,\n",
       "        8.,  2.,  2.,  0.,  7.,  2.,  6.,  8.,  2.,  7.,  7.,  1.,  4.,\n",
       "        2.,  5.,  9.,  9.,  1.,  9.,  9.,  9.,  0.,  5.,  5.,  1.,  2.,\n",
       "        4.,  5.,  1.,  0.,  6.,  6.,  2.,  6.,  2.,  6.,  6.,  1.,  1.,\n",
       "        9.,  1.,  0.,  9.,  2.,  2.,  3.,  3.,  3.,  8.,  0.,  9.,  0.,\n",
       "        1.,  8.,  6.,  0.,  9.,  2.,  8.,  2.,  6.,  8.,  1.,  2.,  7.,\n",
       "        0.,  5.,  0.,  8.,  0.,  3.,  6.,  1.,  2.,  9.,  5.,  9.,  7.,\n",
       "        8.,  7.,  6.,  6.,  2.,  7.,  5.,  9.,  5.,  5.,  6.,  4.,  9.,\n",
       "        3.,  3.,  9.,  4.,  9.,  6.,  7.,  5.,  4.,  9.,  7.,  7.,  0.,\n",
       "        0.,  5.,  6.,  4.,  3.,  0.,  6.,  2.,  3.,  1.,  2.,  9.,  6.,\n",
       "        9.,  7.,  3.,  6.,  5.,  2.,  5.,  7.,  7.,  9.,  0.,  4.,  2.,\n",
       "        2.,  2.,  8.,  1.,  9.,  1.,  4.,  0.,  9.,  4.,  3.,  1.,  0.,\n",
       "        5.,  6.,  8.,  9.,  8.,  9.,  9.,  3.,  3.,  3.,  0.,  9.,  7.,\n",
       "        4.,  3.,  9.,  5.,  1.,  7.,  5.,  4.,  0.,  0.,  4.,  7.,  9.,\n",
       "        5.,  0.,  2.,  3.,  2.,  7.,  2.,  7.,  1.,  3.,  5.,  6.,  4.,\n",
       "        9.,  1.,  4.,  4.,  7.,  7.,  5.,  1.,  3.,  9.,  6.,  7.,  1.,\n",
       "        5.,  0.,  8.,  7.,  0.,  2.,  3.,  1.,  0.,  1.,  5.])"
      ]
     },
     "execution_count": 51,
     "metadata": {},
     "output_type": "execute_result"
    }
   ],
   "source": [
    "%time clf.predict(X_test)"
   ]
  },
  {
   "cell_type": "code",
   "execution_count": 128,
   "metadata": {
    "collapsed": true
   },
   "outputs": [
    {
     "name": "stdout",
     "output_type": "stream",
     "text": [
      "CPU times: user 4min 21s, sys: 4min 41s, total: 9min 2s\n",
      "Wall time: 9min 7s\n"
     ]
    },
    {
     "data": {
      "text/plain": [
       "array([ 1.,  6.,  0.,  1.,  0.,  1.,  1.,  6.,  0.,  1.,  2.,  4.,  1.,\n",
       "        3.,  3.,  1.,  2.,  4.,  1.,  1.,  1.,  1.,  2.,  0.,  5.,  4.,\n",
       "        3.,  1.,  4.,  2.,  6.,  4.,  4.,  1.,  6.,  5.,  2.,  0.,  7.,\n",
       "        4.,  3.,  1.,  1.,  4.,  9.,  1.,  1.,  1.,  1.,  4.,  7.,  1.,\n",
       "        1.,  1.,  6.,  1.,  0.,  4.,  1.,  7.,  2.,  3.,  7.,  4.,  2.,\n",
       "        1.,  5.,  1.,  2.,  4.,  9.,  2.,  1.,  7.,  2.,  7.,  1.,  7.,\n",
       "        1.,  7.,  1.,  5.,  3.,  5.,  0.,  8.,  1.,  5.,  4.,  6.,  8.,\n",
       "        0.,  5.,  1.,  1.,  3.,  1.,  6.,  0.,  4.,  4.,  7.,  8.,  1.,\n",
       "        9.,  0.,  1.,  8.,  1.,  1.,  1.,  0.,  4.,  4.,  6.,  0.,  4.,\n",
       "        4.,  4.,  1.,  1.,  7.,  4.,  4.,  1.,  7.,  2.,  1.,  1.,  4.,\n",
       "        1.,  1.,  3.,  1.,  2.,  9.,  1.,  1.,  0.,  1.,  2.,  2.,  1.,\n",
       "        5.,  1.,  4.,  5.,  6.,  0.,  1.,  2.,  4.,  7.,  3.,  2.,  1.,\n",
       "        1.,  6.,  7.,  3.,  1.,  1.,  7.,  0.,  0.,  1.,  0.,  1.,  4.,\n",
       "        2.,  5.,  1.,  4.,  1.,  3.,  3.,  8.,  2.,  1.,  7.,  7.,  4.,\n",
       "        1.,  4.,  1.,  1.,  1.,  7.,  1.,  1.,  1.,  1.,  4.,  1.,  7.,\n",
       "        0.,  1.,  1.,  6.,  1.,  1.,  2.,  1.,  4.,  1.,  1.,  1.,  6.,\n",
       "        1.,  1.,  2.,  1.,  1.,  0.,  0.,  5.,  8.,  3.,  1.,  7.,  1.,\n",
       "        1.,  9.,  7.,  1.,  4.,  1.,  1.,  2.,  4.,  1.,  1.,  1.,  1.,\n",
       "        1.,  4.,  0.,  2.,  1.,  3.,  2.,  1.,  1.,  5.,  6.,  1.,  1.,\n",
       "        0.,  1.,  4.,  6.,  1.,  1.,  3.,  7.,  1.,  7.,  1.,  1.,  5.,\n",
       "        4.,  4.,  1.,  1.,  0.,  1.,  1.,  7.,  1.,  2.,  9.,  1.,  1.,\n",
       "        4.,  5.,  6.,  7.,  7.,  5.,  6.,  7.,  6.,  3.,  4.,  1.,  1.,\n",
       "        1.,  4.,  6.,  4.,  1.,  7.,  1.,  1.,  6.,  0.,  4.,  1.,  1.,\n",
       "        5.,  1.,  5.,  1.,  5.,  1.,  9.,  1.,  0.,  1.,  2.,  6.,  1.,\n",
       "        0.,  0.,  1.,  1.,  3.,  9.,  1.,  1.,  1.,  4.,  1.,  9.,  2.,\n",
       "        4.,  2.,  3.,  6.,  1.,  1.,  3.,  1.,  3.,  1.,  2.,  7.,  3.,\n",
       "        0.,  1.,  6.,  1.,  6.,  7.,  7.,  8.,  0.,  1.,  1.,  1.,  1.,\n",
       "        4.,  1.,  1.,  1.,  5.,  1.,  4.,  6.,  4.,  5.,  3.,  7.,  1.,\n",
       "        1.,  6.,  1.,  4.,  6.,  1.,  1.,  1.,  1.,  4.,  1.,  7.,  4.,\n",
       "        7.,  6.,  1.,  2.,  1.,  1.,  1.,  2.,  4.,  1.,  4.,  9.,  7.,\n",
       "        1.,  2.,  1.,  1.,  7.,  1.,  1.,  0.,  1.,  1.,  4.,  1.,  7.,\n",
       "        2.,  2.,  5.,  1.,  4.,  1.,  4.,  1.,  3.,  3.,  1.,  3.,  1.,\n",
       "        8.,  1.,  6.,  0.,  5.,  1.,  7.,  4.,  6.,  8.,  0.,  9.,  9.,\n",
       "        1.,  6.,  0.,  1.,  1.,  2.,  1.,  2.,  1.,  1.,  1.,  1.,  0.,\n",
       "        2.,  1.,  1.,  1.,  1.,  1.,  1.,  3.,  1.,  0.,  1.,  1.,  3.,\n",
       "        7.,  2.,  1.,  3.,  1.,  0.,  3.,  3.,  0.,  2.,  1.,  4.,  3.,\n",
       "        0.,  1.,  1.,  1.,  4.,  3.,  1.,  4.,  1.,  6.,  3.,  2.,  9.,\n",
       "        3.,  2.,  2.,  4.,  1.,  1.,  1.,  1.,  1.,  6.,  2.,  1.,  5.,\n",
       "        1.,  3.,  1.,  1.,  1.,  5.,  7.,  4.,  1.,  6.,  1.,  3.,  9.,\n",
       "        1.,  1.,  4.,  2.,  0.,  1.,  3.,  3.,  1.,  1.,  5.,  1.,  5.,\n",
       "        0.,  1.,  1.,  3.,  2.,  1.,  1.,  1.,  1.,  6.,  4.,  1.,  2.,\n",
       "        0.,  4.,  1.,  1.,  1.,  1.,  1.,  1.,  1.,  1.,  7.,  2.,  9.,\n",
       "        1.,  7.,  6.,  1.,  1.,  7.,  6.,  1.,  4.,  1.,  1.,  3.,  0.,\n",
       "        1.,  1.,  1.,  6.,  4.,  1.,  2.,  1.,  2.,  6.,  8.,  4.,  3.,\n",
       "        7.,  8.,  1.,  4.,  3.,  1.,  3.,  4.,  2.,  1.,  1.,  1.,  6.,\n",
       "        2.,  1.,  1.,  1.,  1.,  1.,  2.,  4.,  8.,  6.,  1.,  1.,  1.,\n",
       "        4.,  4.,  1.,  1.,  1.,  1.,  1.,  1.,  6.,  1.,  4.,  1.,  5.,\n",
       "        5.,  1.,  4.,  1.,  1.,  4.,  0.,  1.,  7.,  2.,  0.,  4.,  4.,\n",
       "        1.,  2.,  3.,  5.,  5.,  6.,  0.,  2.,  4.,  0.,  4.,  1.,  8.,\n",
       "        1.,  1.,  1.,  4.,  5.,  0.,  1.,  7.,  0.,  1.,  1.,  1.,  5.,\n",
       "        1.,  1.,  4.,  1.,  4.,  4.,  1.,  4.,  3.,  2.,  5.,  1.,  4.,\n",
       "        6.,  1.,  1.,  1.,  1.,  0.,  9.,  1.,  3.,  4.,  1.,  2.,  1.,\n",
       "        9.,  1.,  1.,  1.,  1.,  3.,  7.,  7.,  1.,  1.,  3.,  5.,  5.,\n",
       "        7.,  6.,  1.,  3.,  0.,  4.,  8.,  1.,  6.,  1.,  4.])"
      ]
     },
     "execution_count": 128,
     "metadata": {},
     "output_type": "execute_result"
    }
   ],
   "source": [
    "%time my_clf.predict(X_test)"
   ]
  },
  {
   "cell_type": "code",
   "execution_count": null,
   "metadata": {
    "collapsed": true
   },
   "outputs": [],
   "source": [
    "%time clf.predict_proba(X_test)"
   ]
  },
  {
   "cell_type": "code",
   "execution_count": null,
   "metadata": {
    "collapsed": true
   },
   "outputs": [],
   "source": [
    "%time my_clf.predict_proba(X_test)"
   ]
  },
  {
   "cell_type": "code",
   "execution_count": 53,
   "metadata": {},
   "outputs": [
    {
     "data": {
      "text/plain": [
       "0.96571428571428575"
      ]
     },
     "execution_count": 53,
     "metadata": {},
     "output_type": "execute_result"
    }
   ],
   "source": [
    "clf.score(X_test, y_test)"
   ]
  },
  {
   "cell_type": "code",
   "execution_count": 54,
   "metadata": {},
   "outputs": [
    {
     "data": {
      "text/plain": [
       "0.3914285714285714"
      ]
     },
     "execution_count": 54,
     "metadata": {},
     "output_type": "execute_result"
    }
   ],
   "source": [
    "my_clf.score(X_test, y_test)"
   ]
  },
  {
   "cell_type": "markdown",
   "metadata": {},
   "source": [
    "Задание 4"
   ]
  },
  {
   "cell_type": "code",
   "execution_count": null,
   "metadata": {
    "collapsed": true
   },
   "outputs": [],
   "source": [
    "clf = KNeighborsClassifier(n_neighbors=2, algorithm='kd_tree')\n",
    "my_clf = MyKNeighborsClassifier(n_neighbors=2, algorithm='kd_tree')"
   ]
  },
  {
   "cell_type": "code",
   "execution_count": null,
   "metadata": {
    "collapsed": true
   },
   "outputs": [],
   "source": [
    "X_train, X_test, y_train, y_test = train_test_split(mnist.data, mnist.target, test_size=0.01, stratify=mnist.target)"
   ]
  },
  {
   "cell_type": "code",
   "execution_count": null,
   "metadata": {
    "collapsed": true
   },
   "outputs": [],
   "source": [
    "%time clf.fit(X_train, y_train)"
   ]
  },
  {
   "cell_type": "code",
   "execution_count": null,
   "metadata": {
    "collapsed": true
   },
   "outputs": [],
   "source": [
    "%time my_clf.fit(X_train, y_train)"
   ]
  },
  {
   "cell_type": "code",
   "execution_count": null,
   "metadata": {
    "collapsed": true
   },
   "outputs": [],
   "source": [
    "%time clf.predict(X_test)"
   ]
  },
  {
   "cell_type": "code",
   "execution_count": null,
   "metadata": {
    "collapsed": true
   },
   "outputs": [],
   "source": [
    "%time my_clf.predict(X_test)"
   ]
  },
  {
   "cell_type": "code",
   "execution_count": null,
   "metadata": {
    "collapsed": true
   },
   "outputs": [],
   "source": [
    "%time clf.predict_proba(X_test)"
   ]
  },
  {
   "cell_type": "code",
   "execution_count": null,
   "metadata": {
    "collapsed": true
   },
   "outputs": [],
   "source": [
    "%time my_clf.predict_proba(X_test)"
   ]
  },
  {
   "cell_type": "code",
   "execution_count": null,
   "metadata": {
    "collapsed": true
   },
   "outputs": [],
   "source": [
    "clf.score(X_test, y_test)"
   ]
  },
  {
   "cell_type": "code",
   "execution_count": null,
   "metadata": {
    "collapsed": true
   },
   "outputs": [],
   "source": [
    "my_clf.score(X_test, y_test)"
   ]
  },
  {
   "cell_type": "markdown",
   "metadata": {},
   "source": [
    "Задание 5"
   ]
  },
  {
   "cell_type": "code",
   "execution_count": null,
   "metadata": {
    "collapsed": true
   },
   "outputs": [],
   "source": [
    "# seaborn\n",
    "# matplotlib\n",
    "# train_test_split\n",
    "# Pipelin%load_ext e (from sklearn.pipeline import Pipeline)\n",
    "# StandardScaler (from sklearn.preprocessing import StandardScaler)\n",
    "# ClassifierMixin\n",
    "# NeighborsBase\n",
    "# KNeighborsMixin\n",
    "# SupervisedIntegerMixin"
   ]
  }
 ],
 "metadata": {
  "kernelspec": {
   "display_name": "Python 3",
   "language": "python",
   "name": "python3"
  },
  "language_info": {
   "codemirror_mode": {
    "name": "ipython",
    "version": 3
   },
   "file_extension": ".py",
   "mimetype": "text/x-python",
   "name": "python",
   "nbconvert_exporter": "python",
   "pygments_lexer": "ipython3",
   "version": "3.6.1"
  }
 },
 "nbformat": 4,
 "nbformat_minor": 2
}
