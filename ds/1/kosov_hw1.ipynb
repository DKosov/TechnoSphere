{
 "cells": [
  {
   "cell_type": "markdown",
   "metadata": {},
   "source": [
    "**Общая информация**\n",
    "\n",
    "**Срок сдачи:** 18 октября 2017, 06:00 <br\\>\n",
    "**Штраф за опоздание:** -2 балла после 06:00 18 октября, -4 балла после 06:00 25 октября, -6 баллов после 06:00 1 ноября\n",
    "\n",
    "При отправлении ДЗ указывайте фамилию в названии файла\n",
    "Присылать ДЗ необходимо в виде ссылки на свой github репозиторий в slack @alkhamush\n",
    "\n",
    "Необходимо в slack создать таск в приватный чат:\n",
    "/todo Фамилия Имя ссылка на гитхаб @alkhamush\n",
    "Пример:\n",
    "/todo Ксения Стройкова https://github.com/stroykova/spheremailru/stroykova_hw1.ipynb @alkhamush\n",
    "Дополнительно нужно просто скинуть ссылку в slack в личный чат\n",
    "\n",
    "Используйте данный Ipython Notebook при оформлении домашнего задания."
   ]
  },
  {
   "cell_type": "markdown",
   "metadata": {},
   "source": [
    "###### Задание 1 (2 баллов)\n",
    "Реализовать KNN в классе MyKNeighborsClassifier (обязательное условие: точность не ниже sklearn реализации)\n",
    "Разберитесь самостоятельно, какая мера расстояния используется в KNeighborsClassifier дефолтно и реализуйте свой алгоритм именно с этой мерой. Самостоятельно разберитесь, как считается score из KNeighborsClassifier и реализуйте аналог в своём классе. Score не должен уступать значению KNN из sklearn\n",
    "\n",
    "###### Задание 2 (2 балла)\n",
    "Добиться скорости работы на fit,  predict и predict_proba сравнимой со sklearn для iris и mnist\n",
    "Для этого используем numpy\n",
    "\n",
    "###### Задание 3 (2 балла)\n",
    "Для iris найдите такой параметр n_neighbors, при котором выдаётся наилучший score. Нарисуйте график зависимости score от n_neighbors\n",
    "\n",
    "###### Задание 4 (3 балла)\n",
    "Добавить algorithm='kd_tree' в реализацию KNN (использовать KDTree из sklearn.neighbors). Значение n_neighbors нужно взять из задания 3. Добиться скорости работы на fit,  predict и predict_proba сравнимой со sklearn для iris и mnist\n",
    "Для этого используем numpy. Score не должен уступать значению KNN из sklearn\n",
    "\n",
    "###### Задание 5 (1 балла)\n",
    "Описать для чего нужны следующие библиотеки/классы/функции (список будет ниже)\n",
    "\n",
    "**Штрафные баллы:**\n",
    "\n",
    "1. Невыполнение PEP8 -1 балл\n",
    "2. Отсутствие фамилии в имени скрипта (скрипт должен называться по аналогии со stroykova_hw1.ipynb) -1 балл\n",
    "3. Все строчки должны быть выполнены. Нужно, чтобы output команды можно было увидеть уже в git'е. В противном случае -1 балл\n",
    "4. При оформлении ДЗ нужно пользоваться данным файлом в качестве шаблона. Не нужно удалять и видоизменять структуру кода и текст. В противном случае -1 балл\n"
   ]
  },
  {
   "cell_type": "code",
   "execution_count": 178,
   "metadata": {},
   "outputs": [],
   "source": [
    "import numpy as np\n",
    "import matplotlib.pyplot as plt\n",
    "\n",
    "import seaborn as sns\n",
    "from sklearn import datasets\n",
    "from sklearn.metrics import pairwise_distances\n",
    "from sklearn.base import ClassifierMixin\n",
    "from sklearn.datasets import fetch_mldata\n",
    "from sklearn.neighbors.base import NeighborsBase, KNeighborsMixin, SupervisedIntegerMixin \n",
    "from sklearn.model_selection import train_test_split\n",
    "from sklearn.neighbors import KNeighborsClassifier\n",
    "#%load_ext pycodestyle_magic"
   ]
  },
  {
   "cell_type": "code",
   "execution_count": 241,
   "metadata": {},
   "outputs": [],
   "source": [
    "#%%pycodestyle\n",
    "\n",
    "\n",
    "class MyKNeighborsClassifier(NeighborsBase,\n",
    "                             KNeighborsMixin,\n",
    "                             SupervisedIntegerMixin,\n",
    "                             ClassifierMixin):\n",
    "    \n",
    "    def __init__(self, n_neighbors, algorithm='brute'):\n",
    "        \n",
    "        self._init_params(n_neighbors=n_neighbors,\n",
    "                          algorithm=algorithm)\n",
    "        \n",
    "    def fit(self, X, y):\n",
    "        self._X_train = X\n",
    "        self._y_train = y\n",
    "        \n",
    "    def _predict(self, X):\n",
    "        return np.bincount(x).argmax()\n",
    "        \n",
    "    def predict(self, X):\n",
    "        dist = pairwise_distances(X, self._X_train)\n",
    "        neigh_ind = np.argpartition(dist, self.n_neighbors)[:, :self.n_neighbors]\n",
    "        neigh_el = self._y_train[neigh_ind].astype('int64')\n",
    "        return np.apply_along_axis(self._predict, 1, neigh_el)\n",
    "        \n",
    "    def predict_proba(self, X):\n",
    "        pass\n",
    "\n",
    "    def score(self, X, y):\n",
    "        return np.average(y == self.predict(X))"
   ]
  },
  {
   "cell_type": "markdown",
   "metadata": {},
   "source": [
    "**IRIS**"
   ]
  },
  {
   "cell_type": "code",
   "execution_count": 180,
   "metadata": {
    "collapsed": true
   },
   "outputs": [],
   "source": [
    "iris = datasets.load_iris()"
   ]
  },
  {
   "cell_type": "code",
   "execution_count": 181,
   "metadata": {
    "collapsed": true
   },
   "outputs": [],
   "source": [
    "X_train, X_test, y_train, y_test = train_test_split(iris.data, iris.target, test_size=0.1, stratify=iris.target)"
   ]
  },
  {
   "cell_type": "code",
   "execution_count": 210,
   "metadata": {},
   "outputs": [],
   "source": [
    "clf = KNeighborsClassifier(n_neighbors=2)\n",
    "my_clf = MyKNeighborsClassifier(n_neighbors=2)"
   ]
  },
  {
   "cell_type": "code",
   "execution_count": 183,
   "metadata": {},
   "outputs": [
    {
     "name": "stdout",
     "output_type": "stream",
     "text": [
      "CPU times: user 910 µs, sys: 315 µs, total: 1.22 ms\n",
      "Wall time: 1.09 ms\n"
     ]
    },
    {
     "data": {
      "text/plain": [
       "KNeighborsClassifier(algorithm='auto', leaf_size=30, metric='minkowski',\n",
       "           metric_params=None, n_jobs=1, n_neighbors=2, p=2,\n",
       "           weights='uniform')"
      ]
     },
     "execution_count": 183,
     "metadata": {},
     "output_type": "execute_result"
    }
   ],
   "source": [
    "%time clf.fit(X_train, y_train)"
   ]
  },
  {
   "cell_type": "code",
   "execution_count": 211,
   "metadata": {},
   "outputs": [
    {
     "name": "stdout",
     "output_type": "stream",
     "text": [
      "CPU times: user 159 ms, sys: 141 ms, total: 300 ms\n",
      "Wall time: 298 ms\n"
     ]
    }
   ],
   "source": [
    "%time my_clf.fit(X_train, y_train)"
   ]
  },
  {
   "cell_type": "code",
   "execution_count": 185,
   "metadata": {},
   "outputs": [
    {
     "name": "stdout",
     "output_type": "stream",
     "text": [
      "CPU times: user 1.42 ms, sys: 222 µs, total: 1.64 ms\n",
      "Wall time: 1.54 ms\n"
     ]
    },
    {
     "data": {
      "text/plain": [
       "array([1, 1, 1, 0, 1, 1, 0, 0, 2, 2, 1, 0, 0, 2, 1])"
      ]
     },
     "execution_count": 185,
     "metadata": {},
     "output_type": "execute_result"
    }
   ],
   "source": [
    "%time clf.predict(X_test)"
   ]
  },
  {
   "cell_type": "code",
   "execution_count": 186,
   "metadata": {},
   "outputs": [
    {
     "name": "stdout",
     "output_type": "stream",
     "text": [
      "CPU times: user 75.6 ms, sys: 18.8 ms, total: 94.5 ms\n",
      "Wall time: 149 ms\n"
     ]
    },
    {
     "data": {
      "text/plain": [
       "array([1, 1, 1, 0, 1, 1, 0, 0, 2, 2, 1, 0, 0, 2, 1])"
      ]
     },
     "execution_count": 186,
     "metadata": {},
     "output_type": "execute_result"
    }
   ],
   "source": [
    "%time my_clf.predict(X_test)"
   ]
  },
  {
   "cell_type": "code",
   "execution_count": 187,
   "metadata": {
    "collapsed": true
   },
   "outputs": [
    {
     "name": "stdout",
     "output_type": "stream",
     "text": [
      "CPU times: user 1.23 ms, sys: 457 µs, total: 1.69 ms\n",
      "Wall time: 1.29 ms\n"
     ]
    },
    {
     "data": {
      "text/plain": [
       "array([[ 0. ,  1. ,  0. ],\n",
       "       [ 0. ,  1. ,  0. ],\n",
       "       [ 0. ,  1. ,  0. ],\n",
       "       [ 1. ,  0. ,  0. ],\n",
       "       [ 0. ,  1. ,  0. ],\n",
       "       [ 0. ,  0.5,  0.5],\n",
       "       [ 1. ,  0. ,  0. ],\n",
       "       [ 1. ,  0. ,  0. ],\n",
       "       [ 0. ,  0. ,  1. ],\n",
       "       [ 0. ,  0. ,  1. ],\n",
       "       [ 0. ,  1. ,  0. ],\n",
       "       [ 1. ,  0. ,  0. ],\n",
       "       [ 1. ,  0. ,  0. ],\n",
       "       [ 0. ,  0. ,  1. ],\n",
       "       [ 0. ,  1. ,  0. ]])"
      ]
     },
     "execution_count": 187,
     "metadata": {},
     "output_type": "execute_result"
    }
   ],
   "source": [
    "%time clf.predict_proba(X_test)"
   ]
  },
  {
   "cell_type": "code",
   "execution_count": null,
   "metadata": {
    "collapsed": true
   },
   "outputs": [],
   "source": [
    "%time my_clf.predict_proba(X_test)"
   ]
  },
  {
   "cell_type": "code",
   "execution_count": 188,
   "metadata": {},
   "outputs": [
    {
     "data": {
      "text/plain": [
       "0.8666666666666667"
      ]
     },
     "execution_count": 188,
     "metadata": {},
     "output_type": "execute_result"
    }
   ],
   "source": [
    "clf.score(X_test, y_test)"
   ]
  },
  {
   "cell_type": "code",
   "execution_count": 189,
   "metadata": {},
   "outputs": [
    {
     "data": {
      "text/plain": [
       "0.8666666666666667"
      ]
     },
     "execution_count": 189,
     "metadata": {},
     "output_type": "execute_result"
    }
   ],
   "source": [
    "my_clf.score(X_test, y_test)"
   ]
  },
  {
   "cell_type": "markdown",
   "metadata": {},
   "source": [
    "Задание 3"
   ]
  },
  {
   "cell_type": "code",
   "execution_count": 249,
   "metadata": {
    "collapsed": true
   },
   "outputs": [],
   "source": [
    "results = []\n",
    "neighbours_range = range(1, 40)\n",
    "n_loops = 1000\n",
    "for n_neigh in neighbours_range:\n",
    "    result = []\n",
    "    for i in range(n_loops):\n",
    "        X_train, X_test, y_train, y_test = (\n",
    "            train_test_split(iris.data, iris.target, test_size=0.1, stratify=iris.target)\n",
    "        )\n",
    "        my_clf = MyKNeighborsClassifier(n_neighbors=n_neigh)\n",
    "        my_clf.fit(X_train, y_train)\n",
    "        result.append(my_clf.score(X_test, y_test))\n",
    "    results.append(np.mean(result))\n",
    "results = np.array(results)"
   ]
  },
  {
   "cell_type": "code",
   "execution_count": 258,
   "metadata": {},
   "outputs": [
    {
     "data": {
      "text/plain": [
       "11"
      ]
     },
     "execution_count": 258,
     "metadata": {},
     "output_type": "execute_result"
    }
   ],
   "source": [
    "results.argmax()+1"
   ]
  },
  {
   "cell_type": "code",
   "execution_count": 250,
   "metadata": {},
   "outputs": [
    {
     "data": {
      "image/png": "[encoded data removed]",
      "text/plain": [
       "<matplotlib.figure.Figure at 0x1426d92b0>"
      ]
     },
     "metadata": {},
     "output_type": "display_data"
    }
   ],
   "source": [
    "plt.plot(neighbours_range, results)\n",
    "plt.xlabel(\"n neighbors\")\n",
    "plt.ylabel(\"mean score over {} loops\".format(n_loops))\n",
    "plt.title(\"grid search result\")\n",
    "plt.show()"
   ]
  },
  {
   "cell_type": "markdown",
   "metadata": {},
   "source": [
    "**MNIST**"
   ]
  },
  {
   "cell_type": "code",
   "execution_count": 190,
   "metadata": {
    "collapsed": true
   },
   "outputs": [],
   "source": [
    "mnist = fetch_mldata('MNIST original')"
   ]
  },
  {
   "cell_type": "code",
   "execution_count": 233,
   "metadata": {
    "collapsed": true
   },
   "outputs": [],
   "source": [
    "X_train, X_test, y_train, y_test = train_test_split(mnist.data, mnist.target, test_size=0.01, stratify=mnist.target)"
   ]
  },
  {
   "cell_type": "code",
   "execution_count": 242,
   "metadata": {
    "collapsed": true
   },
   "outputs": [],
   "source": [
    "clf = KNeighborsClassifier(n_neighbors=2)\n",
    "my_clf = MyKNeighborsClassifier(n_neighbors=2)"
   ]
  },
  {
   "cell_type": "code",
   "execution_count": 247,
   "metadata": {},
   "outputs": [
    {
     "name": "stdout",
     "output_type": "stream",
     "text": [
      "CPU times: user 39.3 s, sys: 431 ms, total: 39.7 s\n",
      "Wall time: 39.8 s\n"
     ]
    },
    {
     "data": {
      "text/plain": [
       "KNeighborsClassifier(algorithm='auto', leaf_size=30, metric='minkowski',\n",
       "           metric_params=None, n_jobs=1, n_neighbors=2, p=2,\n",
       "           weights='uniform')"
      ]
     },
     "execution_count": 247,
     "metadata": {},
     "output_type": "execute_result"
    }
   ],
   "source": [
    "%time clf.fit(X_train, y_train)"
   ]
  },
  {
   "cell_type": "code",
   "execution_count": 243,
   "metadata": {},
   "outputs": [
    {
     "name": "stdout",
     "output_type": "stream",
     "text": [
      "CPU times: user 13 µs, sys: 1e+03 ns, total: 14 µs\n",
      "Wall time: 21 µs\n"
     ]
    }
   ],
   "source": [
    "%time my_clf.fit(X_train, y_train)"
   ]
  },
  {
   "cell_type": "code",
   "execution_count": 195,
   "metadata": {
    "collapsed": true
   },
   "outputs": [
    {
     "name": "stdout",
     "output_type": "stream",
     "text": [
      "CPU times: user 1min 7s, sys: 85.4 ms, total: 1min 7s\n",
      "Wall time: 1min 7s\n"
     ]
    },
    {
     "data": {
      "text/plain": [
       "array([ 6.,  1.,  7.,  4.,  7.,  6.,  2.,  5.,  5.,  2.,  4.,  4.,  3.,\n",
       "        7.,  0.,  4.,  8.,  1.,  1.,  9.,  3.,  5.,  4.,  1.,  2.,  2.,\n",
       "        6.,  8.,  9.,  5.,  2.,  2.,  3.,  5.,  9.,  0.,  4.,  0.,  6.,\n",
       "        5.,  3.,  4.,  9.,  0.,  1.,  0.,  5.,  6.,  6.,  3.,  2.,  6.,\n",
       "        7.,  4.,  9.,  3.,  6.,  0.,  6.,  0.,  9.,  9.,  1.,  9.,  8.,\n",
       "        0.,  6.,  1.,  7.,  1.,  4.,  0.,  6.,  6.,  1.,  8.,  3.,  1.,\n",
       "        2.,  1.,  0.,  5.,  8.,  8.,  7.,  7.,  9.,  6.,  5.,  2.,  2.,\n",
       "        7.,  8.,  1.,  8.,  3.,  9.,  4.,  2.,  3.,  2.,  1.,  5.,  2.,\n",
       "        2.,  4.,  5.,  3.,  3.,  1.,  2.,  4.,  4.,  1.,  1.,  6.,  7.,\n",
       "        7.,  7.,  9.,  8.,  2.,  9.,  1.,  6.,  8.,  8.,  4.,  3.,  6.,\n",
       "        7.,  2.,  1.,  1.,  6.,  4.,  9.,  7.,  8.,  2.,  1.,  9.,  1.,\n",
       "        2.,  5.,  5.,  2.,  8.,  7.,  8.,  7.,  6.,  0.,  1.,  2.,  8.,\n",
       "        2.,  2.,  6.,  3.,  2.,  7.,  9.,  2.,  3.,  8.,  3.,  8.,  3.,\n",
       "        3.,  3.,  8.,  1.,  0.,  8.,  5.,  4.,  1.,  1.,  1.,  1.,  6.,\n",
       "        4.,  0.,  5.,  3.,  4.,  1.,  9.,  1.,  3.,  6.,  0.,  2.,  5.,\n",
       "        7.,  5.,  7.,  4.,  2.,  6.,  7.,  5.,  6.,  9.,  0.,  4.,  8.,\n",
       "        1.,  9.,  3.,  7.,  7.,  7.,  1.,  9.,  0.,  0.,  4.,  2.,  8.,\n",
       "        5.,  3.,  4.,  1.,  5.,  7.,  6.,  0.,  1.,  4.,  8.,  1.,  0.,\n",
       "        7.,  9.,  9.,  0.,  4.,  6.,  7.,  8.,  9.,  3.,  1.,  8.,  6.,\n",
       "        2.,  4.,  8.,  7.,  0.,  0.,  1.,  8.,  7.,  2.,  6.,  7.,  9.,\n",
       "        7.,  2.,  6.,  4.,  9.,  0.,  8.,  2.,  0.,  0.,  0.,  1.,  7.,\n",
       "        1.,  3.,  0.,  4.,  7.,  0.,  2.,  4.,  8.,  2.,  0.,  1.,  8.,\n",
       "        5.,  6.,  9.,  2.,  8.,  6.,  0.,  0.,  4.,  7.,  6.,  4.,  1.,\n",
       "        5.,  8.,  9.,  9.,  8.,  0.,  1.,  3.,  9.,  0.,  8.,  7.,  2.,\n",
       "        3.,  5.,  5.,  1.,  4.,  2.,  5.,  5.,  2.,  5.,  5.,  3.,  6.,\n",
       "        8.,  2.,  4.,  8.,  1.,  1.,  5.,  6.,  1.,  6.,  1.,  3.,  1.,\n",
       "        3.,  2.,  8.,  5.,  5.,  6.,  1.,  2.,  3.,  3.,  2.,  8.,  1.,\n",
       "        1.,  0.,  0.,  1.,  6.,  3.,  6.,  1.,  7.,  4.,  4.,  4.,  5.,\n",
       "        9.,  4.,  0.,  0.,  4.,  4.,  2.,  6.,  7.,  2.,  6.,  4.,  1.,\n",
       "        4.,  9.,  0.,  5.,  2.,  1.,  2.,  9.,  5.,  0.,  8.,  1.,  4.,\n",
       "        5.,  2.,  4.,  9.,  2.,  1.,  6.,  0.,  5.,  1.,  2.,  6.,  9.,\n",
       "        4.,  0.,  1.,  8.,  7.,  7.,  7.,  1.,  0.,  8.,  7.,  7.,  9.,\n",
       "        6.,  2.,  2.,  1.,  4.,  3.,  9.,  5.,  0.,  8.,  7.,  4.,  2.,\n",
       "        7.,  3.,  3.,  3.,  2.,  9.,  3.,  6.,  3.,  5.,  4.,  7.,  9.,\n",
       "        2.,  5.,  2.,  5.,  6.,  6.,  5.,  1.,  3.,  2.,  8.,  3.,  2.,\n",
       "        0.,  9.,  7.,  4.,  5.,  9.,  8.,  3.,  1.,  9.,  0.,  6.,  4.,\n",
       "        4.,  2.,  7.,  0.,  9.,  5.,  6.,  1.,  2.,  7.,  4.,  2.,  5.,\n",
       "        6.,  9.,  0.,  1.,  4.,  6.,  7.,  3.,  9.,  6.,  6.,  3.,  8.,\n",
       "        6.,  3.,  0.,  3.,  9.,  0.,  0.,  0.,  6.,  4.,  4.,  0.,  9.,\n",
       "        6.,  8.,  3.,  0.,  8.,  7.,  9.,  1.,  7.,  4.,  5.,  3.,  7.,\n",
       "        0.,  0.,  7.,  1.,  3.,  9.,  6.,  3.,  4.,  0.,  4.,  5.,  1.,\n",
       "        3.,  8.,  8.,  1.,  7.,  4.,  1.,  7.,  3.,  6.,  3.,  9.,  3.,\n",
       "        9.,  8.,  8.,  1.,  0.,  3.,  3.,  8.,  3.,  5.,  5.,  1.,  2.,\n",
       "        7.,  7.,  1.,  7.,  0.,  8.,  0.,  7.,  7.,  7.,  1.,  5.,  8.,\n",
       "        9.,  3.,  5.,  8.,  2.,  7.,  4.,  6.,  6.,  1.,  3.,  2.,  9.,\n",
       "        5.,  8.,  8.,  7.,  0.,  4.,  7.,  3.,  3.,  0.,  7.,  4.,  2.,\n",
       "        6.,  6.,  2.,  6.,  5.,  6.,  6.,  7.,  7.,  7.,  9.,  2.,  5.,\n",
       "        4.,  7.,  1.,  9.,  0.,  0.,  3.,  0.,  9.,  9.,  4.,  8.,  9.,\n",
       "        0.,  3.,  6.,  1.,  0.,  9.,  3.,  1.,  7.,  3.,  5.,  0.,  4.,\n",
       "        5.,  5.,  8.,  5.,  8.,  6.,  4.,  4.,  9.,  0.,  5.,  9.,  7.,\n",
       "        9.,  9.,  7.,  4.,  9.,  9.,  9.,  3.,  6.,  6.,  9.,  0.,  7.,\n",
       "        5.,  3.,  4.,  3.,  7.,  2.,  5.,  0.,  0.,  6.,  2.,  8.,  6.,\n",
       "        3.,  4.,  3.,  6.,  3.,  3.,  7.,  3.,  3.,  1.,  1.,  3.,  2.,\n",
       "        5.,  8.,  1.,  7.,  9.,  1.,  5.,  5.,  5.,  8.,  9.])"
      ]
     },
     "execution_count": 195,
     "metadata": {},
     "output_type": "execute_result"
    }
   ],
   "source": [
    "%time clf.predict(X_test)"
   ]
  },
  {
   "cell_type": "code",
   "execution_count": 244,
   "metadata": {},
   "outputs": [
    {
     "name": "stdout",
     "output_type": "stream",
     "text": [
      "CPU times: user 3.4 s, sys: 512 ms, total: 3.92 s\n",
      "Wall time: 2.61 s\n"
     ]
    },
    {
     "data": {
      "text/plain": [
       "array([2, 5, 9, 2, 3, 8, 0, 8, 1, 8, 3, 9, 4, 9, 3, 5, 6, 7, 4, 8, 7, 2, 2,\n",
       "       9, 3, 5, 1, 0, 7, 1, 0, 9, 0, 3, 8, 1, 0, 8, 9, 6, 8, 1, 9, 0, 3, 9,\n",
       "       4, 1, 4, 6, 1, 3, 3, 8, 1, 7, 8, 6, 7, 2, 1, 2, 3, 5, 3, 2, 7, 5, 2,\n",
       "       6, 0, 8, 2, 9, 9, 9, 5, 3, 1, 8, 4, 9, 9, 3, 2, 5, 0, 4, 6, 3, 7, 1,\n",
       "       1, 0, 0, 9, 5, 2, 3, 7, 7, 8, 5, 2, 7, 1, 6, 1, 1, 0, 6, 3, 8, 2, 3,\n",
       "       8, 6, 2, 0, 6, 1, 9, 4, 3, 4, 6, 0, 7, 3, 2, 7, 6, 6, 8, 1, 9, 5, 7,\n",
       "       5, 4, 6, 7, 5, 8, 2, 7, 8, 6, 2, 3, 6, 5, 7, 1, 0, 1, 8, 7, 4, 6, 5,\n",
       "       1, 4, 4, 7, 1, 4, 7, 3, 7, 3, 3, 2, 7, 8, 1, 9, 1, 1, 5, 0, 6, 1, 6,\n",
       "       3, 1, 7, 8, 1, 4, 9, 3, 2, 1, 3, 2, 0, 9, 8, 2, 9, 9, 6, 9, 4, 2, 9,\n",
       "       4, 7, 1, 3, 4, 0, 9, 3, 6, 3, 7, 2, 3, 9, 2, 2, 0, 5, 1, 4, 0, 9, 1,\n",
       "       8, 9, 4, 1, 2, 3, 5, 2, 3, 1, 7, 9, 0, 0, 9, 7, 1, 1, 7, 1, 4, 5, 3,\n",
       "       2, 2, 1, 4, 5, 5, 4, 7, 9, 5, 7, 3, 4, 3, 7, 6, 8, 1, 1, 7, 2, 4, 9,\n",
       "       4, 3, 0, 7, 3, 9, 0, 1, 7, 0, 1, 9, 1, 6, 8, 4, 5, 5, 9, 4, 3, 6, 8,\n",
       "       1, 7, 4, 0, 8, 1, 7, 6, 8, 5, 4, 4, 7, 5, 6, 7, 4, 1, 0, 8, 8, 8, 2,\n",
       "       6, 9, 7, 6, 5, 7, 2, 0, 5, 7, 2, 6, 0, 5, 4, 4, 9, 5, 2, 2, 5, 2, 1,\n",
       "       1, 7, 2, 3, 7, 6, 0, 7, 8, 0, 2, 7, 3, 5, 6, 7, 3, 2, 8, 5, 9, 0, 5,\n",
       "       5, 2, 8, 8, 0, 9, 8, 8, 5, 0, 8, 5, 7, 1, 6, 8, 5, 0, 4, 3, 0, 0, 1,\n",
       "       3, 9, 6, 0, 7, 6, 4, 9, 1, 4, 5, 8, 3, 9, 8, 6, 5, 0, 3, 2, 6, 0, 1,\n",
       "       2, 6, 9, 5, 3, 6, 5, 5, 6, 9, 1, 8, 1, 1, 4, 9, 2, 2, 4, 3, 5, 1, 3,\n",
       "       9, 1, 5, 9, 3, 2, 1, 6, 9, 3, 6, 8, 7, 8, 8, 1, 7, 2, 1, 4, 7, 0, 7,\n",
       "       2, 6, 9, 6, 7, 2, 3, 1, 7, 9, 6, 7, 6, 5, 8, 0, 2, 7, 3, 4, 1, 4, 2,\n",
       "       5, 8, 3, 8, 8, 9, 3, 9, 0, 5, 1, 7, 6, 1, 4, 0, 8, 1, 6, 1, 2, 0, 0,\n",
       "       1, 5, 8, 4, 7, 9, 0, 3, 6, 1, 3, 0, 0, 7, 4, 1, 6, 0, 4, 4, 4, 4, 0,\n",
       "       0, 7, 9, 7, 2, 2, 1, 3, 7, 0, 1, 3, 9, 1, 8, 1, 4, 0, 4, 5, 2, 2, 3,\n",
       "       0, 5, 9, 5, 3, 4, 8, 4, 2, 8, 9, 5, 6, 0, 9, 1, 5, 8, 9, 5, 9, 4, 0,\n",
       "       4, 1, 2, 0, 9, 6, 4, 6, 2, 4, 4, 5, 2, 7, 2, 0, 5, 0, 9, 4, 1, 4, 8,\n",
       "       5, 6, 0, 1, 2, 3, 2, 2, 9, 1, 9, 7, 6, 7, 2, 5, 7, 1, 4, 0, 1, 0, 3,\n",
       "       7, 0, 5, 3, 2, 4, 0, 7, 2, 0, 5, 2, 9, 9, 5, 6, 6, 6, 8, 6, 0, 1, 0,\n",
       "       8, 1, 4, 1, 4, 0, 6, 3, 3, 3, 6, 9, 7, 4, 3, 6, 2, 7, 3, 1, 1, 3, 8,\n",
       "       4, 6, 0, 7, 7, 6, 2, 3, 6, 6, 5, 6, 6, 4, 3, 5, 7, 9, 8, 3, 4, 4, 7,\n",
       "       3, 8, 5, 0, 4, 0, 0, 3, 1, 7])"
      ]
     },
     "execution_count": 244,
     "metadata": {},
     "output_type": "execute_result"
    }
   ],
   "source": [
    "%time my_clf.predict(X_test)"
   ]
  },
  {
   "cell_type": "code",
   "execution_count": null,
   "metadata": {
    "collapsed": true
   },
   "outputs": [],
   "source": [
    "%time clf.predict_proba(X_test)"
   ]
  },
  {
   "cell_type": "code",
   "execution_count": null,
   "metadata": {
    "collapsed": true
   },
   "outputs": [],
   "source": [
    "%time my_clf.predict_proba(X_test)"
   ]
  },
  {
   "cell_type": "code",
   "execution_count": 248,
   "metadata": {},
   "outputs": [
    {
     "data": {
      "text/plain": [
       "0.96857142857142853"
      ]
     },
     "execution_count": 248,
     "metadata": {},
     "output_type": "execute_result"
    }
   ],
   "source": [
    "clf.score(X_test, y_test)"
   ]
  },
  {
   "cell_type": "code",
   "execution_count": 245,
   "metadata": {},
   "outputs": [
    {
     "data": {
      "text/plain": [
       "0.96857142857142853"
      ]
     },
     "execution_count": 245,
     "metadata": {},
     "output_type": "execute_result"
    }
   ],
   "source": [
    "my_clf.score(X_test, y_test)"
   ]
  },
  {
   "cell_type": "markdown",
   "metadata": {},
   "source": [
    "Задание 4"
   ]
  },
  {
   "cell_type": "code",
   "execution_count": null,
   "metadata": {
    "collapsed": true
   },
   "outputs": [],
   "source": [
    "clf = KNeighborsClassifier(n_neighbors=2, algorithm='kd_tree')\n",
    "my_clf = MyKNeighborsClassifier(n_neighbors=2, algorithm='kd_tree')"
   ]
  },
  {
   "cell_type": "code",
   "execution_count": null,
   "metadata": {
    "collapsed": true
   },
   "outputs": [],
   "source": [
    "X_train, X_test, y_train, y_test = train_test_split(mnist.data, mnist.target, test_size=0.01, stratify=mnist.target)"
   ]
  },
  {
   "cell_type": "code",
   "execution_count": null,
   "metadata": {
    "collapsed": true
   },
   "outputs": [],
   "source": [
    "%time clf.fit(X_train, y_train)"
   ]
  },
  {
   "cell_type": "code",
   "execution_count": null,
   "metadata": {
    "collapsed": true
   },
   "outputs": [],
   "source": [
    "%time my_clf.fit(X_train, y_train)"
   ]
  },
  {
   "cell_type": "code",
   "execution_count": null,
   "metadata": {
    "collapsed": true
   },
   "outputs": [],
   "source": [
    "%time clf.predict(X_test)"
   ]
  },
  {
   "cell_type": "code",
   "execution_count": null,
   "metadata": {
    "collapsed": true
   },
   "outputs": [],
   "source": [
    "%time my_clf.predict(X_test)"
   ]
  },
  {
   "cell_type": "code",
   "execution_count": null,
   "metadata": {
    "collapsed": true
   },
   "outputs": [],
   "source": [
    "%time clf.predict_proba(X_test)"
   ]
  },
  {
   "cell_type": "code",
   "execution_count": null,
   "metadata": {
    "collapsed": true
   },
   "outputs": [],
   "source": [
    "%time my_clf.predict_proba(X_test)"
   ]
  },
  {
   "cell_type": "code",
   "execution_count": null,
   "metadata": {
    "collapsed": true
   },
   "outputs": [],
   "source": [
    "clf.score(X_test, y_test)"
   ]
  },
  {
   "cell_type": "code",
   "execution_count": null,
   "metadata": {
    "collapsed": true
   },
   "outputs": [],
   "source": [
    "my_clf.score(X_test, y_test)"
   ]
  },
  {
   "cell_type": "markdown",
   "metadata": {},
   "source": [
    "Задание 5"
   ]
  },
  {
   "cell_type": "code",
   "execution_count": null,
   "metadata": {
    "collapsed": true
   },
   "outputs": [],
   "source": [
    "# seaborn\n",
    "# matplotlib\n",
    "# train_test_split\n",
    "# Pipelin%load_ext e (from sklearn.pipeline import Pipeline)\n",
    "# StandardScaler (from sklearn.preprocessing import StandardScaler)\n",
    "# ClassifierMixin\n",
    "# NeighborsBase\n",
    "# KNeighborsMixin\n",
    "# SupervisedIntegerMixin"
   ]
  }
 ],
 "metadata": {
  "kernelspec": {
   "display_name": "Python 3",
   "language": "python",
   "name": "python3"
  },
  "language_info": {
   "codemirror_mode": {
    "name": "ipython",
    "version": 3
   },
   "file_extension": ".py",
   "mimetype": "text/x-python",
   "name": "python",
   "nbconvert_exporter": "python",
   "pygments_lexer": "ipython3",
   "version": "3.6.1"
  }
 },
 "nbformat": 4,
 "nbformat_minor": 2
}
