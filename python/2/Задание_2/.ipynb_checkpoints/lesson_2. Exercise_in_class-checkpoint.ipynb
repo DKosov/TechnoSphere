{
 "cells": [
  {
   "cell_type": "markdown",
   "metadata": {
    "collapsed": true
   },
   "source": [
    "# Косов Денис Владимирович\n",
    "## BD-11"
   ]
  },
  {
   "cell_type": "markdown",
   "metadata": {},
   "source": [
    "1. Импортировать необходимые библиотеки для работы с данными (pandas). --- **0.1**"
   ]
  },
  {
   "cell_type": "code",
   "execution_count": 122,
   "metadata": {
    "collapsed": true
   },
   "outputs": [],
   "source": [
    "import pandas as pd\n",
    "import numpy as np"
   ]
  },
  {
   "cell_type": "markdown",
   "metadata": {},
   "source": [
    "2. Импортировать датасет из файла 'restaurants.csv' и присвоить его переменной (например, переменной df). --- **0.1**"
   ]
  },
  {
   "cell_type": "code",
   "execution_count": 123,
   "metadata": {
    "collapsed": true
   },
   "outputs": [],
   "source": [
    "df = pd.read_csv('restaurants.csv', sep = ',')"
   ]
  },
  {
   "cell_type": "markdown",
   "metadata": {},
   "source": [
    "3. Вывести первые 10 строк датафрейма. Изучить структуру таблицы. --- **0.1** Затем вывести типы колонок датафрейма. --- **0.1**"
   ]
  },
  {
   "cell_type": "code",
   "execution_count": 124,
   "metadata": {},
   "outputs": [
    {
     "data": {
      "text/html": [
       "<div>\n",
       "<style>\n",
       "    .dataframe thead tr:only-child th {\n",
       "        text-align: right;\n",
       "    }\n",
       "\n",
       "    .dataframe thead th {\n",
       "        text-align: left;\n",
       "    }\n",
       "\n",
       "    .dataframe tbody tr th {\n",
       "        vertical-align: top;\n",
       "    }\n",
       "</style>\n",
       "<table border=\"1\" class=\"dataframe\">\n",
       "  <thead>\n",
       "    <tr style=\"text-align: right;\">\n",
       "      <th></th>\n",
       "      <th>vendor_id</th>\n",
       "      <th>chain_id</th>\n",
       "      <th>city_name</th>\n",
       "      <th>specialisation</th>\n",
       "      <th>successful_orders</th>\n",
       "      <th>fail_orders</th>\n",
       "      <th>reorders</th>\n",
       "    </tr>\n",
       "  </thead>\n",
       "  <tbody>\n",
       "    <tr>\n",
       "      <th>0</th>\n",
       "      <td>28957</td>\n",
       "      <td>20633</td>\n",
       "      <td>Архангельск</td>\n",
       "      <td>Супы</td>\n",
       "      <td>0.0</td>\n",
       "      <td>2.0</td>\n",
       "      <td>0.0</td>\n",
       "    </tr>\n",
       "    <tr>\n",
       "      <th>1</th>\n",
       "      <td>37381</td>\n",
       "      <td>27399</td>\n",
       "      <td>Архангельск</td>\n",
       "      <td>Пироги</td>\n",
       "      <td>0.0</td>\n",
       "      <td>0.0</td>\n",
       "      <td>0.0</td>\n",
       "    </tr>\n",
       "    <tr>\n",
       "      <th>2</th>\n",
       "      <td>28703</td>\n",
       "      <td>20431</td>\n",
       "      <td>Архангельск</td>\n",
       "      <td>Суши</td>\n",
       "      <td>111.0</td>\n",
       "      <td>3.0</td>\n",
       "      <td>0.0</td>\n",
       "    </tr>\n",
       "    <tr>\n",
       "      <th>3</th>\n",
       "      <td>37382</td>\n",
       "      <td>27399</td>\n",
       "      <td>Архангельск</td>\n",
       "      <td>Пироги</td>\n",
       "      <td>1.0</td>\n",
       "      <td>0.0</td>\n",
       "      <td>0.0</td>\n",
       "    </tr>\n",
       "    <tr>\n",
       "      <th>4</th>\n",
       "      <td>36877</td>\n",
       "      <td>27151</td>\n",
       "      <td>Архангельск</td>\n",
       "      <td>Бургеры</td>\n",
       "      <td>22.0</td>\n",
       "      <td>2.0</td>\n",
       "      <td>0.0</td>\n",
       "    </tr>\n",
       "    <tr>\n",
       "      <th>5</th>\n",
       "      <td>37650</td>\n",
       "      <td>27579</td>\n",
       "      <td>Архангельск</td>\n",
       "      <td>Суши</td>\n",
       "      <td>3.0</td>\n",
       "      <td>0.0</td>\n",
       "      <td>0.0</td>\n",
       "    </tr>\n",
       "    <tr>\n",
       "      <th>6</th>\n",
       "      <td>37127</td>\n",
       "      <td>27250</td>\n",
       "      <td>Астрахань</td>\n",
       "      <td>Суши</td>\n",
       "      <td>55.0</td>\n",
       "      <td>5.0</td>\n",
       "      <td>6.0</td>\n",
       "    </tr>\n",
       "    <tr>\n",
       "      <th>7</th>\n",
       "      <td>28476</td>\n",
       "      <td>20266</td>\n",
       "      <td>Астрахань</td>\n",
       "      <td>Суши</td>\n",
       "      <td>342.0</td>\n",
       "      <td>13.0</td>\n",
       "      <td>14.0</td>\n",
       "    </tr>\n",
       "    <tr>\n",
       "      <th>8</th>\n",
       "      <td>28478</td>\n",
       "      <td>20266</td>\n",
       "      <td>Астрахань</td>\n",
       "      <td>Суши</td>\n",
       "      <td>194.0</td>\n",
       "      <td>1.0</td>\n",
       "      <td>7.0</td>\n",
       "    </tr>\n",
       "    <tr>\n",
       "      <th>9</th>\n",
       "      <td>34127</td>\n",
       "      <td>25077</td>\n",
       "      <td>Астрахань</td>\n",
       "      <td>Пицца</td>\n",
       "      <td>136.0</td>\n",
       "      <td>4.0</td>\n",
       "      <td>1.0</td>\n",
       "    </tr>\n",
       "  </tbody>\n",
       "</table>\n",
       "</div>"
      ],
      "text/plain": [
       "   vendor_id  chain_id    city_name specialisation  successful_orders  \\\n",
       "0      28957     20633  Архангельск           Супы                0.0   \n",
       "1      37381     27399  Архангельск         Пироги                0.0   \n",
       "2      28703     20431  Архангельск           Суши              111.0   \n",
       "3      37382     27399  Архангельск         Пироги                1.0   \n",
       "4      36877     27151  Архангельск        Бургеры               22.0   \n",
       "5      37650     27579  Архангельск           Суши                3.0   \n",
       "6      37127     27250    Астрахань           Суши               55.0   \n",
       "7      28476     20266    Астрахань           Суши              342.0   \n",
       "8      28478     20266    Астрахань           Суши              194.0   \n",
       "9      34127     25077    Астрахань          Пицца              136.0   \n",
       "\n",
       "   fail_orders  reorders  \n",
       "0          2.0       0.0  \n",
       "1          0.0       0.0  \n",
       "2          3.0       0.0  \n",
       "3          0.0       0.0  \n",
       "4          2.0       0.0  \n",
       "5          0.0       0.0  \n",
       "6          5.0       6.0  \n",
       "7         13.0      14.0  \n",
       "8          1.0       7.0  \n",
       "9          4.0       1.0  "
      ]
     },
     "execution_count": 124,
     "metadata": {},
     "output_type": "execute_result"
    }
   ],
   "source": [
    "df.head(10)"
   ]
  },
  {
   "cell_type": "code",
   "execution_count": 125,
   "metadata": {},
   "outputs": [
    {
     "data": {
      "text/plain": [
       "Index(['vendor_id', 'chain_id', 'city_name', 'specialisation',\n",
       "       'successful_orders', 'fail_orders', 'reorders'],\n",
       "      dtype='object')"
      ]
     },
     "execution_count": 125,
     "metadata": {},
     "output_type": "execute_result"
    }
   ],
   "source": [
    "df.columns"
   ]
  },
  {
   "cell_type": "markdown",
   "metadata": {},
   "source": [
    "vendor_id - уникальный идентификатор ресторана\n",
    "\n",
    "chain_id - уникальный идентификатор сети, в которую входит ресторан\n",
    "\n",
    "successful_orders - кол-во успешных заказов\n",
    "\n",
    "fail_orders - кол-во неуспешных заказов\n",
    "\n",
    "reorders - перезаказы"
   ]
  },
  {
   "cell_type": "code",
   "execution_count": null,
   "metadata": {
    "collapsed": true
   },
   "outputs": [],
   "source": []
  },
  {
   "cell_type": "markdown",
   "metadata": {},
   "source": [
    "4. Сколько наблюдений в датафрейме (воспользоваться методом shape)? --- **0.1**"
   ]
  },
  {
   "cell_type": "code",
   "execution_count": 126,
   "metadata": {},
   "outputs": [
    {
     "data": {
      "text/plain": [
       "(784, 7)"
      ]
     },
     "execution_count": 126,
     "metadata": {},
     "output_type": "execute_result"
    }
   ],
   "source": [
    "df.shape"
   ]
  },
  {
   "cell_type": "markdown",
   "metadata": {},
   "source": [
    "5. Сколько колонок в датафрейме?  --- **0.1** Вывести их имена. --- **0.1** Удалить колонку с названием \"chain_id\" (соледующие задания должны быть выполнены без этой колонки). --- **0.2**"
   ]
  },
  {
   "cell_type": "code",
   "execution_count": 127,
   "metadata": {},
   "outputs": [
    {
     "data": {
      "text/plain": [
       "7"
      ]
     },
     "execution_count": 127,
     "metadata": {},
     "output_type": "execute_result"
    }
   ],
   "source": [
    "len(df.columns)"
   ]
  },
  {
   "cell_type": "code",
   "execution_count": 128,
   "metadata": {},
   "outputs": [
    {
     "name": "stdout",
     "output_type": "stream",
     "text": [
      "vendor_id\n",
      "chain_id\n",
      "city_name\n",
      "specialisation\n",
      "successful_orders\n",
      "fail_orders\n",
      "reorders\n"
     ]
    }
   ],
   "source": [
    "for i in df.columns:\n",
    "    print(i)"
   ]
  },
  {
   "cell_type": "code",
   "execution_count": 129,
   "metadata": {
    "collapsed": true
   },
   "outputs": [],
   "source": [
    "df = df.drop(\"chain_id\", 1)"
   ]
  },
  {
   "cell_type": "markdown",
   "metadata": {},
   "source": [
    "6. Сколько уникальных городов в датафрейме? --- **0.4**"
   ]
  },
  {
   "cell_type": "code",
   "execution_count": 130,
   "metadata": {},
   "outputs": [
    {
     "data": {
      "text/plain": [
       "63"
      ]
     },
     "execution_count": 130,
     "metadata": {},
     "output_type": "execute_result"
    }
   ],
   "source": [
    "cit = set()\n",
    "for i in df['city_name']:\n",
    "    cit.add(i)\n",
    "len(cit)"
   ]
  },
  {
   "cell_type": "markdown",
   "metadata": {},
   "source": [
    "7. Кол-во ресторанов каждой специализации? --- **0.3**"
   ]
  },
  {
   "cell_type": "code",
   "execution_count": 131,
   "metadata": {},
   "outputs": [
    {
     "data": {
      "text/plain": [
       "Суши                   329\n",
       "Пицца                  179\n",
       "Бургеры                 69\n",
       "Шашлыки                 37\n",
       "Рыба                    30\n",
       "Японская                21\n",
       "Пироги                  17\n",
       "Русская                 15\n",
       "Мясо                    14\n",
       "Китайская               10\n",
       "Супы                     8\n",
       "Шаурма                   8\n",
       "Сэндвичи                 6\n",
       "Индийская                5\n",
       "Десерты                  5\n",
       "Грузинская               5\n",
       "Выпечка                  5\n",
       "Фастфуд                  4\n",
       "Паста и ризотто          4\n",
       "Итальянская              3\n",
       "Паназиатская             2\n",
       "Узбекская                2\n",
       "Хот-доги                 2\n",
       "Мексиканская             1\n",
       "Вегетарианское меню      1\n",
       "Гирос                    1\n",
       "Корейская                1\n",
       "Name: specialisation, dtype: int64"
      ]
     },
     "execution_count": 131,
     "metadata": {},
     "output_type": "execute_result"
    }
   ],
   "source": [
    "df.specialisation.value_counts()"
   ]
  },
  {
   "cell_type": "markdown",
   "metadata": {},
   "source": [
    "8. Получить среднее и стандартное отклонение по всему датафрейму только по колонкам successful_orders и fail_orders. --- **0.7**"
   ]
  },
  {
   "cell_type": "code",
   "execution_count": 132,
   "metadata": {
    "collapsed": true
   },
   "outputs": [],
   "source": [
    "tmp = df[['successful_orders', 'fail_orders']].describe()"
   ]
  },
  {
   "cell_type": "code",
   "execution_count": 133,
   "metadata": {
    "scrolled": true
   },
   "outputs": [
    {
     "data": {
      "text/html": [
       "<div>\n",
       "<style>\n",
       "    .dataframe thead tr:only-child th {\n",
       "        text-align: right;\n",
       "    }\n",
       "\n",
       "    .dataframe thead th {\n",
       "        text-align: left;\n",
       "    }\n",
       "\n",
       "    .dataframe tbody tr th {\n",
       "        vertical-align: top;\n",
       "    }\n",
       "</style>\n",
       "<table border=\"1\" class=\"dataframe\">\n",
       "  <thead>\n",
       "    <tr style=\"text-align: right;\">\n",
       "      <th></th>\n",
       "      <th>successful_orders</th>\n",
       "      <th>fail_orders</th>\n",
       "    </tr>\n",
       "  </thead>\n",
       "  <tbody>\n",
       "    <tr>\n",
       "      <th>std</th>\n",
       "      <td>176.792621</td>\n",
       "      <td>5.361445</td>\n",
       "    </tr>\n",
       "    <tr>\n",
       "      <th>mean</th>\n",
       "      <td>115.344388</td>\n",
       "      <td>2.576531</td>\n",
       "    </tr>\n",
       "  </tbody>\n",
       "</table>\n",
       "</div>"
      ],
      "text/plain": [
       "      successful_orders  fail_orders\n",
       "std          176.792621     5.361445\n",
       "mean         115.344388     2.576531"
      ]
     },
     "execution_count": 133,
     "metadata": {},
     "output_type": "execute_result"
    }
   ],
   "source": [
    "tmp.loc[['std', 'mean']]"
   ]
  },
  {
   "cell_type": "code",
   "execution_count": 134,
   "metadata": {},
   "outputs": [
    {
     "data": {
      "text/html": [
       "<div>\n",
       "<style>\n",
       "    .dataframe thead tr:only-child th {\n",
       "        text-align: right;\n",
       "    }\n",
       "\n",
       "    .dataframe thead th {\n",
       "        text-align: left;\n",
       "    }\n",
       "\n",
       "    .dataframe tbody tr th {\n",
       "        vertical-align: top;\n",
       "    }\n",
       "</style>\n",
       "<table border=\"1\" class=\"dataframe\">\n",
       "  <thead>\n",
       "    <tr style=\"text-align: right;\">\n",
       "      <th></th>\n",
       "      <th>vendor_id</th>\n",
       "      <th>city_name</th>\n",
       "      <th>specialisation</th>\n",
       "      <th>successful_orders</th>\n",
       "      <th>fail_orders</th>\n",
       "      <th>reorders</th>\n",
       "    </tr>\n",
       "  </thead>\n",
       "  <tbody>\n",
       "    <tr>\n",
       "      <th>0</th>\n",
       "      <td>28957</td>\n",
       "      <td>Архангельск</td>\n",
       "      <td>Супы</td>\n",
       "      <td>0.0</td>\n",
       "      <td>2.0</td>\n",
       "      <td>0.0</td>\n",
       "    </tr>\n",
       "    <tr>\n",
       "      <th>1</th>\n",
       "      <td>37381</td>\n",
       "      <td>Архангельск</td>\n",
       "      <td>Пироги</td>\n",
       "      <td>0.0</td>\n",
       "      <td>0.0</td>\n",
       "      <td>0.0</td>\n",
       "    </tr>\n",
       "    <tr>\n",
       "      <th>2</th>\n",
       "      <td>28703</td>\n",
       "      <td>Архангельск</td>\n",
       "      <td>Суши</td>\n",
       "      <td>111.0</td>\n",
       "      <td>3.0</td>\n",
       "      <td>0.0</td>\n",
       "    </tr>\n",
       "    <tr>\n",
       "      <th>3</th>\n",
       "      <td>37382</td>\n",
       "      <td>Архангельск</td>\n",
       "      <td>Пироги</td>\n",
       "      <td>1.0</td>\n",
       "      <td>0.0</td>\n",
       "      <td>0.0</td>\n",
       "    </tr>\n",
       "    <tr>\n",
       "      <th>4</th>\n",
       "      <td>36877</td>\n",
       "      <td>Архангельск</td>\n",
       "      <td>Бургеры</td>\n",
       "      <td>22.0</td>\n",
       "      <td>2.0</td>\n",
       "      <td>0.0</td>\n",
       "    </tr>\n",
       "  </tbody>\n",
       "</table>\n",
       "</div>"
      ],
      "text/plain": [
       "   vendor_id    city_name specialisation  successful_orders  fail_orders  \\\n",
       "0      28957  Архангельск           Супы                0.0          2.0   \n",
       "1      37381  Архангельск         Пироги                0.0          0.0   \n",
       "2      28703  Архангельск           Суши              111.0          3.0   \n",
       "3      37382  Архангельск         Пироги                1.0          0.0   \n",
       "4      36877  Архангельск        Бургеры               22.0          2.0   \n",
       "\n",
       "   reorders  \n",
       "0       0.0  \n",
       "1       0.0  \n",
       "2       0.0  \n",
       "3       0.0  \n",
       "4       0.0  "
      ]
     },
     "execution_count": 134,
     "metadata": {},
     "output_type": "execute_result"
    }
   ],
   "source": [
    "df.head()"
   ]
  },
  {
   "cell_type": "markdown",
   "metadata": {},
   "source": [
    "9. Вывести 10 городов с самым маленьким количеством ресторанов, а также кол-во ресторанов в них. --- **0.5**"
   ]
  },
  {
   "cell_type": "code",
   "execution_count": 135,
   "metadata": {},
   "outputs": [
    {
     "data": {
      "text/plain": [
       "Череповец         9\n",
       "Магнитогорск      8\n",
       "Петрозаводск      7\n",
       "Архангельск       6\n",
       "Новокузнецк       5\n",
       "Стерлитамак       3\n",
       "Йошкар-Ола        3\n",
       "Егорьевск         3\n",
       "Вологда           3\n",
       "Ханты-Мансийск    2\n",
       "Name: city_name, dtype: int64"
      ]
     },
     "execution_count": 135,
     "metadata": {},
     "output_type": "execute_result"
    }
   ],
   "source": [
    "df.city_name.value_counts().tail(10)"
   ]
  },
  {
   "cell_type": "markdown",
   "metadata": {},
   "source": [
    "10. Вывести весь датафрейм только по тем ресторанам, у которых количество неуспешных заказов (fail_orders) было больше 20. --- **0.4**"
   ]
  },
  {
   "cell_type": "code",
   "execution_count": 136,
   "metadata": {},
   "outputs": [
    {
     "data": {
      "text/html": [
       "<div>\n",
       "<style>\n",
       "    .dataframe thead tr:only-child th {\n",
       "        text-align: right;\n",
       "    }\n",
       "\n",
       "    .dataframe thead th {\n",
       "        text-align: left;\n",
       "    }\n",
       "\n",
       "    .dataframe tbody tr th {\n",
       "        vertical-align: top;\n",
       "    }\n",
       "</style>\n",
       "<table border=\"1\" class=\"dataframe\">\n",
       "  <thead>\n",
       "    <tr style=\"text-align: right;\">\n",
       "      <th></th>\n",
       "      <th>vendor_id</th>\n",
       "      <th>city_name</th>\n",
       "      <th>specialisation</th>\n",
       "      <th>successful_orders</th>\n",
       "      <th>fail_orders</th>\n",
       "      <th>reorders</th>\n",
       "    </tr>\n",
       "  </thead>\n",
       "  <tbody>\n",
       "    <tr>\n",
       "      <th>95</th>\n",
       "      <td>24121</td>\n",
       "      <td>Волгоград</td>\n",
       "      <td>Пицца</td>\n",
       "      <td>445.0</td>\n",
       "      <td>24.0</td>\n",
       "      <td>25.0</td>\n",
       "    </tr>\n",
       "    <tr>\n",
       "      <th>145</th>\n",
       "      <td>33976</td>\n",
       "      <td>Екатеринбург</td>\n",
       "      <td>Суши</td>\n",
       "      <td>327.0</td>\n",
       "      <td>46.0</td>\n",
       "      <td>65.0</td>\n",
       "    </tr>\n",
       "    <tr>\n",
       "      <th>267</th>\n",
       "      <td>6520</td>\n",
       "      <td>Краснодар</td>\n",
       "      <td>Суши</td>\n",
       "      <td>1300.0</td>\n",
       "      <td>70.0</td>\n",
       "      <td>65.0</td>\n",
       "    </tr>\n",
       "    <tr>\n",
       "      <th>372</th>\n",
       "      <td>22211</td>\n",
       "      <td>Нижний Новгород</td>\n",
       "      <td>Суши</td>\n",
       "      <td>79.0</td>\n",
       "      <td>29.0</td>\n",
       "      <td>20.0</td>\n",
       "    </tr>\n",
       "    <tr>\n",
       "      <th>420</th>\n",
       "      <td>24126</td>\n",
       "      <td>Орел</td>\n",
       "      <td>Пицца</td>\n",
       "      <td>482.0</td>\n",
       "      <td>33.0</td>\n",
       "      <td>27.0</td>\n",
       "    </tr>\n",
       "    <tr>\n",
       "      <th>422</th>\n",
       "      <td>16157</td>\n",
       "      <td>Орел</td>\n",
       "      <td>Бургеры</td>\n",
       "      <td>506.0</td>\n",
       "      <td>25.0</td>\n",
       "      <td>31.0</td>\n",
       "    </tr>\n",
       "    <tr>\n",
       "      <th>511</th>\n",
       "      <td>20935</td>\n",
       "      <td>Самара</td>\n",
       "      <td>Пицца</td>\n",
       "      <td>1298.0</td>\n",
       "      <td>63.0</td>\n",
       "      <td>44.0</td>\n",
       "    </tr>\n",
       "    <tr>\n",
       "      <th>516</th>\n",
       "      <td>12235</td>\n",
       "      <td>Самара</td>\n",
       "      <td>Суши</td>\n",
       "      <td>779.0</td>\n",
       "      <td>32.0</td>\n",
       "      <td>51.0</td>\n",
       "    </tr>\n",
       "    <tr>\n",
       "      <th>543</th>\n",
       "      <td>5469</td>\n",
       "      <td>Саратов</td>\n",
       "      <td>Суши</td>\n",
       "      <td>617.0</td>\n",
       "      <td>28.0</td>\n",
       "      <td>26.0</td>\n",
       "    </tr>\n",
       "    <tr>\n",
       "      <th>656</th>\n",
       "      <td>25369</td>\n",
       "      <td>Тула</td>\n",
       "      <td>Пицца</td>\n",
       "      <td>205.0</td>\n",
       "      <td>38.0</td>\n",
       "      <td>18.0</td>\n",
       "    </tr>\n",
       "  </tbody>\n",
       "</table>\n",
       "</div>"
      ],
      "text/plain": [
       "     vendor_id        city_name specialisation  successful_orders  \\\n",
       "95       24121        Волгоград          Пицца              445.0   \n",
       "145      33976     Екатеринбург           Суши              327.0   \n",
       "267       6520        Краснодар           Суши             1300.0   \n",
       "372      22211  Нижний Новгород           Суши               79.0   \n",
       "420      24126             Орел          Пицца              482.0   \n",
       "422      16157             Орел        Бургеры              506.0   \n",
       "511      20935           Самара          Пицца             1298.0   \n",
       "516      12235           Самара           Суши              779.0   \n",
       "543       5469          Саратов           Суши              617.0   \n",
       "656      25369             Тула          Пицца              205.0   \n",
       "\n",
       "     fail_orders  reorders  \n",
       "95          24.0      25.0  \n",
       "145         46.0      65.0  \n",
       "267         70.0      65.0  \n",
       "372         29.0      20.0  \n",
       "420         33.0      27.0  \n",
       "422         25.0      31.0  \n",
       "511         63.0      44.0  \n",
       "516         32.0      51.0  \n",
       "543         28.0      26.0  \n",
       "656         38.0      18.0  "
      ]
     },
     "execution_count": 136,
     "metadata": {},
     "output_type": "execute_result"
    }
   ],
   "source": [
    "df[df['fail_orders'] >20]"
   ]
  },
  {
   "cell_type": "markdown",
   "metadata": {},
   "source": [
    "11. Вывести весь датафрейм только по тем ресторанам, у которых количество неуспешных заказов (fail_orders) было больше 20 и успешных заказов (successful_orders) меньше 500, рестораны только из города Тула. --- **0.5**"
   ]
  },
  {
   "cell_type": "code",
   "execution_count": 137,
   "metadata": {},
   "outputs": [
    {
     "data": {
      "text/html": [
       "<div>\n",
       "<style>\n",
       "    .dataframe thead tr:only-child th {\n",
       "        text-align: right;\n",
       "    }\n",
       "\n",
       "    .dataframe thead th {\n",
       "        text-align: left;\n",
       "    }\n",
       "\n",
       "    .dataframe tbody tr th {\n",
       "        vertical-align: top;\n",
       "    }\n",
       "</style>\n",
       "<table border=\"1\" class=\"dataframe\">\n",
       "  <thead>\n",
       "    <tr style=\"text-align: right;\">\n",
       "      <th></th>\n",
       "      <th>vendor_id</th>\n",
       "      <th>city_name</th>\n",
       "      <th>specialisation</th>\n",
       "      <th>successful_orders</th>\n",
       "      <th>fail_orders</th>\n",
       "      <th>reorders</th>\n",
       "    </tr>\n",
       "  </thead>\n",
       "  <tbody>\n",
       "    <tr>\n",
       "      <th>656</th>\n",
       "      <td>25369</td>\n",
       "      <td>Тула</td>\n",
       "      <td>Пицца</td>\n",
       "      <td>205.0</td>\n",
       "      <td>38.0</td>\n",
       "      <td>18.0</td>\n",
       "    </tr>\n",
       "  </tbody>\n",
       "</table>\n",
       "</div>"
      ],
      "text/plain": [
       "     vendor_id city_name specialisation  successful_orders  fail_orders  \\\n",
       "656      25369      Тула          Пицца              205.0         38.0   \n",
       "\n",
       "     reorders  \n",
       "656      18.0  "
      ]
     },
     "execution_count": 137,
     "metadata": {},
     "output_type": "execute_result"
    }
   ],
   "source": [
    "df[(df['fail_orders'] >20) & (df['successful_orders']<500) & (df['city_name'] == 'Тула')]"
   ]
  },
  {
   "cell_type": "markdown",
   "metadata": {},
   "source": [
    "12. Среднее кол-во успешных заказов по специализациям. --- **0.6**"
   ]
  },
  {
   "cell_type": "code",
   "execution_count": 138,
   "metadata": {
    "scrolled": false
   },
   "outputs": [
    {
     "data": {
      "text/plain": [
       "city_name\n",
       "Архангельск          22.833333\n",
       "Астрахань           104.571429\n",
       "Барнаул             117.142857\n",
       "Белгород            203.500000\n",
       "Брянск              234.500000\n",
       "Владивосток          44.857143\n",
       "Владимир             51.500000\n",
       "Волгоград           113.857143\n",
       "Волжский            150.142857\n",
       "Вологда              11.333333\n",
       "Воронеж              76.857143\n",
       "Егорьевск             4.000000\n",
       "Екатеринбург        116.928571\n",
       "Иваново              16.000000\n",
       "Ижевск              101.428571\n",
       "Иркутск              93.785714\n",
       "Йошкар-Ола           19.666667\n",
       "Казань              120.357143\n",
       "Калининград          53.071429\n",
       "Калуга               91.000000\n",
       "Кемерово             71.357143\n",
       "Кострома             26.571429\n",
       "Краснодар           183.428571\n",
       "Красноярск           63.214286\n",
       "Курск               195.214286\n",
       "Липецк              135.500000\n",
       "Магнитогорск         26.875000\n",
       "Москва              121.571429\n",
       "Набережные Челны     70.000000\n",
       "Нижневартовск        73.142857\n",
       "                       ...    \n",
       "Омск                 60.142857\n",
       "Орел                223.785714\n",
       "Оренбург            230.785714\n",
       "Пенза               123.500000\n",
       "Пермь                91.142857\n",
       "Петрозаводск         80.857143\n",
       "Ростов-на-Дону      160.500000\n",
       "Рязань              289.857143\n",
       "Самара              201.642857\n",
       "Санкт-Петербург     138.000000\n",
       "Саратов             194.642857\n",
       "Смоленск             75.285714\n",
       "Сочи                104.000000\n",
       "Ставрополь          106.000000\n",
       "Стерлитамак          14.666667\n",
       "Сургут               44.571429\n",
       "Тверь               167.928571\n",
       "Тольятти            165.214286\n",
       "Томск                48.357143\n",
       "Тула                206.785714\n",
       "Тюмень              122.928571\n",
       "Ульяновск            52.571429\n",
       "Уфа                 236.714286\n",
       "Хабаровск            68.142857\n",
       "Ханты-Мансийск       13.000000\n",
       "Чебоксары            56.090909\n",
       "Челябинск            80.642857\n",
       "Череповец            40.777778\n",
       "Энгельс             150.571429\n",
       "Ярославль           149.357143\n",
       "Name: successful_orders, Length: 63, dtype: float64"
      ]
     },
     "execution_count": 138,
     "metadata": {},
     "output_type": "execute_result"
    }
   ],
   "source": [
    "df.groupby(by = 'city_name')['successful_orders'].mean()"
   ]
  },
  {
   "cell_type": "markdown",
   "metadata": {},
   "source": [
    "13. Рестораны какой специализации имеют самую высокую долю неуспешных заказов? Также посчитать эту долю (все заказы по конкретному ресторану складываются из успешных, неуспешных заказов и перезаказов). --- **1.0**"
   ]
  },
  {
   "cell_type": "code",
   "execution_count": 139,
   "metadata": {},
   "outputs": [],
   "source": [
    "tmp = df.groupby(by = 'specialisation')['successful_orders', 'fail_orders', 'reorders'].agg(np.sum)"
   ]
  },
  {
   "cell_type": "code",
   "execution_count": 140,
   "metadata": {},
   "outputs": [],
   "source": [
    "tmp['proportion'] = tmp.fail_orders/(tmp.successful_orders+tmp.fail_orders+tmp.reorders)"
   ]
  },
  {
   "cell_type": "code",
   "execution_count": 141,
   "metadata": {},
   "outputs": [
    {
     "data": {
      "text/html": [
       "<div>\n",
       "<style>\n",
       "    .dataframe thead tr:only-child th {\n",
       "        text-align: right;\n",
       "    }\n",
       "\n",
       "    .dataframe thead th {\n",
       "        text-align: left;\n",
       "    }\n",
       "\n",
       "    .dataframe tbody tr th {\n",
       "        vertical-align: top;\n",
       "    }\n",
       "</style>\n",
       "<table border=\"1\" class=\"dataframe\">\n",
       "  <thead>\n",
       "    <tr style=\"text-align: right;\">\n",
       "      <th></th>\n",
       "      <th>successful_orders</th>\n",
       "      <th>fail_orders</th>\n",
       "      <th>reorders</th>\n",
       "      <th>proportion</th>\n",
       "    </tr>\n",
       "    <tr>\n",
       "      <th>specialisation</th>\n",
       "      <th></th>\n",
       "      <th></th>\n",
       "      <th></th>\n",
       "      <th></th>\n",
       "    </tr>\n",
       "  </thead>\n",
       "  <tbody>\n",
       "    <tr>\n",
       "      <th>Вегетарианское меню</th>\n",
       "      <td>12.0</td>\n",
       "      <td>7.0</td>\n",
       "      <td>4.0</td>\n",
       "      <td>0.304348</td>\n",
       "    </tr>\n",
       "  </tbody>\n",
       "</table>\n",
       "</div>"
      ],
      "text/plain": [
       "                     successful_orders  fail_orders  reorders  proportion\n",
       "specialisation                                                           \n",
       "Вегетарианское меню               12.0          7.0       4.0    0.304348"
      ]
     },
     "execution_count": 141,
     "metadata": {},
     "output_type": "execute_result"
    }
   ],
   "source": [
    "tmp[tmp.proportion == max(tmp.proportion)]"
   ]
  },
  {
   "cell_type": "markdown",
   "metadata": {},
   "source": [
    "14. Для каждой специализации рассчитать минимальное и максимальное кол-во успешных заказов. --- **0.7**"
   ]
  },
  {
   "cell_type": "code",
   "execution_count": 142,
   "metadata": {},
   "outputs": [
    {
     "data": {
      "text/html": [
       "<div>\n",
       "<style>\n",
       "    .dataframe thead tr:only-child th {\n",
       "        text-align: right;\n",
       "    }\n",
       "\n",
       "    .dataframe thead th {\n",
       "        text-align: left;\n",
       "    }\n",
       "\n",
       "    .dataframe tbody tr th {\n",
       "        vertical-align: top;\n",
       "    }\n",
       "</style>\n",
       "<table border=\"1\" class=\"dataframe\">\n",
       "  <thead>\n",
       "    <tr style=\"text-align: right;\">\n",
       "      <th></th>\n",
       "      <th>amin</th>\n",
       "      <th>amax</th>\n",
       "    </tr>\n",
       "    <tr>\n",
       "      <th>specialisation</th>\n",
       "      <th></th>\n",
       "      <th></th>\n",
       "    </tr>\n",
       "  </thead>\n",
       "  <tbody>\n",
       "    <tr>\n",
       "      <th>Бургеры</th>\n",
       "      <td>0.0</td>\n",
       "      <td>506.0</td>\n",
       "    </tr>\n",
       "    <tr>\n",
       "      <th>Вегетарианское меню</th>\n",
       "      <td>12.0</td>\n",
       "      <td>12.0</td>\n",
       "    </tr>\n",
       "    <tr>\n",
       "      <th>Выпечка</th>\n",
       "      <td>3.0</td>\n",
       "      <td>24.0</td>\n",
       "    </tr>\n",
       "    <tr>\n",
       "      <th>Гирос</th>\n",
       "      <td>682.0</td>\n",
       "      <td>682.0</td>\n",
       "    </tr>\n",
       "    <tr>\n",
       "      <th>Грузинская</th>\n",
       "      <td>3.0</td>\n",
       "      <td>131.0</td>\n",
       "    </tr>\n",
       "    <tr>\n",
       "      <th>Десерты</th>\n",
       "      <td>0.0</td>\n",
       "      <td>22.0</td>\n",
       "    </tr>\n",
       "    <tr>\n",
       "      <th>Индийская</th>\n",
       "      <td>0.0</td>\n",
       "      <td>75.0</td>\n",
       "    </tr>\n",
       "    <tr>\n",
       "      <th>Итальянская</th>\n",
       "      <td>3.0</td>\n",
       "      <td>112.0</td>\n",
       "    </tr>\n",
       "    <tr>\n",
       "      <th>Китайская</th>\n",
       "      <td>6.0</td>\n",
       "      <td>355.0</td>\n",
       "    </tr>\n",
       "    <tr>\n",
       "      <th>Корейская</th>\n",
       "      <td>9.0</td>\n",
       "      <td>9.0</td>\n",
       "    </tr>\n",
       "    <tr>\n",
       "      <th>Мексиканская</th>\n",
       "      <td>33.0</td>\n",
       "      <td>33.0</td>\n",
       "    </tr>\n",
       "    <tr>\n",
       "      <th>Мясо</th>\n",
       "      <td>1.0</td>\n",
       "      <td>179.0</td>\n",
       "    </tr>\n",
       "    <tr>\n",
       "      <th>Паназиатская</th>\n",
       "      <td>1.0</td>\n",
       "      <td>38.0</td>\n",
       "    </tr>\n",
       "    <tr>\n",
       "      <th>Паста и ризотто</th>\n",
       "      <td>11.0</td>\n",
       "      <td>66.0</td>\n",
       "    </tr>\n",
       "    <tr>\n",
       "      <th>Пироги</th>\n",
       "      <td>0.0</td>\n",
       "      <td>185.0</td>\n",
       "    </tr>\n",
       "    <tr>\n",
       "      <th>Пицца</th>\n",
       "      <td>0.0</td>\n",
       "      <td>1644.0</td>\n",
       "    </tr>\n",
       "    <tr>\n",
       "      <th>Русская</th>\n",
       "      <td>0.0</td>\n",
       "      <td>919.0</td>\n",
       "    </tr>\n",
       "    <tr>\n",
       "      <th>Рыба</th>\n",
       "      <td>0.0</td>\n",
       "      <td>315.0</td>\n",
       "    </tr>\n",
       "    <tr>\n",
       "      <th>Супы</th>\n",
       "      <td>0.0</td>\n",
       "      <td>480.0</td>\n",
       "    </tr>\n",
       "    <tr>\n",
       "      <th>Суши</th>\n",
       "      <td>0.0</td>\n",
       "      <td>1401.0</td>\n",
       "    </tr>\n",
       "    <tr>\n",
       "      <th>Сэндвичи</th>\n",
       "      <td>0.0</td>\n",
       "      <td>241.0</td>\n",
       "    </tr>\n",
       "    <tr>\n",
       "      <th>Узбекская</th>\n",
       "      <td>6.0</td>\n",
       "      <td>25.0</td>\n",
       "    </tr>\n",
       "    <tr>\n",
       "      <th>Фастфуд</th>\n",
       "      <td>2.0</td>\n",
       "      <td>66.0</td>\n",
       "    </tr>\n",
       "    <tr>\n",
       "      <th>Хот-доги</th>\n",
       "      <td>4.0</td>\n",
       "      <td>5.0</td>\n",
       "    </tr>\n",
       "    <tr>\n",
       "      <th>Шаурма</th>\n",
       "      <td>0.0</td>\n",
       "      <td>93.0</td>\n",
       "    </tr>\n",
       "    <tr>\n",
       "      <th>Шашлыки</th>\n",
       "      <td>0.0</td>\n",
       "      <td>323.0</td>\n",
       "    </tr>\n",
       "    <tr>\n",
       "      <th>Японская</th>\n",
       "      <td>4.0</td>\n",
       "      <td>461.0</td>\n",
       "    </tr>\n",
       "  </tbody>\n",
       "</table>\n",
       "</div>"
      ],
      "text/plain": [
       "                      amin    amax\n",
       "specialisation                    \n",
       "Бургеры                0.0   506.0\n",
       "Вегетарианское меню   12.0    12.0\n",
       "Выпечка                3.0    24.0\n",
       "Гирос                682.0   682.0\n",
       "Грузинская             3.0   131.0\n",
       "Десерты                0.0    22.0\n",
       "Индийская              0.0    75.0\n",
       "Итальянская            3.0   112.0\n",
       "Китайская              6.0   355.0\n",
       "Корейская              9.0     9.0\n",
       "Мексиканская          33.0    33.0\n",
       "Мясо                   1.0   179.0\n",
       "Паназиатская           1.0    38.0\n",
       "Паста и ризотто       11.0    66.0\n",
       "Пироги                 0.0   185.0\n",
       "Пицца                  0.0  1644.0\n",
       "Русская                0.0   919.0\n",
       "Рыба                   0.0   315.0\n",
       "Супы                   0.0   480.0\n",
       "Суши                   0.0  1401.0\n",
       "Сэндвичи               0.0   241.0\n",
       "Узбекская              6.0    25.0\n",
       "Фастфуд                2.0    66.0\n",
       "Хот-доги               4.0     5.0\n",
       "Шаурма                 0.0    93.0\n",
       "Шашлыки                0.0   323.0\n",
       "Японская               4.0   461.0"
      ]
     },
     "execution_count": 142,
     "metadata": {},
     "output_type": "execute_result"
    }
   ],
   "source": [
    "df.groupby(by = 'specialisation')['successful_orders'].agg([np.min, np.max])"
   ]
  },
  {
   "cell_type": "markdown",
   "metadata": {},
   "source": [
    "15. Рассчитать среднее кол-во успешных заказов по каждой специализации в городах Белгород и Уфа. --- **0.9**"
   ]
  },
  {
   "cell_type": "code",
   "execution_count": 143,
   "metadata": {},
   "outputs": [
    {
     "data": {
      "text/plain": [
       "specialisation\n",
       "Бургеры     105.000000\n",
       "Мясо          2.000000\n",
       "Пироги       18.000000\n",
       "Пицца       313.000000\n",
       "Русская     158.000000\n",
       "Суши        266.777778\n",
       "Шаурма        0.000000\n",
       "Шашлыки     153.666667\n",
       "Японская    183.000000\n",
       "Name: successful_orders, dtype: float64"
      ]
     },
     "execution_count": 143,
     "metadata": {},
     "output_type": "execute_result"
    }
   ],
   "source": [
    "df[(df.city_name == 'Белгород') | (df.city_name == 'Уфа')].groupby('specialisation')['successful_orders'].agg(np.mean)"
   ]
  },
  {
   "cell_type": "markdown",
   "metadata": {},
   "source": [
    "16. Импортировать таблицу \"restaurant_scores.csv\". В исходную таблицу добавить новый столбец \"model_score\" из таблицы \"restaurant_scores\", соединив таблицы по restaurant_scores.vendor_id = model_score.id. Вывести первые 5 строк получившейся таблицы. --- **0.8**"
   ]
  },
  {
   "cell_type": "code",
   "execution_count": 144,
   "metadata": {},
   "outputs": [],
   "source": [
    "new_df = pd.read_csv('restaurant_scores.csv', sep = ',')"
   ]
  },
  {
   "cell_type": "code",
   "execution_count": 145,
   "metadata": {},
   "outputs": [],
   "source": [
    "df1 = pd.merge(df, new_df, left_on='vendor_id', right_on = 'id')"
   ]
  },
  {
   "cell_type": "code",
   "execution_count": 146,
   "metadata": {},
   "outputs": [
    {
     "data": {
      "text/html": [
       "<div>\n",
       "<style>\n",
       "    .dataframe thead tr:only-child th {\n",
       "        text-align: right;\n",
       "    }\n",
       "\n",
       "    .dataframe thead th {\n",
       "        text-align: left;\n",
       "    }\n",
       "\n",
       "    .dataframe tbody tr th {\n",
       "        vertical-align: top;\n",
       "    }\n",
       "</style>\n",
       "<table border=\"1\" class=\"dataframe\">\n",
       "  <thead>\n",
       "    <tr style=\"text-align: right;\">\n",
       "      <th></th>\n",
       "      <th>vendor_id</th>\n",
       "      <th>city_name</th>\n",
       "      <th>specialisation</th>\n",
       "      <th>successful_orders</th>\n",
       "      <th>fail_orders</th>\n",
       "      <th>reorders</th>\n",
       "      <th>id</th>\n",
       "      <th>model_score</th>\n",
       "    </tr>\n",
       "  </thead>\n",
       "  <tbody>\n",
       "    <tr>\n",
       "      <th>0</th>\n",
       "      <td>28957</td>\n",
       "      <td>Архангельск</td>\n",
       "      <td>Супы</td>\n",
       "      <td>0.0</td>\n",
       "      <td>2.0</td>\n",
       "      <td>0.0</td>\n",
       "      <td>28957</td>\n",
       "      <td>0.421871</td>\n",
       "    </tr>\n",
       "    <tr>\n",
       "      <th>1</th>\n",
       "      <td>37381</td>\n",
       "      <td>Архангельск</td>\n",
       "      <td>Пироги</td>\n",
       "      <td>0.0</td>\n",
       "      <td>0.0</td>\n",
       "      <td>0.0</td>\n",
       "      <td>37381</td>\n",
       "      <td>0.386503</td>\n",
       "    </tr>\n",
       "    <tr>\n",
       "      <th>2</th>\n",
       "      <td>28703</td>\n",
       "      <td>Архангельск</td>\n",
       "      <td>Суши</td>\n",
       "      <td>111.0</td>\n",
       "      <td>3.0</td>\n",
       "      <td>0.0</td>\n",
       "      <td>28703</td>\n",
       "      <td>0.664808</td>\n",
       "    </tr>\n",
       "    <tr>\n",
       "      <th>3</th>\n",
       "      <td>37382</td>\n",
       "      <td>Архангельск</td>\n",
       "      <td>Пироги</td>\n",
       "      <td>1.0</td>\n",
       "      <td>0.0</td>\n",
       "      <td>0.0</td>\n",
       "      <td>37382</td>\n",
       "      <td>0.838883</td>\n",
       "    </tr>\n",
       "    <tr>\n",
       "      <th>4</th>\n",
       "      <td>36877</td>\n",
       "      <td>Архангельск</td>\n",
       "      <td>Бургеры</td>\n",
       "      <td>22.0</td>\n",
       "      <td>2.0</td>\n",
       "      <td>0.0</td>\n",
       "      <td>36877</td>\n",
       "      <td>0.176469</td>\n",
       "    </tr>\n",
       "  </tbody>\n",
       "</table>\n",
       "</div>"
      ],
      "text/plain": [
       "   vendor_id    city_name specialisation  successful_orders  fail_orders  \\\n",
       "0      28957  Архангельск           Супы                0.0          2.0   \n",
       "1      37381  Архангельск         Пироги                0.0          0.0   \n",
       "2      28703  Архангельск           Суши              111.0          3.0   \n",
       "3      37382  Архангельск         Пироги                1.0          0.0   \n",
       "4      36877  Архангельск        Бургеры               22.0          2.0   \n",
       "\n",
       "   reorders     id  model_score  \n",
       "0       0.0  28957     0.421871  \n",
       "1       0.0  37381     0.386503  \n",
       "2       0.0  28703     0.664808  \n",
       "3       0.0  37382     0.838883  \n",
       "4       0.0  36877     0.176469  "
      ]
     },
     "execution_count": 146,
     "metadata": {},
     "output_type": "execute_result"
    }
   ],
   "source": [
    "df1.head(5)"
   ]
  },
  {
   "cell_type": "markdown",
   "metadata": {},
   "source": [
    "18. Итоговую таблицу сохранить на жестком диске в формате 'csv'. --- **0.3**"
   ]
  },
  {
   "cell_type": "code",
   "execution_count": 120,
   "metadata": {
    "collapsed": true
   },
   "outputs": [],
   "source": [
    "df1.to_csv('new.csv', index = False)"
   ]
  },
  {
   "cell_type": "markdown",
   "metadata": {},
   "source": [
    "### Каждые 1.5 поинта - 1 балл."
   ]
  }
 ],
 "metadata": {
  "kernelspec": {
   "display_name": "Python 3",
   "language": "python",
   "name": "python3"
  },
  "language_info": {
   "codemirror_mode": {
    "name": "ipython",
    "version": 3
   },
   "file_extension": ".py",
   "mimetype": "text/x-python",
   "name": "python",
   "nbconvert_exporter": "python",
   "pygments_lexer": "ipython3",
   "version": "3.6.1"
  }
 },
 "nbformat": 4,
 "nbformat_minor": 2
}
