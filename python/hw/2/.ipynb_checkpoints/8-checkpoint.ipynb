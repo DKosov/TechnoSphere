{
 "cells": [
  {
   "cell_type": "code",
   "execution_count": 48,
   "metadata": {
    "collapsed": true
   },
   "outputs": [],
   "source": [
    "#!/usr/bin/python\n",
    "# -*- coding: utf-8 -*-\n",
    "\n",
    "from collections import deque\n",
    "\n",
    "class TreeNode:\n",
    "\n",
    "    def __init__(self,value=None):\n",
    "        self.value = value\n",
    "        self.leftChild = None\n",
    "        self.rightChild = None\n",
    "\n",
    "    def __next__(self):\n",
    "        if len(self.deq) == 0:\n",
    "            raise StopIteration\n",
    "        currentNode = self.deq.popleft()\n",
    "        if currentNode.leftChild:\n",
    "            self.deq.append(currentNode.leftChild)\n",
    "        if currentNode.rightChild:\n",
    "            self.deq.append(currentNode.rightChild)\n",
    "        return currentNode.value\n",
    "    \n",
    "    def __iter__(self):\n",
    "        self.deq = deque()\n",
    "        self.deq.append(self)\n",
    "        return self\n",
    "                    \n",
    "\n",
    "class BinarySearchTree:\n",
    "\n",
    "    def __init__(self, value=None):\n",
    "        if value:\n",
    "            self.node = TreeNode(value)\n",
    "        else:\n",
    "            self.node = None\n",
    "\n",
    "    def _search(self, value, currentNode):\n",
    "        if currentNode:\n",
    "            if value == currentNode.value:\n",
    "                return True\n",
    "            elif value < currentNode.value:\n",
    "                return self._search(value, currentNode.leftChild)\n",
    "            else:\n",
    "                return self._search(value, currentNode.rightChild)\n",
    "        else:\n",
    "            return False\n",
    "        \n",
    "\n",
    "    def _put(self, value, currentNode):\n",
    "        if value < currentNode.value:\n",
    "            if currentNode.leftChild:\n",
    "                self._put(value, currentNode.leftChild)\n",
    "            else:\n",
    "                currentNode.leftChild = TreeNode(value=value)\n",
    "        else:\n",
    "            if currentNode.rightChild:\n",
    "                self._put(value, currentNode.rightChild)\n",
    "            else:\n",
    "                currentNode.rightChild = TreeNode(value=value)\n",
    "\n",
    "    def append(self, value):\n",
    "        if self.node:\n",
    "            if value not in self:\n",
    "                self._put(value, self.node)\n",
    "        else:\n",
    "            self.node = TreeNode(value)\n",
    "            \n",
    "    def __contains__(self, value):\n",
    "        if self._search(value, self.node):\n",
    "            return True\n",
    "        else:\n",
    "            return False\n",
    "\n",
    "    def __iter__(self):\n",
    "        return self.node.__iter__()"
   ]
  },
  {
   "cell_type": "code",
   "execution_count": 49,
   "metadata": {
    "collapsed": true
   },
   "outputs": [],
   "source": [
    "k = BinarySearchTree()"
   ]
  },
  {
   "cell_type": "code",
   "execution_count": 50,
   "metadata": {},
   "outputs": [
    {
     "name": "stdout",
     "output_type": "stream",
     "text": [
      "None\n"
     ]
    }
   ],
   "source": [
    "print(*k)"
   ]
  },
  {
   "cell_type": "code",
   "execution_count": 47,
   "metadata": {},
   "outputs": [
    {
     "name": "stdout",
     "output_type": "stream",
     "text": [
      "False\n",
      "False\n",
      "False\n",
      "-1 1\n"
     ]
    }
   ],
   "source": [
    "tree = BinarySearchTree()\n",
    "for v in [-1, 1, 1]:\n",
    "    tree.append(v)\n",
    "\n",
    "for v in [8, 12, 13]:\n",
    "    print(v in tree)\n",
    "\n",
    "print(*tree)"
   ]
  },
  {
   "cell_type": "code",
   "execution_count": 23,
   "metadata": {
    "collapsed": true
   },
   "outputs": [],
   "source": [
    "from random import random\n",
    "class randomIt:\n",
    "    def __init__(self, value):\n",
    "        self.value = value\n",
    "    def __iter__(self):\n",
    "        print('its it')\n",
    "        return self\n",
    "    def __next__(self):\n",
    "        if self.value<0:\n",
    "            raise StopIteration\n",
    "        else:\n",
    "            self.value -=1\n",
    "            return random()"
   ]
  },
  {
   "cell_type": "code",
   "execution_count": 127,
   "metadata": {
    "collapsed": true
   },
   "outputs": [],
   "source": [
    "a = deque()\n",
    "a.append(3)"
   ]
  },
  {
   "cell_type": "code",
   "execution_count": 128,
   "metadata": {},
   "outputs": [
    {
     "data": {
      "text/plain": [
       "deque([3])"
      ]
     },
     "execution_count": 128,
     "metadata": {},
     "output_type": "execute_result"
    }
   ],
   "source": [
    "a"
   ]
  },
  {
   "cell_type": "code",
   "execution_count": null,
   "metadata": {
    "collapsed": true
   },
   "outputs": [],
   "source": [
    "#!/usr/bin/python\n",
    "# -*- coding: utf-8 -*-\n",
    "\n",
    "\n",
    "class TreeNode:\n",
    "\n",
    "    def __init__(\n",
    "        self,\n",
    "        value=None,\n",
    "        leftChild=None,\n",
    "        rightChild=None,\n",
    "        parent=None,\n",
    "        ):\n",
    "\n",
    "        self.value = value\n",
    "        self.leftChild = leftChild\n",
    "        self.rightChild = rightChild\n",
    "        self.parent = parent\n",
    "\n",
    "    def __iter__(self):\n",
    "        if self:\n",
    "            yield self.value\n",
    "            if self.leftChild:\n",
    "                for i in self.leftChild:\n",
    "                    yield i\n",
    "            if self.rightChild:\n",
    "                for i in self.rightChild:\n",
    "                    yield i\n",
    "\n",
    "\n",
    "class BinarySearchTree:\n",
    "\n",
    "    def __init__(self, *root):\n",
    "        self.root = None\n",
    "        if root:\n",
    "            self.node = TreeNode(*root)\n",
    "\n",
    "    def _search(self, value, currentNode):\n",
    "        if currentNode:\n",
    "            if value == currentNode.value:\n",
    "                return True\n",
    "            elif value < currentNode.value:\n",
    "                return self._search(value, currentNode.leftChild)\n",
    "            else:\n",
    "                return self._search(value, currentNode.rightChild)\n",
    "        else:\n",
    "            return False\n",
    "\n",
    "    def _put(self, value, currentNode):\n",
    "        if value < currentNode.value:\n",
    "            if currentNode.leftChild:\n",
    "                self._put(key, val, currentNode.leftChild)\n",
    "            else:\n",
    "                currentNode.leftChild = TreeNode(value=value,\n",
    "                        parent=currentNode)\n",
    "        else:\n",
    "            if currentNode.rightChild:\n",
    "                self._put(value, currentNode.rightChild)\n",
    "            else:\n",
    "                currentNode.rightChild = TreeNode(value=value,\n",
    "                        parent=currentNode)\n",
    "\n",
    "    def append(self, value):\n",
    "        if self.root:\n",
    "            self._put(value, self.root)\n",
    "        else:\n",
    "            self.root = TreeNode(value)\n",
    "\n",
    "    def __contains__(self, value):\n",
    "        if self._search(value, self.root):\n",
    "            return True\n",
    "        else:\n",
    "            return False\n",
    "\n",
    "    def __iter__(self):\n",
    "        return self.root.__iter__()\n",
    "\n",
    "\n",
    "\n",
    "\t\t\t"
   ]
  }
 ],
 "metadata": {
  "kernelspec": {
   "display_name": "Python 3",
   "language": "python",
   "name": "python3"
  },
  "language_info": {
   "codemirror_mode": {
    "name": "ipython",
    "version": 3
   },
   "file_extension": ".py",
   "mimetype": "text/x-python",
   "name": "python",
   "nbconvert_exporter": "python",
   "pygments_lexer": "ipython3",
   "version": "3.6.1"
  }
 },
 "nbformat": 4,
 "nbformat_minor": 2
}
