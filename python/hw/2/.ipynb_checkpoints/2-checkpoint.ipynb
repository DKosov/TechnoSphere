{
 "cells": [
  {
   "cell_type": "code",
   "execution_count": null,
   "metadata": {
    "collapsed": true
   },
   "outputs": [],
   "source": [
    "solutions = {\n",
    "    'solution1': lambda a: [i*4 for i in a],\n",
    "    'solution2': lambda n: [n[i-1]*i for i in range(1,len(n)+1)],\n",
    "    'solution3': lambda i: [k if k%3 == 0 or k%5 == 0 in i],\n",
    "    'solution4': lambda m: [j for i in m for j in i],\n",
    "    'solution5': lambda e: [(i, j, k) for i in range(1,e+1) for j in range(i+1, e+1) for k in range(j+1, e+1) if i*i+j*j == k*k],\n",
    "    'solution6': lambda s: [list(map(lambda x: x+i, s[1])) for i in s[0]],\n",
    "    'solution7': lambda o: [list(i) for i in zip(*o)],\n",
    "    'solution8': lambda s: [[int(j) for j in i.split(\" \")] for i in s],\n",
    "    'solution9': lambda a: [{chr(ord('a')+i):i*i} for i in a],\n",
    "    'solution10': lambda t: set(i.title() for i in t if len(i)>3),\n",
    "}"
   ]
  },
  {
   "cell_type": "code",
   "execution_count": 16,
   "metadata": {},
   "outputs": [
    {
     "data": {
      "text/plain": [
       "[[0], [1, 2, 3], [4, 5, 6, 7], [8, 9]]"
      ]
     },
     "execution_count": 16,
     "metadata": {},
     "output_type": "execute_result"
    }
   ],
   "source": [
    "[filter(lambda x: a*a+b*b<x*x, range(0, n))"
   ]
  },
  {
   "cell_type": "code",
   "execution_count": 39,
   "metadata": {},
   "outputs": [
    {
     "data": {
      "text/plain": [
       "[(3, 4, 5), (5, 12, 13), (6, 8, 10), (9, 12, 15)]"
      ]
     },
     "execution_count": 39,
     "metadata": {},
     "output_type": "execute_result"
    }
   ],
   "source": [
    "[(i, j, k) for i in range(1,16) for j in range(i+1, 16) for k in range(j+1, 16) if i*i+j*j == k*k]"
   ]
  },
  {
   "cell_type": "code",
   "execution_count": 47,
   "metadata": {},
   "outputs": [
    {
     "data": {
      "text/plain": [
       "[[1, 3, 5], [2, 4, 6], [7, 8, 11]]"
      ]
     },
     "execution_count": 47,
     "metadata": {},
     "output_type": "execute_result"
    }
   ],
   "source": [
    "lis = [[1, 2, 7], [3, 4, 8], [5, 6, 11]]\n",
    "[list(x) for x in zip(*lis)]"
   ]
  },
  {
   "cell_type": "code",
   "execution_count": 46,
   "metadata": {},
   "outputs": [
    {
     "data": {
      "text/plain": [
       "[(1, 2), (3, 4), (5, 6)]"
      ]
     },
     "execution_count": 46,
     "metadata": {},
     "output_type": "execute_result"
    }
   ],
   "source": [
    "list(zip([1,3,5], [2,4,6]))"
   ]
  },
  {
   "cell_type": "code",
   "execution_count": 48,
   "metadata": {},
   "outputs": [
    {
     "data": {
      "text/plain": [
       "[{'a': 0}, {'b': 1}, {'c': 4}, {'d': 9}, {'e': 16}, {'f': 25}, {'g': 36}]"
      ]
     },
     "execution_count": 48,
     "metadata": {},
     "output_type": "execute_result"
    }
   ],
   "source": [
    "[{chr(ord('a')+i):i*i} for i in range(7)]"
   ]
  },
  {
   "cell_type": "code",
   "execution_count": 50,
   "metadata": {},
   "outputs": [
    {
     "data": {
      "text/plain": [
       "[[0, 1, 2, 3, 4], [1, 2, 3, 4, 5], [2, 3, 4, 5, 6]]"
      ]
     },
     "execution_count": 50,
     "metadata": {},
     "output_type": "execute_result"
    }
   ],
   "source": [
    "s = ([0, 1, 2], [0, 1, 2, 3, 4])\n",
    "[list(map(lambda x: x+i, s[1])) for i in s[0]]"
   ]
  },
  {
   "cell_type": "code",
   "execution_count": 57,
   "metadata": {},
   "outputs": [
    {
     "data": {
      "text/plain": [
       "{'Alice', 'Anton', 'Kamila', 'Nastya', 'Vova'}"
      ]
     },
     "execution_count": 57,
     "metadata": {},
     "output_type": "execute_result"
    }
   ],
   "source": [
    "set(i.title() for i in ['Alice', 'vova', 'ANTON', 'Bob', 'kAMILA', 'CJ', 'ALICE', 'Nastya'] if len(i)>3)"
   ]
  },
  {
   "cell_type": "code",
   "execution_count": null,
   "metadata": {
    "collapsed": true
   },
   "outputs": [],
   "source": []
  }
 ],
 "metadata": {
  "kernelspec": {
   "display_name": "Python 3",
   "language": "python",
   "name": "python3"
  },
  "language_info": {
   "codemirror_mode": {
    "name": "ipython",
    "version": 3
   },
   "file_extension": ".py",
   "mimetype": "text/x-python",
   "name": "python",
   "nbconvert_exporter": "python",
   "pygments_lexer": "ipython3",
   "version": "3.6.1"
  }
 },
 "nbformat": 4,
 "nbformat_minor": 2
}
