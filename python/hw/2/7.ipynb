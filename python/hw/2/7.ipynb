{
 "cells": [
  {
   "cell_type": "code",
   "execution_count": 9,
   "metadata": {},
   "outputs": [
    {
     "name": "stdout",
     "output_type": "stream",
     "text": [
      "3\n",
      "((()))\n",
      "(()())\n",
      "(())()\n",
      "()(())\n",
      "()()()\n"
     ]
    }
   ],
   "source": [
    "def check(s, n = 0):\n",
    "    for i in s:\n",
    "        if i == '0':\n",
    "            n = n + 1\n",
    "        else:\n",
    "            if n < 1:\n",
    "                return False\n",
    "            n = n - 1\n",
    "    return True if n == 0 else False\n",
    " \n",
    "def brackets(n):\n",
    "    for i in map(bin, range(2 ** (2 * n))):\n",
    "        i = i[2:]\n",
    "        i = '0' * ((2 * n) - len(i)) + i\n",
    "        if (check(i)):\n",
    "           # print(i)\n",
    "            yield (''.join('(' if j == '0' else ')' for j in i))\n",
    " \n",
    "if __name__ == '__main__':\n",
    "    for i in brackets(int(input())):\n",
    "        print(str(i))"
   ]
  },
  {
   "cell_type": "code",
   "execution_count": 8,
   "metadata": {},
   "outputs": [
    {
     "name": "stdout",
     "output_type": "stream",
     "text": [
      "5\n",
      "((((()))))\n",
      "(((()())))\n",
      "(((())()))\n",
      "(((()))())\n",
      "(((())))()\n",
      "((()(())))\n",
      "((()()()))\n",
      "((()())())\n",
      "((()()))()\n",
      "((())(()))\n",
      "((())()())\n",
      "((())())()\n",
      "((()))(())\n",
      "((()))()()\n",
      "(()((())))\n",
      "(()(()()))\n",
      "(()(())())\n",
      "(()(()))()\n",
      "(()()(()))\n",
      "(()()()())\n",
      "(()()())()\n",
      "(()())(())\n",
      "(()())()()\n",
      "(())((()))\n",
      "(())(()())\n",
      "(())(())()\n",
      "(())()(())\n",
      "(())()()()\n",
      "()(((())))\n",
      "()((()()))\n",
      "()((())())\n",
      "()((()))()\n",
      "()(()(()))\n",
      "()(()()())\n",
      "()(()())()\n",
      "()(())(())\n",
      "()(())()()\n",
      "()()((()))\n",
      "()()(()())\n",
      "()()(())()\n",
      "()()()(())\n",
      "()()()()()\n"
     ]
    }
   ],
   "source": [
    "def check(s):\n",
    "    delta = 0\n",
    "    for c in s:\n",
    "        delta += 1 if c == '(' else -1\n",
    "        if delta < 0:\n",
    "            return False\n",
    "    return delta == 0\n",
    "    \n",
    "def brackets(n):\n",
    "    def rec(n, s):\n",
    "        if n == 0:\n",
    "            if check(s):\n",
    "                yield s\n",
    "            return\n",
    "        yield from rec(n - 1, s + '(')\n",
    "        yield from rec(n - 1, s + ')')\n",
    "    yield from rec(2 * n, '')\n",
    "\n",
    "if __name__ == '__main__':\n",
    "    print('\\n'.join([str(x) for x in brackets(int(input()))]))"
   ]
  },
  {
   "cell_type": "code",
   "execution_count": 11,
   "metadata": {},
   "outputs": [
    {
     "data": {
      "text/plain": [
       "6"
      ]
     },
     "execution_count": 11,
     "metadata": {},
     "output_type": "execute_result"
    }
   ],
   "source": [
    "3 << 1"
   ]
  },
  {
   "cell_type": "code",
   "execution_count": 16,
   "metadata": {},
   "outputs": [
    {
     "data": {
      "text/plain": [
       "'0b110'"
      ]
     },
     "execution_count": 16,
     "metadata": {},
     "output_type": "execute_result"
    }
   ],
   "source": [
    "bin(6)"
   ]
  },
  {
   "cell_type": "code",
   "execution_count": 30,
   "metadata": {},
   "outputs": [
    {
     "name": "stdout",
     "output_type": "stream",
     "text": [
      "3\n"
     ]
    }
   ],
   "source": [
    "n = int(input())\n",
    "arr = [0]*n+[1]*n"
   ]
  },
  {
   "cell_type": "code",
   "execution_count": 31,
   "metadata": {},
   "outputs": [
    {
     "data": {
      "text/plain": [
       "[0, 0, 0, 1, 1, 1]"
      ]
     },
     "execution_count": 31,
     "metadata": {},
     "output_type": "execute_result"
    }
   ],
   "source": [
    "arr"
   ]
  },
  {
   "cell_type": "code",
   "execution_count": 34,
   "metadata": {
    "collapsed": true
   },
   "outputs": [],
   "source": [
    "def brackets(arr, numOfZer):\n",
    "    if numOfZer == 0:\n",
    "        return arr\n",
    "    else:\n",
    "        print(arr)\n",
    "        arr[0], arr[1] = 1, 0\n",
    "        return brackets(arr[1:], numOfZer-1)\n",
    "    "
   ]
  },
  {
   "cell_type": "code",
   "execution_count": 41,
   "metadata": {},
   "outputs": [],
   "source": [
    "def gen1():\n",
    "    for i in range(10):\n",
    "        yield i\n",
    "def gen2():\n",
    "    for i in range(5, 15):\n",
    "        yield i"
   ]
  },
  {
   "cell_type": "code",
   "execution_count": 46,
   "metadata": {
    "collapsed": true
   },
   "outputs": [],
   "source": [
    "def gen3():\n",
    "    yield from gen1()\n",
    "    yield from gen2()"
   ]
  },
  {
   "cell_type": "code",
   "execution_count": 72,
   "metadata": {},
   "outputs": [
    {
     "name": "stdout",
     "output_type": "stream",
     "text": [
      "3\n",
      "((()))\n",
      "(()())\n",
      "(())()\n",
      "()(())\n",
      "()()()\n"
     ]
    }
   ],
   "source": [
    "def worker(n, pattern, numOfZer):\n",
    "    if n == 0 and numOfZer == 0:\n",
    "        yield pattern\n",
    "    elif n == 0 or numOfZer <0:\n",
    "        pass\n",
    "    else:\n",
    "        yield from worker(n-1, pattern+'(', numOfZer+1)\n",
    "        yield from worker(n-1, pattern+')', numOfZer-1)\n",
    "\n",
    "def brackets(n):\n",
    "    yield from worker(2*n, '', 0)\n",
    "    \n",
    "if __name__ == '__main__':\n",
    "    for i in brackets(int(input())):\n",
    "        print(i)"
   ]
  },
  {
   "cell_type": "code",
   "execution_count": 68,
   "metadata": {},
   "outputs": [
    {
     "name": "stdout",
     "output_type": "stream",
     "text": [
      "((()))\n",
      "(()())\n",
      "(())()\n",
      "()(())\n",
      "()()()\n"
     ]
    }
   ],
   "source": [
    "for i in brackets(3):\n",
    "    print(i)"
   ]
  },
  {
   "cell_type": "code",
   "execution_count": null,
   "metadata": {
    "collapsed": true
   },
   "outputs": [],
   "source": []
  }
 ],
 "metadata": {
  "kernelspec": {
   "display_name": "Python 3",
   "language": "python",
   "name": "python3"
  },
  "language_info": {
   "codemirror_mode": {
    "name": "ipython",
    "version": 3
   },
   "file_extension": ".py",
   "mimetype": "text/x-python",
   "name": "python",
   "nbconvert_exporter": "python",
   "pygments_lexer": "ipython3",
   "version": "3.6.1"
  }
 },
 "nbformat": 4,
 "nbformat_minor": 2
}
