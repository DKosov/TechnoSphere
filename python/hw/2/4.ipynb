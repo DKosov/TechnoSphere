{
 "cells": [
  {
   "cell_type": "code",
   "execution_count": 61,
   "metadata": {
    "collapsed": true
   },
   "outputs": [],
   "source": [
    "import time\n",
    "import functools\n",
    "def stopwatch(func):\n",
    "    @functools.wraps(func)\n",
    "    def wrapper(*args, **argv):\n",
    "        tmp = time.time()\n",
    "        print('`{}` started'.format(func.__name__))\n",
    "        result = func(*args, **argv)\n",
    "        print('`{}` finished in {:.2f}s'.format(func.__name__,time.time()-tmp))\n",
    "        return result\n",
    "    return wrapper\n"
   ]
  },
  {
   "cell_type": "code",
   "execution_count": 62,
   "metadata": {},
   "outputs": [
    {
     "name": "stdout",
     "output_type": "stream",
     "text": [
      "`funct` started\n",
      "`funct` finished in 1.26s\n"
     ]
    }
   ],
   "source": [
    "@stopwatch\n",
    "def funct():\n",
    "    time.sleep(1.25)"
   ]
  },
  {
   "cell_type": "code",
   "execution_count": 4,
   "metadata": {},
   "outputs": [
    {
     "ename": "SyntaxError",
     "evalue": "invalid syntax (<ipython-input-4-e87aa220f476>, line 2)",
     "output_type": "error",
     "traceback": [
      "\u001b[0;36m  File \u001b[0;32m\"<ipython-input-4-e87aa220f476>\"\u001b[0;36m, line \u001b[0;32m2\u001b[0m\n\u001b[0;31m    funct()\u001b[0m\n\u001b[0m        ^\u001b[0m\n\u001b[0;31mSyntaxError\u001b[0m\u001b[0;31m:\u001b[0m invalid syntax\n"
     ]
    }
   ],
   "source": [
    "import functools \n",
    "import time\n",
    "def stopwatch(func): \n",
    "    @functools.wraps(func) \n",
    "    def wrapper(*args, **argv): \n",
    "    start = time.time() \n",
    "    print(\"`%s` started\" % func.__name__) \n",
    "    result = func(*args, **argv) \n",
    "    print(\"`%s` finished in %.2fs\" % (func.__name__, time.time() - start)) \n",
    "return result \n",
    "\n",
    "return wrapper"
   ]
  },
  {
   "cell_type": "code",
   "execution_count": null,
   "metadata": {
    "collapsed": true
   },
   "outputs": [],
   "source": []
  }
 ],
 "metadata": {
  "kernelspec": {
   "display_name": "Python 3",
   "language": "python",
   "name": "python3"
  },
  "language_info": {
   "codemirror_mode": {
    "name": "ipython",
    "version": 3
   },
   "file_extension": ".py",
   "mimetype": "text/x-python",
   "name": "python",
   "nbconvert_exporter": "python",
   "pygments_lexer": "ipython3",
   "version": "3.6.1"
  }
 },
 "nbformat": 4,
 "nbformat_minor": 2
}
